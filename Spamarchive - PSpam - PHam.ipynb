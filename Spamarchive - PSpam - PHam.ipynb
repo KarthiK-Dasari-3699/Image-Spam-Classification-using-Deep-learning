{
 "cells": [
  {
   "cell_type": "code",
   "execution_count": 2,
   "metadata": {
    "colab": {},
    "colab_type": "code",
    "id": "AKI-7a14PpNN"
   },
   "outputs": [],
   "source": [
    "import os, shutil\n",
    "import numpy as np\n",
    "\n",
    "from matplotlib import image, pyplot\n",
    "from skimage.transform import resize\n",
    "\n",
    "\n",
    "from tensorflow.keras.utils import to_categorical\n",
    "from tensorflow.keras.models import Sequential, Model\n",
    "from tensorflow.keras.layers import Conv2D,MaxPool2D,Dense,Flatten,Dropout\n",
    "\n",
    "from tensorflow.keras import callbacks\n",
    "from keras.callbacks import ModelCheckpoint, ReduceLROnPlateau, CSVLogger\n",
    "\n",
    "from sklearn.model_selection import train_test_split\n",
    "from sklearn.metrics import confusion_matrix,accuracy_score, precision_score, f1_score, recall_score,classification_report,roc_curve, auc \n",
    "from sklearn.utils import class_weight\n",
    "\n",
    "from sklearn.linear_model import LogisticRegression\n",
    "from sklearn.naive_bayes import GaussianNB\n",
    "from sklearn.neighbors import KNeighborsClassifier\n",
    "from sklearn.tree import DecisionTreeClassifier\n",
    "from sklearn.ensemble import AdaBoostClassifier, RandomForestClassifier\n",
    "from sklearn.svm import SVC\n",
    "from sklearn import svm\n",
    "from PIL import Image,ImageFile"
   ]
  },
  {
   "cell_type": "code",
   "execution_count": 3,
   "metadata": {
    "colab": {},
    "colab_type": "code",
    "id": "pGHxzhfC9Hcw"
   },
   "outputs": [],
   "source": [
    "resultPath = 'C:/Users/HP/Downloads/Results'\n",
    "#train_folder = os.listdir(DATA_PATH).remove(\"New_Spam\")"
   ]
  },
  {
   "cell_type": "code",
   "execution_count": 4,
   "metadata": {
    "colab": {
     "base_uri": "https://localhost:8080/",
     "height": 68
    },
    "colab_type": "code",
    "id": "4CEFGdqcmsqx",
    "outputId": "7cc1989d-4064-405e-f279-566d88005b6f"
   },
   "outputs": [
    {
     "name": "stdout",
     "output_type": "stream",
     "text": [
      ">>>Reading  personal_image_ham\n",
      ">>>Reading  personal_image_spam\n",
      ">>>Reading  spam_archive\n"
     ]
    }
   ],
   "source": [
    "DATA_PATH = \"C:/Users/HP/Downloads/spam_ph_ps/\"\n",
    "spamData=[]\n",
    "label=[]\n",
    "hashList=[]\n",
    "count=-1\n",
    "i = 0\n",
    "for folder in os.listdir(DATA_PATH):\n",
    "    print(\">>>Reading \",folder)\n",
    "    count+=1\n",
    "    i = i+1\n",
    "    if i <=2 :\n",
    "        for file in os.listdir(DATA_PATH+folder):\n",
    "            if(str(file).endswith('.jpg') or str(file).endswith('.JPG') or str(file).endswith('.jpeg') or str(file).endswith('.JPEG')or str(file).endswith('.PNG')or str(file).endswith('.png') or str(file).endswith('.bmp')or str(file).endswith('.BMP')):\n",
    "                ImageFile.LOAD_TRUNCATED_IMAGES = True\n",
    "                try:\n",
    "                    img = image.imread(DATA_PATH+folder+'/'+file)\n",
    "                except:\n",
    "                    continue\n",
    "                hsh = hash(tuple(np.array(img).flatten()))\n",
    "                if(hsh not in hashList):\n",
    "                    spamData.append(resize(img, (156, 156, 3)))\n",
    "                    hashList.append(hsh)\n",
    "                    label.append(count)\n",
    "    else:\n",
    "        for file in os.listdir(DATA_PATH+folder):\n",
    "            if(str(file).endswith('.PNG')or str(file).endswith('.png') or str(file).endswith('.bmp')or str(file).endswith('.BMP')):\n",
    "                ImageFile.LOAD_TRUNCATED_IMAGES = True\n",
    "                try:\n",
    "                    img = image.imread(DATA_PATH+folder+'/'+file)\n",
    "                except:\n",
    "                    continue\n",
    "                hsh = hash(tuple(np.array(img).flatten()))\n",
    "                if(hsh not in hashList):\n",
    "                    spamData.append(resize(img, (156, 156, 3)))\n",
    "                    hashList.append(hsh)\n",
    "                    label.append(count)\n",
    "spamData=np.array(spamData)\n",
    "label=np.array(label)"
   ]
  },
  {
   "cell_type": "code",
   "execution_count": 5,
   "metadata": {
    "colab": {
     "base_uri": "https://localhost:8080/",
     "height": 51
    },
    "colab_type": "code",
    "id": "EHSoNhbjfT_b",
    "outputId": "b879c796-24b9-4d7b-e736-9bd9fe63bac9"
   },
   "outputs": [
    {
     "name": "stdout",
     "output_type": "stream",
     "text": [
      "Number of HAM 1519\n",
      "Number of SPAM 1266\n",
      "Number of SPAM_ar 3941\n"
     ]
    }
   ],
   "source": [
    "print(\"Number of HAM\",len(label[label==0]))\n",
    "print(\"Number of SPAM\",len(label[label==1]))\n",
    "print(\"Number of SPAM_ar\",len(label[label==2]))"
   ]
  },
  {
   "cell_type": "code",
   "execution_count": 6,
   "metadata": {
    "colab": {
     "base_uri": "https://localhost:8080/",
     "height": 34
    },
    "colab_type": "code",
    "id": "TbHVzhMYpfSR",
    "outputId": "c5f70e4a-4aac-4632-9cbf-2e7c17d580c8"
   },
   "outputs": [
    {
     "name": "stdout",
     "output_type": "stream",
     "text": [
      "Spam data shape :  (6726, 156, 156, 3)  Label shape :  (6726,)\n"
     ]
    }
   ],
   "source": [
    "print(\"Spam data shape : \",spamData.shape,\" Label shape : \",label.shape)"
   ]
  },
  {
   "cell_type": "code",
   "execution_count": 7,
   "metadata": {
    "colab": {},
    "colab_type": "code",
    "id": "pPed_TbTpfUy"
   },
   "outputs": [],
   "source": [
    "test_valid_Percentage = 0.3\n",
    "x_train,x_test,y_train,y_test = train_test_split(spamData,label,test_size = test_valid_Percentage,random_state=42, stratify=label,shuffle=True)"
   ]
  },
  {
   "cell_type": "code",
   "execution_count": 8,
   "metadata": {
    "colab": {
     "base_uri": "https://localhost:8080/",
     "height": 51
    },
    "colab_type": "code",
    "id": "yKCQLA9KpfXP",
    "outputId": "58d520cb-f173-47f4-e87d-38a4278ce87e"
   },
   "outputs": [
    {
     "name": "stdout",
     "output_type": "stream",
     "text": [
      "x_train shape :  (4708, 156, 156, 3)  y_train shape :  (4708,)\n",
      "x_test shape :  (2018, 156, 156, 3)  y_test shape :  (2018,)\n"
     ]
    }
   ],
   "source": [
    "print(\"x_train shape : \",x_train.shape,\" y_train shape : \",y_train.shape)\n",
    "print(\"x_test shape : \",x_test.shape,\" y_test shape : \",y_test.shape)"
   ]
  },
  {
   "cell_type": "code",
   "execution_count": 9,
   "metadata": {
    "colab": {
     "base_uri": "https://localhost:8080/",
     "height": 85
    },
    "colab_type": "code",
    "id": "YTwLFvg1gFcU",
    "outputId": "d6c04f80-cd43-4724-b3a4-b47a5246baa4"
   },
   "outputs": [
    {
     "name": "stdout",
     "output_type": "stream",
     "text": [
      "Number of train SPAM 1063\n",
      "Number of train HAM 886\n",
      "Number of test SPAM 456\n",
      "Number of test HAM 380\n"
     ]
    }
   ],
   "source": [
    "print(\"Number of train SPAM\",len(y_train[y_train==0]))\n",
    "print(\"Number of train HAM\",len(y_train[y_train==1]))\n",
    "\n",
    "print(\"Number of test SPAM\",len(y_test[y_test==0]))\n",
    "print(\"Number of test HAM\",len(y_test[y_test==1]))"
   ]
  },
  {
   "cell_type": "code",
   "execution_count": 10,
   "metadata": {
    "colab": {
     "base_uri": "https://localhost:8080/",
     "height": 34
    },
    "colab_type": "code",
    "id": "H-IQht0NpfZv",
    "outputId": "a56d6aee-5b2a-402d-bd8c-165176778e3a"
   },
   "outputs": [
    {
     "name": "stdout",
     "output_type": "stream",
     "text": [
      "y_train_oh shape :  (4708, 3)  y_test_oh shape :  (2018, 3)\n"
     ]
    }
   ],
   "source": [
    "y_train_oh = to_categorical(y_train)\n",
    "y_test_oh = to_categorical(y_test)\n",
    "\n",
    "print(\"y_train_oh shape : \",y_train_oh.shape,\" y_test_oh shape : \",y_test_oh.shape)"
   ]
  },
  {
   "cell_type": "code",
   "execution_count": 17,
   "metadata": {
    "colab": {
     "base_uri": "https://localhost:8080/",
     "height": 493
    },
    "colab_type": "code",
    "id": "nTY9h-XlpfcV",
    "outputId": "efa8c1ca-d5c1-4847-f2e1-120a20ad2041"
   },
   "outputs": [
    {
     "name": "stdout",
     "output_type": "stream",
     "text": [
      "Model: \"sequential_2\"\n",
      "_________________________________________________________________\n",
      "Layer (type)                 Output Shape              Param #   \n",
      "=================================================================\n",
      "conv2d_6 (Conv2D)            (None, 156, 156, 32)      896       \n",
      "_________________________________________________________________\n",
      "max_pooling2d_4 (MaxPooling2 (None, 78, 78, 32)        0         \n",
      "_________________________________________________________________\n",
      "conv2d_7 (Conv2D)            (None, 78, 78, 64)        18496     \n",
      "_________________________________________________________________\n",
      "max_pooling2d_5 (MaxPooling2 (None, 39, 39, 64)        0         \n",
      "_________________________________________________________________\n",
      "conv2d_8 (Conv2D)            (None, 39, 39, 128)       73856     \n",
      "_________________________________________________________________\n",
      "dropout_4 (Dropout)          (None, 39, 39, 128)       0         \n",
      "_________________________________________________________________\n",
      "flatten_2 (Flatten)          (None, 194688)            0         \n",
      "_________________________________________________________________\n",
      "dense_4 (Dense)              (None, 128)               24920192  \n",
      "_________________________________________________________________\n",
      "dropout_5 (Dropout)          (None, 128)               0         \n",
      "_________________________________________________________________\n",
      "dense_5 (Dense)              (None, 3)                 387       \n",
      "=================================================================\n",
      "Total params: 25,013,827\n",
      "Trainable params: 25,013,827\n",
      "Non-trainable params: 0\n",
      "_________________________________________________________________\n"
     ]
    }
   ],
   "source": [
    "NO_OF_EPOCHS=10\n",
    "BATCH_SIZE=128\n",
    "\n",
    "model=Sequential()\n",
    "model.add(Conv2D(32,kernel_size=3, padding='same',activation='relu',input_shape=(156, 156,3)))\n",
    "model.add(MaxPool2D(pool_size=(2, 2)))\n",
    "model.add(Conv2D(64,kernel_size=3, padding='same',activation='relu'))\n",
    "model.add(MaxPool2D(pool_size=(2, 2)))\n",
    "model.add(Conv2D(128,kernel_size=3, padding='same',activation='relu'))\n",
    "model.add(Dropout(0.1))\n",
    "model.add(Flatten())\n",
    "model.add(Dense(128,activation='relu'))\n",
    "model.add(Dropout(0.1))\n",
    "model.add(Dense(3,activation='softmax'))\n",
    "model.summary()\n",
    "model.compile(loss='categorical_crossentropy', optimizer='adam',metrics=['accuracy'])"
   ]
  },
  {
   "cell_type": "code",
   "execution_count": 18,
   "metadata": {
    "colab": {
     "base_uri": "https://localhost:8080/",
     "height": 1000
    },
    "colab_type": "code",
    "id": "1FaifFXAtiGd",
    "outputId": "d0e0d45f-4300-465b-817d-dbc44cd1cdb6"
   },
   "outputs": [
    {
     "name": "stdout",
     "output_type": "stream",
     "text": [
      "Epoch 1/10\n",
      "37/37 [==============================] - 76s 2s/step - loss: 1.6407 - accuracy: 0.5852 - val_loss: 0.6948 - val_accuracy: 0.6794\n",
      "Epoch 2/10\n",
      "37/37 [==============================] - 69s 2s/step - loss: 0.5690 - accuracy: 0.7613 - val_loss: 0.4208 - val_accuracy: 0.8340\n",
      "Epoch 3/10\n",
      "37/37 [==============================] - 78s 2s/step - loss: 0.3744 - accuracy: 0.8632 - val_loss: 0.3744 - val_accuracy: 0.8642\n",
      "Epoch 4/10\n",
      "37/37 [==============================] - 70s 2s/step - loss: 0.2935 - accuracy: 0.8934 - val_loss: 0.3475 - val_accuracy: 0.8608\n",
      "Epoch 5/10\n",
      "37/37 [==============================] - 68s 2s/step - loss: 0.2407 - accuracy: 0.9106 - val_loss: 0.3174 - val_accuracy: 0.8796\n",
      "Epoch 6/10\n",
      "37/37 [==============================] - 70s 2s/step - loss: 0.1976 - accuracy: 0.9314 - val_loss: 0.3622 - val_accuracy: 0.8875\n",
      "Epoch 7/10\n",
      "37/37 [==============================] - 70s 2s/step - loss: 0.1678 - accuracy: 0.9401 - val_loss: 0.3271 - val_accuracy: 0.8826\n",
      "Epoch 8/10\n",
      "37/37 [==============================] - 69s 2s/step - loss: 0.1250 - accuracy: 0.9567 - val_loss: 0.3462 - val_accuracy: 0.8989\n",
      "Epoch 9/10\n",
      "37/37 [==============================] - 70s 2s/step - loss: 0.0899 - accuracy: 0.9705 - val_loss: 0.3923 - val_accuracy: 0.8900\n",
      "Epoch 10/10\n",
      "37/37 [==============================] - 74s 2s/step - loss: 0.0820 - accuracy: 0.9711 - val_loss: 0.4059 - val_accuracy: 0.9068\n"
     ]
    },
    {
     "data": {
      "text/plain": [
       "<tensorflow.python.keras.callbacks.History at 0x1e6821e3088>"
      ]
     },
     "execution_count": 18,
     "metadata": {},
     "output_type": "execute_result"
    }
   ],
   "source": [
    "#checkpointer = callbacks.ModelCheckpoint(filepath=resultPath+\"/checkpoint-{epoch:04d}.hdf5\", verbose=1, save_best_only=True, monitor='val_acc',mode='max')\n",
    "#csv_logger = CSVLogger(resultPath+'/result_logger.csv',separator=',', append=False)\n",
    "reduce_lr = ReduceLROnPlateau(monitor='acc', factor=0.2, patience=2, min_lr=0.001)\n",
    "model.fit(x_train,y_train_oh,epochs=NO_OF_EPOCHS,verbose=1,batch_size=BATCH_SIZE,validation_split = 0.2)"
   ]
  },
  {
   "cell_type": "code",
   "execution_count": 19,
   "metadata": {
    "colab": {
     "base_uri": "https://localhost:8080/",
     "height": 34
    },
    "colab_type": "code",
    "id": "EvadX63Gtkml",
    "outputId": "09a641cb-4d93-463f-c1c1-d49a8ed0860a"
   },
   "outputs": [
    {
     "name": "stdout",
     "output_type": "stream",
     "text": [
      "64/64 [==============================] - 7s 100ms/step\n"
     ]
    }
   ],
   "source": [
    "prediction_prob1 = model.predict(x_test,verbose=1)\n",
    "y_pred=np.round(prediction_prob1)"
   ]
  },
  {
   "cell_type": "code",
   "execution_count": 36,
   "metadata": {},
   "outputs": [],
   "source": [
    "from mlxtend.plotting import plot_confusion_matrix\n",
    "import matplotlib.pyplot as plt\n"
   ]
  },
  {
   "cell_type": "code",
   "execution_count": 41,
   "metadata": {},
   "outputs": [
    {
     "data": {
      "image/png": "[encoded data removed]",
      "text/plain": [
       "<Figure size 648x432 with 1 Axes>"
      ]
     },
     "metadata": {
      "needs_background": "light"
     },
     "output_type": "display_data"
    }
   ],
   "source": [
    "labels= ['HAM', 'SPAM', 'SPAM_ar']\n",
    "cf = confusion_matrix(y_test_oh.argmax(axis = 1),y_pred.argmax(axis = 1))\n",
    "fig, ax = plot_confusion_matrix(conf_mat=cf, figsize=(9, 6), cmap=plt.cm.Blues)\n",
    "plt.xlabel('Prediction', fontsize=20)\n",
    "plt.ylabel('Actual', fontsize=20)\n",
    "plt.title('Confusion Matrix', fontsize=20)\n",
    "plt.show()"
   ]
  },
  {
   "cell_type": "code",
   "execution_count": 42,
   "metadata": {
    "colab": {
     "base_uri": "https://localhost:8080/",
     "height": 272
    },
    "colab_type": "code",
    "id": "D1wc57zEtl0O",
    "outputId": "eba4223e-549f-4d8a-aaf3-45c857d7344f"
   },
   "outputs": [
    {
     "name": "stdout",
     "output_type": "stream",
     "text": [
      "0.902378592666006\n",
      "0.9108641124772393\n",
      "0.902378592666006\n",
      "0.9061865774959323\n",
      "              precision    recall  f1-score   support\n",
      "\n",
      "           0       0.82      0.87      0.85       456\n",
      "           1       0.95      0.87      0.91       380\n",
      "           2       0.93      0.93      0.93      1182\n",
      "\n",
      "   micro avg       0.91      0.90      0.91      2018\n",
      "   macro avg       0.90      0.89      0.89      2018\n",
      "weighted avg       0.91      0.90      0.91      2018\n",
      " samples avg       0.90      0.90      0.90      2018\n",
      "\n"
     ]
    },
    {
     "name": "stderr",
     "output_type": "stream",
     "text": [
      "C:\\Users\\NITISH\\Anaconda3\\lib\\site-packages\\sklearn\\metrics\\classification.py:1437: UndefinedMetricWarning: Precision and F-score are ill-defined and being set to 0.0 in samples with no predicted labels.\n",
      "  'precision', 'predicted', average, warn_for)\n"
     ]
    }
   ],
   "source": [
    "print(accuracy_score(y_test_oh,y_pred))\n",
    "print(precision_score(y_test_oh,y_pred,average='weighted'))\n",
    "print(recall_score(y_test_oh,y_pred,average='weighted'))\n",
    "print(f1_score(y_test_oh,y_pred,average='weighted'))\n",
    "#print(confusion_matrix(y_test_oh,y_pred))\n",
    "print(classification_report(y_test_oh,y_pred))"
   ]
  },
  {
   "cell_type": "code",
   "execution_count": 43,
   "metadata": {
    "colab": {
     "base_uri": "https://localhost:8080/",
     "height": 34
    },
    "colab_type": "code",
    "id": "wtYscnD7t5bs",
    "outputId": "632a2526-9d6d-41f1-d540-5a310eb8a841"
   },
   "outputs": [
    {
     "name": "stdout",
     "output_type": "stream",
     "text": [
      "[1.47632487 1.77125658 0.56880512]\n"
     ]
    }
   ],
   "source": [
    "class_weights = class_weight.compute_class_weight('balanced',\n",
    "                                                 classes = np.unique(y_train),\n",
    "                                                 y = y_train)\n",
    "print(class_weights)"
   ]
  },
  {
   "cell_type": "code",
   "execution_count": 44,
   "metadata": {
    "colab": {
     "base_uri": "https://localhost:8080/",
     "height": 493
    },
    "colab_type": "code",
    "id": "buYFGuIP-kyf",
    "outputId": "8ef33720-d5d5-4b81-9055-ccbc03bd5ce8"
   },
   "outputs": [
    {
     "name": "stdout",
     "output_type": "stream",
     "text": [
      "Model: \"sequential_4\"\n",
      "_________________________________________________________________\n",
      "Layer (type)                 Output Shape              Param #   \n",
      "=================================================================\n",
      "conv2d_12 (Conv2D)           (None, 156, 156, 32)      896       \n",
      "_________________________________________________________________\n",
      "max_pooling2d_8 (MaxPooling2 (None, 78, 78, 32)        0         \n",
      "_________________________________________________________________\n",
      "conv2d_13 (Conv2D)           (None, 78, 78, 64)        18496     \n",
      "_________________________________________________________________\n",
      "max_pooling2d_9 (MaxPooling2 (None, 39, 39, 64)        0         \n",
      "_________________________________________________________________\n",
      "conv2d_14 (Conv2D)           (None, 39, 39, 128)       73856     \n",
      "_________________________________________________________________\n",
      "dropout_8 (Dropout)          (None, 39, 39, 128)       0         \n",
      "_________________________________________________________________\n",
      "flatten_4 (Flatten)          (None, 194688)            0         \n",
      "_________________________________________________________________\n",
      "dense_8 (Dense)              (None, 128)               24920192  \n",
      "_________________________________________________________________\n",
      "dropout_9 (Dropout)          (None, 128)               0         \n",
      "_________________________________________________________________\n",
      "dense_9 (Dense)              (None, 3)                 387       \n",
      "=================================================================\n",
      "Total params: 25,013,827\n",
      "Trainable params: 25,013,827\n",
      "Non-trainable params: 0\n",
      "_________________________________________________________________\n"
     ]
    }
   ],
   "source": [
    "model1=Sequential()\n",
    "model1.add(Conv2D(32,kernel_size=3, padding='same',activation='relu',input_shape=(156, 156,3)))\n",
    "model1.add(MaxPool2D(pool_size=(2, 2)))\n",
    "model1.add(Conv2D(64,kernel_size=3, padding='same',activation='relu'))\n",
    "model1.add(MaxPool2D(pool_size=(2, 2)))\n",
    "model1.add(Conv2D(128,kernel_size=3, padding='same',activation='relu'))\n",
    "model1.add(Dropout(0.1))\n",
    "model1.add(Flatten())\n",
    "model1.add(Dense(128,activation='relu'))\n",
    "model1.add(Dropout(0.1))\n",
    "model1.add(Dense(3,activation='softmax'))\n",
    "model1.summary()\n",
    "model1.compile(loss='categorical_crossentropy', optimizer='adam',metrics=['accuracy'])"
   ]
  },
  {
   "cell_type": "code",
   "execution_count": 45,
   "metadata": {
    "colab": {
     "base_uri": "https://localhost:8080/",
     "height": 1000
    },
    "colab_type": "code",
    "id": "1tzYvf96-3BJ",
    "outputId": "aab82b38-0d2d-4f9f-fd71-10538a8d94f1"
   },
   "outputs": [
    {
     "name": "stdout",
     "output_type": "stream",
     "text": [
      "Epoch 1/10\n",
      "37/37 [==============================] - 76s 2s/step - loss: 1.1947 - accuracy: 0.6349 - val_loss: 0.5781 - val_accuracy: 0.8033\n",
      "Epoch 2/10\n",
      "37/37 [==============================] - 72s 2s/step - loss: 0.4379 - accuracy: 0.8375 - val_loss: 0.3760 - val_accuracy: 0.8573\n",
      "Epoch 3/10\n",
      "37/37 [==============================] - 69s 2s/step - loss: 0.2972 - accuracy: 0.8879 - val_loss: 0.3355 - val_accuracy: 0.8776\n",
      "Epoch 4/10\n",
      "37/37 [==============================] - 69s 2s/step - loss: 0.2363 - accuracy: 0.9133 - val_loss: 0.3245 - val_accuracy: 0.8860\n",
      "Epoch 5/10\n",
      "37/37 [==============================] - 71s 2s/step - loss: 0.1733 - accuracy: 0.9420 - val_loss: 0.2964 - val_accuracy: 0.8959\n",
      "Epoch 6/10\n",
      "37/37 [==============================] - 70s 2s/step - loss: 0.1444 - accuracy: 0.9490 - val_loss: 0.3229 - val_accuracy: 0.9039\n",
      "Epoch 7/10\n",
      "37/37 [==============================] - 67s 2s/step - loss: 0.0993 - accuracy: 0.9681 - val_loss: 0.3478 - val_accuracy: 0.8940\n",
      "Epoch 8/10\n",
      "37/37 [==============================] - 67s 2s/step - loss: 0.0838 - accuracy: 0.9722 - val_loss: 0.3552 - val_accuracy: 0.8999\n",
      "Epoch 9/10\n",
      "37/37 [==============================] - 67s 2s/step - loss: 0.0585 - accuracy: 0.9822 - val_loss: 0.3637 - val_accuracy: 0.8994\n",
      "Epoch 10/10\n",
      "37/37 [==============================] - 69s 2s/step - loss: 0.0435 - accuracy: 0.9851 - val_loss: 0.4062 - val_accuracy: 0.8979\n"
     ]
    },
    {
     "data": {
      "text/plain": [
       "<tensorflow.python.keras.callbacks.History at 0x1e68f9f2588>"
      ]
     },
     "execution_count": 45,
     "metadata": {},
     "output_type": "execute_result"
    }
   ],
   "source": [
    "#checkpointer = callbacks.ModelCheckpoint(filepath=resultPath+\"/checkpoint-{epoch:04d}.hdf5\", verbose=1, save_best_only=True, monitor='val_acc',mode='max')\n",
    "#csv_logger = CSVLogger(resultPath+'/result_logger.csv',separator=',', append=False)\n",
    "#reduce_lr = ReduceLROnPlateau(monitor='acc', factor=0.2, patience=2, min_lr=0.001)\n",
    "model1.fit(x_train,y_train_oh,epochs=NO_OF_EPOCHS,verbose=1,class_weights = class_weights,\n",
    "           batch_size=BATCH_SIZE,validation_split = 0.2)"
   ]
  },
  {
   "cell_type": "code",
   "execution_count": 46,
   "metadata": {
    "colab": {
     "base_uri": "https://localhost:8080/",
     "height": 34
    },
    "colab_type": "code",
    "id": "mpqSui9qISJL",
    "outputId": "a4b11335-35e0-4bef-f3a0-a3245734f233"
   },
   "outputs": [
    {
     "name": "stdout",
     "output_type": "stream",
     "text": [
      "64/64 [==============================] - 7s 105ms/step\n"
     ]
    }
   ],
   "source": [
    "prediction_prob = model1.predict(x_test,verbose=1)\n",
    "y_pred=np.round(prediction_prob)"
   ]
  },
  {
   "cell_type": "code",
   "execution_count": 47,
   "metadata": {},
   "outputs": [
    {
     "data": {
      "image/png": "[encoded data removed]",
      "text/plain": [
       "<Figure size 648x432 with 1 Axes>"
      ]
     },
     "metadata": {
      "needs_background": "light"
     },
     "output_type": "display_data"
    }
   ],
   "source": [
    "labels= ['HAM', 'SPAM', 'SPAM_ar']\n",
    "cf = confusion_matrix(y_test_oh.argmax(axis = 1),y_pred.argmax(axis = 1))\n",
    "fig, ax = plot_confusion_matrix(conf_mat=cf, figsize=(9, 6), cmap=plt.cm.Blues)\n",
    "plt.xlabel('Prediction', fontsize=20)\n",
    "plt.ylabel('Actual', fontsize=20)\n",
    "plt.title('Confusion Matrix', fontsize=20)\n",
    "plt.show()"
   ]
  },
  {
   "cell_type": "code",
   "execution_count": 49,
   "metadata": {
    "colab": {
     "base_uri": "https://localhost:8080/",
     "height": 272
    },
    "colab_type": "code",
    "id": "iV6K0pu1IX9a",
    "outputId": "bcdb649e-337c-415a-c5f4-2c1767a79d92"
   },
   "outputs": [
    {
     "name": "stdout",
     "output_type": "stream",
     "text": [
      "0.8944499504459861\n",
      "0.9041937003994218\n",
      "0.8944499504459861\n",
      "0.8992346932273748\n",
      "              precision    recall  f1-score   support\n",
      "\n",
      "           0       0.84      0.81      0.82       456\n",
      "           1       0.91      0.91      0.91       380\n",
      "           2       0.93      0.92      0.93      1182\n",
      "\n",
      "   micro avg       0.90      0.89      0.90      2018\n",
      "   macro avg       0.89      0.88      0.89      2018\n",
      "weighted avg       0.90      0.89      0.90      2018\n",
      " samples avg       0.89      0.89      0.89      2018\n",
      "\n"
     ]
    }
   ],
   "source": [
    "print(accuracy_score(y_test_oh,y_pred))\n",
    "print(precision_score(y_test_oh,y_pred,average='weighted'))\n",
    "print(recall_score(y_test_oh,y_pred,average='weighted'))\n",
    "print(f1_score(y_test_oh,y_pred,average='weighted'))\n",
    "#print(confusion_matrix(y_test_oh,y_pred))\n",
    "print(classification_report(y_test_oh,y_pred))"
   ]
  },
  {
   "cell_type": "code",
   "execution_count": 52,
   "metadata": {
    "colab": {},
    "colab_type": "code",
    "id": "nDj9uwZWJBBf"
   },
   "outputs": [],
   "source": [
    "m1model = Model(inputs=model.input,outputs=model.get_layer('dense_4').output)\n",
    "m2model = Model(inputs=model1.input,outputs=model1.get_layer('dense_8').output)"
   ]
  },
  {
   "cell_type": "code",
   "execution_count": 53,
   "metadata": {
    "colab": {
     "base_uri": "https://localhost:8080/",
     "height": 85
    },
    "colab_type": "code",
    "id": "J6dHPeHrNKXj",
    "outputId": "668de787-daf2-4eca-af69-29914aa49bf0"
   },
   "outputs": [
    {
     "name": "stdout",
     "output_type": "stream",
     "text": [
      "148/148 [==============================] - 15s 100ms/step\n",
      "64/64 [==============================] - 6s 98ms/step\n",
      "148/148 [==============================] - 15s 104ms/step\n",
      "64/64 [==============================] - 7s 110ms/step\n"
     ]
    }
   ],
   "source": [
    "m1_x_train = m1model.predict(x_train,verbose=1)\n",
    "m1_x_test = m1model.predict(x_test,verbose=1)\n",
    "\n",
    "m2_x_train = m2model.predict(x_train,verbose=1)\n",
    "m2_x_test = m2model.predict(x_test,verbose=1)"
   ]
  },
  {
   "cell_type": "code",
   "execution_count": 54,
   "metadata": {
    "colab": {
     "base_uri": "https://localhost:8080/",
     "height": 51
    },
    "colab_type": "code",
    "id": "rOWwASaINooU",
    "outputId": "09566efc-abdc-4e80-c21b-50bb8c0e3d1a"
   },
   "outputs": [
    {
     "name": "stdout",
     "output_type": "stream",
     "text": [
      "Shape of model1 Train and Test DF :  (4708, 128)  :  (2018, 128)\n",
      "Shape of model2 Train and Test DF :  (4708, 128)  :  (2018, 128)\n"
     ]
    }
   ],
   "source": [
    "print(\"Shape of model1 Train and Test DF : \",m1_x_train.shape,\" : \",m1_x_test.shape)\n",
    "print(\"Shape of model2 Train and Test DF : \",m2_x_train.shape,\" : \",m2_x_test.shape)"
   ]
  },
  {
   "cell_type": "code",
   "execution_count": 55,
   "metadata": {
    "colab": {},
    "colab_type": "code",
    "id": "-tc4PGZgOOnl"
   },
   "outputs": [],
   "source": [
    "def printMetrics(true,pred):\n",
    "    print(\"Accuracy : \",accuracy_score(true, pred))\n",
    "    print(\"Precision\",precision_score(true, pred , average=\"weighted\"))\n",
    "    print(\"Recall : \",recall_score(true, pred , average=\"weighted\"))\n",
    "    print(\"F1-score : \",f1_score(true, pred, average=\"weighted\"))\n",
    "    print(\"Confusion Matrix : \")\n",
    "    print(confusion_matrix(true, pred))\n",
    "    print(classification_report(true,pred))"
   ]
  },
  {
   "cell_type": "code",
   "execution_count": 58,
   "metadata": {
    "colab": {
     "base_uri": "https://localhost:8080/",
     "height": 595
    },
    "colab_type": "code",
    "id": "gYyDSr-KU75W",
    "outputId": "73b881a5-d2e5-488f-a034-9ff2cfb0032a"
   },
   "outputs": [
    {
     "name": "stdout",
     "output_type": "stream",
     "text": [
      "cost-insensitive\n",
      "Accuracy :  0.8909811694747275\n",
      "Precision 0.8924948925402137\n",
      "Recall :  0.8909811694747275\n",
      "F1-score :  0.891551787765997\n",
      "Confusion Matrix : \n",
      "[[ 387   24   45]\n",
      " [  13  332   35]\n",
      " [  81   22 1079]]\n",
      "              precision    recall  f1-score   support\n",
      "\n",
      "           0       0.80      0.85      0.83       456\n",
      "           1       0.88      0.87      0.88       380\n",
      "           2       0.93      0.91      0.92      1182\n",
      "\n",
      "    accuracy                           0.89      2018\n",
      "   macro avg       0.87      0.88      0.87      2018\n",
      "weighted avg       0.89      0.89      0.89      2018\n",
      "\n",
      "cost-sensitive\n",
      "Accuracy :  0.8845391476709613\n",
      "Precision 0.8840613714804549\n",
      "Recall :  0.8845391476709613\n",
      "F1-score :  0.8842361944105096\n",
      "Confusion Matrix : \n",
      "[[ 360   13   83]\n",
      " [  11  339   30]\n",
      " [  75   21 1086]]\n",
      "              precision    recall  f1-score   support\n",
      "\n",
      "           0       0.81      0.79      0.80       456\n",
      "           1       0.91      0.89      0.90       380\n",
      "           2       0.91      0.92      0.91      1182\n",
      "\n",
      "    accuracy                           0.88      2018\n",
      "   macro avg       0.87      0.87      0.87      2018\n",
      "weighted avg       0.88      0.88      0.88      2018\n",
      "\n"
     ]
    }
   ],
   "source": [
    "DT = DecisionTreeClassifier()\n",
    "DT.fit(m1_x_train, y_train)\n",
    "DTprob = DT.predict_proba(m1_x_test)\n",
    "y_pred = DT.predict(m1_x_test)\n",
    "print(\"cost-insensitive\")\n",
    "printMetrics(y_test,y_pred)\n",
    "\n",
    "DT = DecisionTreeClassifier()\n",
    "DT.fit(m2_x_train, y_train)\n",
    "CS_DTprob = DT.predict_proba(m2_x_test)\n",
    "y_pred = DT.predict(m2_x_test)\n",
    "print(\"cost-sensitive\")\n",
    "printMetrics(y_test,y_pred)"
   ]
  },
  {
   "cell_type": "code",
   "execution_count": 59,
   "metadata": {
    "colab": {
     "base_uri": "https://localhost:8080/",
     "height": 595
    },
    "colab_type": "code",
    "id": "Vn0NQGd1VJuV",
    "outputId": "cdd80a30-0187-47a4-94a6-27a7bd7a7059"
   },
   "outputs": [
    {
     "name": "stdout",
     "output_type": "stream",
     "text": [
      "cost-insensitive\n",
      "Accuracy :  0.9117938553022795\n",
      "Precision 0.913930776343422\n",
      "Recall :  0.9117938553022795\n",
      "F1-score :  0.9124819212916877\n",
      "Confusion Matrix : \n",
      "[[ 404    5   47]\n",
      " [  13  346   21]\n",
      " [  75   17 1090]]\n",
      "              precision    recall  f1-score   support\n",
      "\n",
      "           0       0.82      0.89      0.85       456\n",
      "           1       0.94      0.91      0.93       380\n",
      "           2       0.94      0.92      0.93      1182\n",
      "\n",
      "    accuracy                           0.91      2018\n",
      "   macro avg       0.90      0.91      0.90      2018\n",
      "weighted avg       0.91      0.91      0.91      2018\n",
      "\n",
      "cost-sensitive\n",
      "Accuracy :  0.9033696729435085\n",
      "Precision 0.90672529650597\n",
      "Recall :  0.9033696729435085\n",
      "F1-score :  0.9043987578817015\n",
      "Confusion Matrix : \n",
      "[[ 402    8   46]\n",
      " [  14  344   22]\n",
      " [  88   17 1077]]\n",
      "              precision    recall  f1-score   support\n",
      "\n",
      "           0       0.80      0.88      0.84       456\n",
      "           1       0.93      0.91      0.92       380\n",
      "           2       0.94      0.91      0.93      1182\n",
      "\n",
      "    accuracy                           0.90      2018\n",
      "   macro avg       0.89      0.90      0.89      2018\n",
      "weighted avg       0.91      0.90      0.90      2018\n",
      "\n"
     ]
    }
   ],
   "source": [
    "\n",
    "KNN = KNeighborsClassifier()\n",
    "KNN.fit(m1_x_train, y_train)\n",
    "KNNprob = KNN.predict_proba(m1_x_test)\n",
    "y_pred = KNN.predict(m1_x_test)\n",
    "print(\"cost-insensitive\")\n",
    "printMetrics(y_test,y_pred)\n",
    "\n",
    "KNN = KNeighborsClassifier()\n",
    "KNN.fit(m2_x_train, y_train)\n",
    "CS_KNNprob = KNN.predict_proba(m2_x_test)\n",
    "y_pred = KNN.predict(m2_x_test)\n",
    "print(\"cost-sensitive\")\n",
    "printMetrics(y_test,y_pred)"
   ]
  },
  {
   "cell_type": "code",
   "execution_count": 60,
   "metadata": {
    "colab": {
     "base_uri": "https://localhost:8080/",
     "height": 595
    },
    "colab_type": "code",
    "id": "YI-AnbGXVLA8",
    "outputId": "17ab714f-4605-4546-e3db-b487daad1b59"
   },
   "outputs": [
    {
     "name": "stdout",
     "output_type": "stream",
     "text": [
      "cost-insensitive\n",
      "Accuracy :  0.8711595639246779\n",
      "Precision 0.8754389173215109\n",
      "Recall :  0.8711595639246779\n",
      "F1-score :  0.871441157418556\n",
      "Confusion Matrix : \n",
      "[[ 341   56   59]\n",
      " [  14  348   18]\n",
      " [  60   53 1069]]\n",
      "              precision    recall  f1-score   support\n",
      "\n",
      "           0       0.82      0.75      0.78       456\n",
      "           1       0.76      0.92      0.83       380\n",
      "           2       0.93      0.90      0.92      1182\n",
      "\n",
      "    accuracy                           0.87      2018\n",
      "   macro avg       0.84      0.86      0.84      2018\n",
      "weighted avg       0.88      0.87      0.87      2018\n",
      "\n",
      "cost-sensitive\n",
      "Accuracy :  0.8939544103072349\n",
      "Precision 0.8970208070884306\n",
      "Recall :  0.8939544103072349\n",
      "F1-score :  0.8948071655653344\n",
      "Confusion Matrix : \n",
      "[[ 383   30   43]\n",
      " [  12  352   16]\n",
      " [  82   31 1069]]\n",
      "              precision    recall  f1-score   support\n",
      "\n",
      "           0       0.80      0.84      0.82       456\n",
      "           1       0.85      0.93      0.89       380\n",
      "           2       0.95      0.90      0.93      1182\n",
      "\n",
      "    accuracy                           0.89      2018\n",
      "   macro avg       0.87      0.89      0.88      2018\n",
      "weighted avg       0.90      0.89      0.89      2018\n",
      "\n"
     ]
    }
   ],
   "source": [
    "\n",
    "GNB = GaussianNB()\n",
    "GNB.fit(m1_x_train, y_train)\n",
    "GNBprob = GNB.predict_proba(m1_x_test)\n",
    "y_pred = GNB.predict(m1_x_test)\n",
    "print(\"cost-insensitive\")\n",
    "printMetrics(y_test,y_pred)\n",
    "\n",
    "GNB = GaussianNB()\n",
    "GNB.fit(m2_x_train, y_train)\n",
    "CS_GNBprob = GNB.predict_proba(m2_x_test)\n",
    "y_pred = GNB.predict(m2_x_test)\n",
    "print(\"cost-sensitive\")\n",
    "printMetrics(y_test,y_pred)"
   ]
  },
  {
   "cell_type": "code",
   "execution_count": 61,
   "metadata": {
    "colab": {
     "base_uri": "https://localhost:8080/",
     "height": 595
    },
    "colab_type": "code",
    "id": "RmPbNRrIVLDj",
    "outputId": "9a39e468-d571-489c-e480-9be2e62e402e"
   },
   "outputs": [
    {
     "name": "stdout",
     "output_type": "stream",
     "text": [
      "cost-insensitive\n",
      "Accuracy :  0.8954410307234886\n",
      "Precision 0.8976056752387782\n",
      "Recall :  0.8954410307234886\n",
      "F1-score :  0.8960721712579647\n",
      "Confusion Matrix : \n",
      "[[ 394   11   51]\n",
      " [  19  328   33]\n",
      " [  79   18 1085]]\n",
      "              precision    recall  f1-score   support\n",
      "\n",
      "           0       0.80      0.86      0.83       456\n",
      "           1       0.92      0.86      0.89       380\n",
      "           2       0.93      0.92      0.92      1182\n",
      "\n",
      "    accuracy                           0.90      2018\n",
      "   macro avg       0.88      0.88      0.88      2018\n",
      "weighted avg       0.90      0.90      0.90      2018\n",
      "\n",
      "cost-sensitive\n",
      "Accuracy :  0.900396432111001\n",
      "Precision 0.9011176275203491\n",
      "Recall :  0.900396432111001\n",
      "F1-score :  0.9006969779478888\n",
      "Confusion Matrix : \n",
      "[[ 385   14   57]\n",
      " [   9  343   28]\n",
      " [  76   17 1089]]\n",
      "              precision    recall  f1-score   support\n",
      "\n",
      "           0       0.82      0.84      0.83       456\n",
      "           1       0.92      0.90      0.91       380\n",
      "           2       0.93      0.92      0.92      1182\n",
      "\n",
      "    accuracy                           0.90      2018\n",
      "   macro avg       0.89      0.89      0.89      2018\n",
      "weighted avg       0.90      0.90      0.90      2018\n",
      "\n"
     ]
    }
   ],
   "source": [
    "AB = AdaBoostClassifier()\n",
    "AB.fit(m1_x_train, y_train)\n",
    "ABprob = AB.predict_proba(m1_x_test)\n",
    "y_pred = AB.predict(m1_x_test)\n",
    "print(\"cost-insensitive\")\n",
    "printMetrics(y_test,y_pred)\n",
    "\n",
    "AB = AdaBoostClassifier()\n",
    "AB.fit(m2_x_train, y_train)\n",
    "CS_ABprob = AB.predict_proba(m2_x_test)\n",
    "y_pred = AB.predict(m2_x_test)\n",
    "print(\"cost-sensitive\")\n",
    "printMetrics(y_test,y_pred)"
   ]
  },
  {
   "cell_type": "code",
   "execution_count": 62,
   "metadata": {
    "colab": {
     "base_uri": "https://localhost:8080/",
     "height": 595
    },
    "colab_type": "code",
    "id": "6v8X2z4fVLGG",
    "outputId": "e2a34aea-7a63-43b1-b7a2-1c9a6c6d913f"
   },
   "outputs": [
    {
     "name": "stdout",
     "output_type": "stream",
     "text": [
      "cost-insensitive\n",
      "Accuracy :  0.8979187314172448\n",
      "Precision 0.900192296213126\n",
      "Recall :  0.8979187314172448\n",
      "F1-score :  0.8986966281319301\n",
      "Confusion Matrix : \n",
      "[[ 394   19   43]\n",
      " [  13  340   27]\n",
      " [  83   21 1078]]\n",
      "              precision    recall  f1-score   support\n",
      "\n",
      "           0       0.80      0.86      0.83       456\n",
      "           1       0.89      0.89      0.89       380\n",
      "           2       0.94      0.91      0.93      1182\n",
      "\n",
      "    accuracy                           0.90      2018\n",
      "   macro avg       0.88      0.89      0.88      2018\n",
      "weighted avg       0.90      0.90      0.90      2018\n",
      "\n",
      "cost-sensitive\n",
      "Accuracy :  0.8979187314172448\n",
      "Precision 0.8994269057508762\n",
      "Recall :  0.8979187314172448\n",
      "F1-score :  0.8984452539035216\n",
      "Confusion Matrix : \n",
      "[[ 383   21   52]\n",
      " [  11  350   19]\n",
      " [  80   23 1079]]\n",
      "              precision    recall  f1-score   support\n",
      "\n",
      "           0       0.81      0.84      0.82       456\n",
      "           1       0.89      0.92      0.90       380\n",
      "           2       0.94      0.91      0.93      1182\n",
      "\n",
      "    accuracy                           0.90      2018\n",
      "   macro avg       0.88      0.89      0.88      2018\n",
      "weighted avg       0.90      0.90      0.90      2018\n",
      "\n"
     ]
    }
   ],
   "source": [
    "LSVM = svm.SVC(kernel='linear',probability=True)\n",
    "LSVM.fit(m1_x_train, y_train)\n",
    "LSVMprob = LSVM.predict_proba(m1_x_test)\n",
    "y_pred = LSVM.predict(m1_x_test)\n",
    "print(\"cost-insensitive\")\n",
    "printMetrics(y_test,y_pred)\n",
    "\n",
    "LSVM = svm.SVC(kernel='linear',probability=True)\n",
    "LSVM.fit(m2_x_train, y_train)\n",
    "CS_LSVMprob = LSVM.predict_proba(m2_x_test)\n",
    "y_pred = LSVM.predict(m2_x_test)\n",
    "print(\"cost-sensitive\")\n",
    "printMetrics(y_test,y_pred)"
   ]
  }
 ],
 "metadata": {
  "accelerator": "GPU",
  "colab": {
   "collapsed_sections": [],
   "name": "Image_spam_hunter",
   "provenance": []
  },
  "kernelspec": {
   "display_name": "Python 3 (ipykernel)",
   "language": "python",
   "name": "python3"
  },
  "language_info": {
   "codemirror_mode": {
    "name": "ipython",
    "version": 3
   },
   "file_extension": ".py",
   "mimetype": "text/x-python",
   "name": "python",
   "nbconvert_exporter": "python",
   "pygments_lexer": "ipython3",
   "version": "3.9.7"
  }
 },
 "nbformat": 4,
 "nbformat_minor": 1
}
