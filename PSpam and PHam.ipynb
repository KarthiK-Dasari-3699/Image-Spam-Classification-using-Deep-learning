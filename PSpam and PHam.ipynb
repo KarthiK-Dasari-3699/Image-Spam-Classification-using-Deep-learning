{
 "cells": [
  {
   "cell_type": "code",
   "execution_count": 1,
   "metadata": {
    "colab": {},
    "colab_type": "code",
    "id": "AKI-7a14PpNN"
   },
   "outputs": [],
   "source": [
    "import os, shutil\n",
    "import numpy as np\n",
    "\n",
    "from matplotlib import image, pyplot\n",
    "from skimage.transform import resize\n",
    "\n",
    "\n",
    "from tensorflow.keras.utils import to_categorical\n",
    "from keras.models import Sequential, Model\n",
    "from keras.layers import Conv2D,MaxPool2D,Dense,Flatten,Dropout\n",
    "\n",
    "from keras import callbacks\n",
    "from keras.callbacks import ModelCheckpoint, ReduceLROnPlateau, CSVLogger\n",
    "\n",
    "from sklearn.model_selection import train_test_split\n",
    "from sklearn.metrics import confusion_matrix,accuracy_score, precision_score, f1_score, recall_score,classification_report,roc_curve, auc \n",
    "from sklearn.utils import class_weight\n",
    "\n",
    "from sklearn.linear_model import LogisticRegression\n",
    "from sklearn.naive_bayes import GaussianNB\n",
    "from sklearn.neighbors import KNeighborsClassifier\n",
    "from sklearn.tree import DecisionTreeClassifier\n",
    "from sklearn.ensemble import AdaBoostClassifier, RandomForestClassifier\n",
    "from sklearn.svm import SVC\n",
    "from sklearn import svm\n"
   ]
  },
  {
   "cell_type": "code",
   "execution_count": 40,
   "metadata": {
    "colab": {},
    "colab_type": "code",
    "id": "pGHxzhfC9Hcw"
   },
   "outputs": [],
   "source": [
    "resultPath = 'C:/Users/HP/Downloads/Results/CNN'\n",
    "train_folder = os.listdir(DATA_PATH).remove(\"New_Spam\")"
   ]
  },
  {
   "cell_type": "code",
   "execution_count": 96,
   "metadata": {
    "colab": {
     "base_uri": "https://localhost:8080/",
     "height": 68
    },
    "colab_type": "code",
    "id": "4CEFGdqcmsqx",
    "outputId": "7cc1989d-4064-405e-f279-566d88005b6f"
   },
   "outputs": [
    {
     "name": "stdout",
     "output_type": "stream",
     "text": [
      ">>>Reading  personal_image_ham\n",
      ">>>Reading  personal_image_spam\n"
     ]
    }
   ],
   "source": [
    "DATA_PATH = \"C:/Users/HP/Downloads/derdze_image_spam_dataset/\"\n",
    "spamData=[]\n",
    "label=[]\n",
    "hashList=[]\n",
    "count=-1\n",
    "for folder in os.listdir(DATA_PATH):\n",
    "    print(\">>>Reading \",folder)\n",
    "    count+=1\n",
    "    \n",
    "    for file in os.listdir(DATA_PATH+folder):\n",
    "        if(str(file).endswith('.jpg') or str(file).endswith('.JPG') or str(file).endswith('.jpeg') or str(file).endswith('.JPEG')or str(file).endswith('.PNG')or str(file).endswith('.png') or str(file).endswith('.bmp')or str(file).endswith('.BMP')):\n",
    "            img = image.imread(DATA_PATH+folder+'/'+file)\n",
    "            hsh = hash(tuple(np.array(img).flatten()))\n",
    "            if(hsh not in hashList):\n",
    "                spamData.append(resize(img, (156, 156, 3)))\n",
    "                hashList.append(hsh)\n",
    "                label.append(count)\n",
    "spamData=np.array(spamData)\n",
    "label=np.array(label)"
   ]
  },
  {
   "cell_type": "code",
   "execution_count": 97,
   "metadata": {
    "colab": {
     "base_uri": "https://localhost:8080/",
     "height": 51
    },
    "colab_type": "code",
    "id": "EHSoNhbjfT_b",
    "outputId": "b879c796-24b9-4d7b-e736-9bd9fe63bac9"
   },
   "outputs": [
    {
     "name": "stdout",
     "output_type": "stream",
     "text": [
      "Number of HAM 1519\n",
      "Number of SPAM 1266\n"
     ]
    }
   ],
   "source": [
    "print(\"Number of HAM\",len(label[label==0]))\n",
    "print(\"Number of SPAM\",len(label[label==1]))"
   ]
  },
  {
   "cell_type": "code",
   "execution_count": 98,
   "metadata": {
    "colab": {
     "base_uri": "https://localhost:8080/",
     "height": 34
    },
    "colab_type": "code",
    "id": "TbHVzhMYpfSR",
    "outputId": "c5f70e4a-4aac-4632-9cbf-2e7c17d580c8"
   },
   "outputs": [
    {
     "name": "stdout",
     "output_type": "stream",
     "text": [
      "Spam data shape :  (2785, 156, 156, 3)  Label shape :  (2785,)\n"
     ]
    }
   ],
   "source": [
    "print(\"Spam data shape : \",spamData.shape,\" Label shape : \",label.shape)"
   ]
  },
  {
   "cell_type": "code",
   "execution_count": 99,
   "metadata": {
    "colab": {},
    "colab_type": "code",
    "id": "pPed_TbTpfUy"
   },
   "outputs": [],
   "source": [
    "test_valid_Percentage = 0.3\n",
    "x_train,x_test,y_train,y_test = train_test_split(spamData,label,test_size = test_valid_Percentage,random_state=42, stratify=label,shuffle=True)"
   ]
  },
  {
   "cell_type": "code",
   "execution_count": 100,
   "metadata": {
    "colab": {
     "base_uri": "https://localhost:8080/",
     "height": 51
    },
    "colab_type": "code",
    "id": "yKCQLA9KpfXP",
    "outputId": "58d520cb-f173-47f4-e87d-38a4278ce87e"
   },
   "outputs": [
    {
     "name": "stdout",
     "output_type": "stream",
     "text": [
      "x_train shape :  (1949, 156, 156, 3)  y_train shape :  (1949,)\n",
      "x_test shape :  (836, 156, 156, 3)  y_test shape :  (836,)\n"
     ]
    }
   ],
   "source": [
    "print(\"x_train shape : \",x_train.shape,\" y_train shape : \",y_train.shape)\n",
    "print(\"x_test shape : \",x_test.shape,\" y_test shape : \",y_test.shape)"
   ]
  },
  {
   "cell_type": "code",
   "execution_count": 101,
   "metadata": {
    "colab": {
     "base_uri": "https://localhost:8080/",
     "height": 85
    },
    "colab_type": "code",
    "id": "YTwLFvg1gFcU",
    "outputId": "d6c04f80-cd43-4724-b3a4-b47a5246baa4"
   },
   "outputs": [
    {
     "name": "stdout",
     "output_type": "stream",
     "text": [
      "Number of train SPAM 1063\n",
      "Number of train HAM 886\n",
      "Number of test SPAM 456\n",
      "Number of test HAM 380\n"
     ]
    }
   ],
   "source": [
    "print(\"Number of train SPAM\",len(y_train[y_train==0]))\n",
    "print(\"Number of train HAM\",len(y_train[y_train==1]))\n",
    "\n",
    "print(\"Number of test SPAM\",len(y_test[y_test==0]))\n",
    "print(\"Number of test HAM\",len(y_test[y_test==1]))"
   ]
  },
  {
   "cell_type": "code",
   "execution_count": 102,
   "metadata": {
    "colab": {
     "base_uri": "https://localhost:8080/",
     "height": 34
    },
    "colab_type": "code",
    "id": "H-IQht0NpfZv",
    "outputId": "a56d6aee-5b2a-402d-bd8c-165176778e3a"
   },
   "outputs": [
    {
     "name": "stdout",
     "output_type": "stream",
     "text": [
      "y_train_oh shape :  (1949, 2)  y_test_oh shape :  (836, 2)\n"
     ]
    }
   ],
   "source": [
    "y_train_oh = to_categorical(y_train)\n",
    "y_test_oh = to_categorical(y_test)\n",
    "\n",
    "print(\"y_train_oh shape : \",y_train_oh.shape,\" y_test_oh shape : \",y_test_oh.shape)"
   ]
  },
  {
   "cell_type": "code",
   "execution_count": 103,
   "metadata": {
    "colab": {
     "base_uri": "https://localhost:8080/",
     "height": 493
    },
    "colab_type": "code",
    "id": "nTY9h-XlpfcV",
    "outputId": "efa8c1ca-d5c1-4847-f2e1-120a20ad2041"
   },
   "outputs": [
    {
     "name": "stdout",
     "output_type": "stream",
     "text": [
      "Model: \"sequential_2\"\n",
      "_________________________________________________________________\n",
      " Layer (type)                Output Shape              Param #   \n",
      "=================================================================\n",
      " conv2d_6 (Conv2D)           (None, 156, 156, 32)      896       \n",
      "                                                                 \n",
      " max_pooling2d_4 (MaxPooling  (None, 78, 78, 32)       0         \n",
      " 2D)                                                             \n",
      "                                                                 \n",
      " conv2d_7 (Conv2D)           (None, 78, 78, 64)        18496     \n",
      "                                                                 \n",
      " max_pooling2d_5 (MaxPooling  (None, 39, 39, 64)       0         \n",
      " 2D)                                                             \n",
      "                                                                 \n",
      " conv2d_8 (Conv2D)           (None, 39, 39, 128)       73856     \n",
      "                                                                 \n",
      " dropout_4 (Dropout)         (None, 39, 39, 128)       0         \n",
      "                                                                 \n",
      " flatten_2 (Flatten)         (None, 194688)            0         \n",
      "                                                                 \n",
      " dense_4 (Dense)             (None, 128)               24920192  \n",
      "                                                                 \n",
      " dropout_5 (Dropout)         (None, 128)               0         \n",
      "                                                                 \n",
      " dense_5 (Dense)             (None, 1)                 129       \n",
      "                                                                 \n",
      "=================================================================\n",
      "Total params: 25,013,569\n",
      "Trainable params: 25,013,569\n",
      "Non-trainable params: 0\n",
      "_________________________________________________________________\n"
     ]
    }
   ],
   "source": [
    "NO_OF_EPOCHS=20\n",
    "BATCH_SIZE=32\n",
    "\n",
    "model=Sequential()\n",
    "model.add(Conv2D(32,kernel_size=3, padding='same',activation='relu',input_shape=(156, 156,3)))\n",
    "model.add(MaxPool2D(pool_size=(2, 2)))\n",
    "model.add(Conv2D(64,kernel_size=3, padding='same',activation='relu'))\n",
    "model.add(MaxPool2D(pool_size=(2, 2)))\n",
    "model.add(Conv2D(128,kernel_size=3, padding='same',activation='relu'))\n",
    "model.add(Dropout(0.1))\n",
    "model.add(Flatten())\n",
    "model.add(Dense(128,activation='relu'))\n",
    "model.add(Dropout(0.1))\n",
    "model.add(Dense(1,activation='sigmoid'))\n",
    "model.summary()\n",
    "model.compile(loss='binary_crossentropy', optimizer='adam',metrics=['accuracy'])"
   ]
  },
  {
   "cell_type": "code",
   "execution_count": 104,
   "metadata": {
    "colab": {
     "base_uri": "https://localhost:8080/",
     "height": 1000
    },
    "colab_type": "code",
    "id": "1FaifFXAtiGd",
    "outputId": "d0e0d45f-4300-465b-817d-dbc44cd1cdb6"
   },
   "outputs": [
    {
     "name": "stdout",
     "output_type": "stream",
     "text": [
      "Epoch 1/20\n",
      "61/61 [==============================] - ETA: 0s - loss: 0.6243 - accuracy: 0.7953WARNING:tensorflow:Can save best model only with val_acc available, skipping.\n",
      "WARNING:tensorflow:Learning rate reduction is conditioned on metric `acc` which is not available. Available metrics are: loss,accuracy,val_loss,val_accuracy,lr\n",
      "61/61 [==============================] - 59s 905ms/step - loss: 0.6243 - accuracy: 0.7953 - val_loss: 0.4180 - val_accuracy: 0.8038 - lr: 0.0010\n",
      "Epoch 2/20\n",
      "61/61 [==============================] - ETA: 0s - loss: 0.3293 - accuracy: 0.8630WARNING:tensorflow:Can save best model only with val_acc available, skipping.\n",
      "WARNING:tensorflow:Learning rate reduction is conditioned on metric `acc` which is not available. Available metrics are: loss,accuracy,val_loss,val_accuracy,lr\n",
      "61/61 [==============================] - 57s 938ms/step - loss: 0.3293 - accuracy: 0.8630 - val_loss: 0.3417 - val_accuracy: 0.8995 - lr: 0.0010\n",
      "Epoch 3/20\n",
      "61/61 [==============================] - ETA: 0s - loss: 0.2541 - accuracy: 0.9102WARNING:tensorflow:Can save best model only with val_acc available, skipping.\n",
      "WARNING:tensorflow:Learning rate reduction is conditioned on metric `acc` which is not available. Available metrics are: loss,accuracy,val_loss,val_accuracy,lr\n",
      "61/61 [==============================] - 55s 902ms/step - loss: 0.2541 - accuracy: 0.9102 - val_loss: 0.2643 - val_accuracy: 0.9175 - lr: 0.0010\n",
      "Epoch 4/20\n",
      "61/61 [==============================] - ETA: 0s - loss: 0.2201 - accuracy: 0.9251WARNING:tensorflow:Can save best model only with val_acc available, skipping.\n",
      "WARNING:tensorflow:Learning rate reduction is conditioned on metric `acc` which is not available. Available metrics are: loss,accuracy,val_loss,val_accuracy,lr\n",
      "61/61 [==============================] - 56s 924ms/step - loss: 0.2201 - accuracy: 0.9251 - val_loss: 0.2913 - val_accuracy: 0.9163 - lr: 0.0010\n",
      "Epoch 5/20\n",
      "61/61 [==============================] - ETA: 0s - loss: 0.2265 - accuracy: 0.9220WARNING:tensorflow:Can save best model only with val_acc available, skipping.\n",
      "WARNING:tensorflow:Learning rate reduction is conditioned on metric `acc` which is not available. Available metrics are: loss,accuracy,val_loss,val_accuracy,lr\n",
      "61/61 [==============================] - 56s 920ms/step - loss: 0.2265 - accuracy: 0.9220 - val_loss: 0.2973 - val_accuracy: 0.9163 - lr: 0.0010\n",
      "Epoch 6/20\n",
      "61/61 [==============================] - ETA: 0s - loss: 0.1797 - accuracy: 0.9292WARNING:tensorflow:Can save best model only with val_acc available, skipping.\n",
      "WARNING:tensorflow:Learning rate reduction is conditioned on metric `acc` which is not available. Available metrics are: loss,accuracy,val_loss,val_accuracy,lr\n",
      "61/61 [==============================] - 55s 910ms/step - loss: 0.1797 - accuracy: 0.9292 - val_loss: 0.2838 - val_accuracy: 0.9079 - lr: 0.0010\n",
      "Epoch 7/20\n",
      "61/61 [==============================] - ETA: 0s - loss: 0.1784 - accuracy: 0.9297WARNING:tensorflow:Can save best model only with val_acc available, skipping.\n",
      "WARNING:tensorflow:Learning rate reduction is conditioned on metric `acc` which is not available. Available metrics are: loss,accuracy,val_loss,val_accuracy,lr\n",
      "61/61 [==============================] - 55s 910ms/step - loss: 0.1784 - accuracy: 0.9297 - val_loss: 0.2630 - val_accuracy: 0.9127 - lr: 0.0010\n",
      "Epoch 8/20\n",
      "61/61 [==============================] - ETA: 0s - loss: 0.1910 - accuracy: 0.9241WARNING:tensorflow:Can save best model only with val_acc available, skipping.\n",
      "WARNING:tensorflow:Learning rate reduction is conditioned on metric `acc` which is not available. Available metrics are: loss,accuracy,val_loss,val_accuracy,lr\n",
      "61/61 [==============================] - 55s 899ms/step - loss: 0.1910 - accuracy: 0.9241 - val_loss: 0.2142 - val_accuracy: 0.9402 - lr: 0.0010\n",
      "Epoch 9/20\n",
      "61/61 [==============================] - ETA: 0s - loss: 0.1419 - accuracy: 0.9441WARNING:tensorflow:Can save best model only with val_acc available, skipping.\n",
      "WARNING:tensorflow:Learning rate reduction is conditioned on metric `acc` which is not available. Available metrics are: loss,accuracy,val_loss,val_accuracy,lr\n",
      "61/61 [==============================] - 56s 919ms/step - loss: 0.1419 - accuracy: 0.9441 - val_loss: 0.2791 - val_accuracy: 0.9414 - lr: 0.0010\n",
      "Epoch 10/20\n",
      "61/61 [==============================] - ETA: 0s - loss: 0.1008 - accuracy: 0.9615WARNING:tensorflow:Can save best model only with val_acc available, skipping.\n",
      "WARNING:tensorflow:Learning rate reduction is conditioned on metric `acc` which is not available. Available metrics are: loss,accuracy,val_loss,val_accuracy,lr\n",
      "61/61 [==============================] - 54s 883ms/step - loss: 0.1008 - accuracy: 0.9615 - val_loss: 0.2082 - val_accuracy: 0.9474 - lr: 0.0010\n",
      "Epoch 11/20\n",
      "61/61 [==============================] - ETA: 0s - loss: 0.0797 - accuracy: 0.9718WARNING:tensorflow:Can save best model only with val_acc available, skipping.\n",
      "WARNING:tensorflow:Learning rate reduction is conditioned on metric `acc` which is not available. Available metrics are: loss,accuracy,val_loss,val_accuracy,lr\n",
      "61/61 [==============================] - 55s 909ms/step - loss: 0.0797 - accuracy: 0.9718 - val_loss: 0.2900 - val_accuracy: 0.9510 - lr: 0.0010\n",
      "Epoch 12/20\n",
      "61/61 [==============================] - ETA: 0s - loss: 0.0815 - accuracy: 0.9728WARNING:tensorflow:Can save best model only with val_acc available, skipping.\n",
      "WARNING:tensorflow:Learning rate reduction is conditioned on metric `acc` which is not available. Available metrics are: loss,accuracy,val_loss,val_accuracy,lr\n",
      "61/61 [==============================] - 57s 938ms/step - loss: 0.0815 - accuracy: 0.9728 - val_loss: 0.2963 - val_accuracy: 0.9462 - lr: 0.0010\n",
      "Epoch 13/20\n",
      "61/61 [==============================] - ETA: 0s - loss: 0.0755 - accuracy: 0.9733WARNING:tensorflow:Can save best model only with val_acc available, skipping.\n",
      "WARNING:tensorflow:Learning rate reduction is conditioned on metric `acc` which is not available. Available metrics are: loss,accuracy,val_loss,val_accuracy,lr\n",
      "61/61 [==============================] - 58s 948ms/step - loss: 0.0755 - accuracy: 0.9733 - val_loss: 0.3057 - val_accuracy: 0.9593 - lr: 0.0010\n",
      "Epoch 14/20\n",
      "61/61 [==============================] - ETA: 0s - loss: 0.0610 - accuracy: 0.9805WARNING:tensorflow:Can save best model only with val_acc available, skipping.\n",
      "WARNING:tensorflow:Learning rate reduction is conditioned on metric `acc` which is not available. Available metrics are: loss,accuracy,val_loss,val_accuracy,lr\n",
      "61/61 [==============================] - 58s 957ms/step - loss: 0.0610 - accuracy: 0.9805 - val_loss: 0.2834 - val_accuracy: 0.9581 - lr: 0.0010\n",
      "Epoch 15/20\n",
      "61/61 [==============================] - ETA: 0s - loss: 0.0586 - accuracy: 0.9785WARNING:tensorflow:Can save best model only with val_acc available, skipping.\n",
      "WARNING:tensorflow:Learning rate reduction is conditioned on metric `acc` which is not available. Available metrics are: loss,accuracy,val_loss,val_accuracy,lr\n",
      "61/61 [==============================] - 58s 950ms/step - loss: 0.0586 - accuracy: 0.9785 - val_loss: 0.3294 - val_accuracy: 0.9510 - lr: 0.0010\n",
      "Epoch 16/20\n",
      "61/61 [==============================] - ETA: 0s - loss: 0.0410 - accuracy: 0.9867WARNING:tensorflow:Can save best model only with val_acc available, skipping.\n",
      "WARNING:tensorflow:Learning rate reduction is conditioned on metric `acc` which is not available. Available metrics are: loss,accuracy,val_loss,val_accuracy,lr\n",
      "61/61 [==============================] - 57s 940ms/step - loss: 0.0410 - accuracy: 0.9867 - val_loss: 0.4810 - val_accuracy: 0.9366 - lr: 0.0010\n",
      "Epoch 17/20\n",
      "61/61 [==============================] - ETA: 0s - loss: 0.0303 - accuracy: 0.9897WARNING:tensorflow:Can save best model only with val_acc available, skipping.\n",
      "WARNING:tensorflow:Learning rate reduction is conditioned on metric `acc` which is not available. Available metrics are: loss,accuracy,val_loss,val_accuracy,lr\n",
      "61/61 [==============================] - 54s 883ms/step - loss: 0.0303 - accuracy: 0.9897 - val_loss: 0.3325 - val_accuracy: 0.9378 - lr: 0.0010\n",
      "Epoch 18/20\n",
      "61/61 [==============================] - ETA: 0s - loss: 0.0489 - accuracy: 0.9856WARNING:tensorflow:Can save best model only with val_acc available, skipping.\n",
      "WARNING:tensorflow:Learning rate reduction is conditioned on metric `acc` which is not available. Available metrics are: loss,accuracy,val_loss,val_accuracy,lr\n",
      "61/61 [==============================] - 54s 893ms/step - loss: 0.0489 - accuracy: 0.9856 - val_loss: 0.2788 - val_accuracy: 0.9569 - lr: 0.0010\n",
      "Epoch 19/20\n",
      "61/61 [==============================] - ETA: 0s - loss: 0.0441 - accuracy: 0.9831WARNING:tensorflow:Can save best model only with val_acc available, skipping.\n",
      "WARNING:tensorflow:Learning rate reduction is conditioned on metric `acc` which is not available. Available metrics are: loss,accuracy,val_loss,val_accuracy,lr\n",
      "61/61 [==============================] - 53s 871ms/step - loss: 0.0441 - accuracy: 0.9831 - val_loss: 0.2770 - val_accuracy: 0.9605 - lr: 0.0010\n",
      "Epoch 20/20\n",
      "61/61 [==============================] - ETA: 0s - loss: 0.0259 - accuracy: 0.9903WARNING:tensorflow:Can save best model only with val_acc available, skipping.\n",
      "WARNING:tensorflow:Learning rate reduction is conditioned on metric `acc` which is not available. Available metrics are: loss,accuracy,val_loss,val_accuracy,lr\n",
      "61/61 [==============================] - 56s 917ms/step - loss: 0.0259 - accuracy: 0.9903 - val_loss: 0.2674 - val_accuracy: 0.9653 - lr: 0.0010\n"
     ]
    },
    {
     "data": {
      "text/plain": [
       "<keras.callbacks.History at 0x1a8f016f670>"
      ]
     },
     "execution_count": 104,
     "metadata": {},
     "output_type": "execute_result"
    }
   ],
   "source": [
    "checkpointer = callbacks.ModelCheckpoint(filepath=resultPath+\"/checkpoint-{epoch:04d}.hdf5\", verbose=1, save_best_only=True, monitor='val_acc',mode='max')\n",
    "csv_logger = CSVLogger(resultPath+'/result_logger.csv',separator=',', append=False)\n",
    "reduce_lr = ReduceLROnPlateau(monitor='acc', factor=0.2, patience=2, min_lr=0.001)\n",
    "model.fit(x_train,y_train,epochs=NO_OF_EPOCHS,verbose=1,batch_size=BATCH_SIZE,validation_split = 0.2,callbacks=[checkpointer,csv_logger,reduce_lr])"
   ]
  },
  {
   "cell_type": "code",
   "execution_count": 105,
   "metadata": {
    "colab": {
     "base_uri": "https://localhost:8080/",
     "height": 34
    },
    "colab_type": "code",
    "id": "EvadX63Gtkml",
    "outputId": "09a641cb-4d93-463f-c1c1-d49a8ed0860a"
   },
   "outputs": [
    {
     "name": "stdout",
     "output_type": "stream",
     "text": [
      "27/27 [==============================] - 4s 160ms/step\n"
     ]
    }
   ],
   "source": [
    "prediction_prob1 = model.predict(x_test,verbose=1)\n",
    "y_pred=np.round(prediction_prob1)"
   ]
  },
  {
   "cell_type": "code",
   "execution_count": 106,
   "metadata": {
    "colab": {
     "base_uri": "https://localhost:8080/",
     "height": 272
    },
    "colab_type": "code",
    "id": "D1wc57zEtl0O",
    "outputId": "eba4223e-549f-4d8a-aaf3-45c857d7344f"
   },
   "outputs": [
    {
     "name": "stdout",
     "output_type": "stream",
     "text": [
      "0.965311004784689\n",
      "0.9808219178082191\n",
      "0.9421052631578948\n",
      "0.9610738255033557\n",
      "[[449   7]\n",
      " [ 22 358]]\n",
      "              precision    recall  f1-score   support\n",
      "\n",
      "           0       0.95      0.98      0.97       456\n",
      "           1       0.98      0.94      0.96       380\n",
      "\n",
      "    accuracy                           0.97       836\n",
      "   macro avg       0.97      0.96      0.96       836\n",
      "weighted avg       0.97      0.97      0.97       836\n",
      "\n"
     ]
    }
   ],
   "source": [
    "print(accuracy_score(y_test,y_pred))\n",
    "print(precision_score(y_test,y_pred,average='binary'))\n",
    "print(recall_score(y_test,y_pred,average='binary'))\n",
    "print(f1_score(y_test,y_pred,average='binary'))\n",
    "print(confusion_matrix(y_test,y_pred))\n",
    "print(classification_report(y_test,y_pred))"
   ]
  },
  {
   "cell_type": "code",
   "execution_count": 107,
   "metadata": {
    "colab": {
     "base_uri": "https://localhost:8080/",
     "height": 34
    },
    "colab_type": "code",
    "id": "wtYscnD7t5bs",
    "outputId": "632a2526-9d6d-41f1-d540-5a310eb8a841"
   },
   "outputs": [
    {
     "name": "stdout",
     "output_type": "stream",
     "text": [
      "[0.91674506 1.09988713]\n"
     ]
    },
    {
     "name": "stderr",
     "output_type": "stream",
     "text": [
      "D:\\anaconda\\lib\\site-packages\\sklearn\\utils\\validation.py:70: FutureWarning: Pass classes=[0 1], y=[1 0 0 ... 1 0 0] as keyword args. From version 1.0 (renaming of 0.25) passing these as positional arguments will result in an error\n",
      "  warnings.warn(f\"Pass {args_msg} as keyword args. From version \"\n"
     ]
    }
   ],
   "source": [
    "class_weights = class_weight.compute_class_weight('balanced',\n",
    "                                                 np.unique(y_train),\n",
    "                                                 y_train)\n",
    "print(class_weights)"
   ]
  },
  {
   "cell_type": "code",
   "execution_count": 108,
   "metadata": {
    "colab": {
     "base_uri": "https://localhost:8080/",
     "height": 493
    },
    "colab_type": "code",
    "id": "buYFGuIP-kyf",
    "outputId": "8ef33720-d5d5-4b81-9055-ccbc03bd5ce8"
   },
   "outputs": [
    {
     "name": "stdout",
     "output_type": "stream",
     "text": [
      "Model: \"sequential_1\"\n",
      "_________________________________________________________________\n",
      " Layer (type)                Output Shape              Param #   \n",
      "=================================================================\n",
      " conv2d_3 (Conv2D)           (None, 156, 156, 128)     3584      \n",
      "                                                                 \n",
      " max_pooling2d_2 (MaxPooling  (None, 39, 39, 128)      0         \n",
      " 2D)                                                             \n",
      "                                                                 \n",
      " conv2d_4 (Conv2D)           (None, 39, 39, 128)       147584    \n",
      "                                                                 \n",
      " max_pooling2d_3 (MaxPooling  (None, 13, 13, 128)      0         \n",
      " 2D)                                                             \n",
      "                                                                 \n",
      " conv2d_5 (Conv2D)           (None, 13, 13, 256)       295168    \n",
      "                                                                 \n",
      " dropout_2 (Dropout)         (None, 13, 13, 256)       0         \n",
      "                                                                 \n",
      " flatten_1 (Flatten)         (None, 43264)             0         \n",
      "                                                                 \n",
      " dense_2 (Dense)             (None, 128)               5537920   \n",
      "                                                                 \n",
      " dropout_3 (Dropout)         (None, 128)               0         \n",
      "                                                                 \n",
      " dense_3 (Dense)             (None, 2)                 258       \n",
      "                                                                 \n",
      "=================================================================\n",
      "Total params: 5,984,514\n",
      "Trainable params: 5,984,514\n",
      "Non-trainable params: 0\n",
      "_________________________________________________________________\n"
     ]
    }
   ],
   "source": [
    "model1=Sequential()\n",
    "model1.add(Conv2D(128,kernel_size=3, padding='same',activation='relu',input_shape=(156, 156,3)))\n",
    "model1.add(MaxPool2D(pool_size=(4, 4)))\n",
    "model1.add(Conv2D(128,kernel_size=3, padding='same',activation='relu'))\n",
    "model1.add(MaxPool2D(pool_size=(3, 3)))\n",
    "model1.add(Conv2D(256,kernel_size=3, padding='same',activation='relu'))\n",
    "model1.add(Dropout(0.1))\n",
    "model1.add(Flatten())\n",
    "model1.add(Dense(128,activation='relu'))\n",
    "model1.add(Dropout(0.1))\n",
    "model1.add(Dense(2,activation='softmax'))\n",
    "model1.summary()\n",
    "model1.compile(loss='binary_crossentropy', optimizer='adam',metrics=['accuracy'])"
   ]
  },
  {
   "cell_type": "code",
   "execution_count": 109,
   "metadata": {
    "colab": {
     "base_uri": "https://localhost:8080/",
     "height": 1000
    },
    "colab_type": "code",
    "id": "1tzYvf96-3BJ",
    "outputId": "aab82b38-0d2d-4f9f-fd71-10538a8d94f1"
   },
   "outputs": [
    {
     "name": "stdout",
     "output_type": "stream",
     "text": [
      "Epoch 1/20\n",
      "61/61 [==============================] - ETA: 0s - loss: 1.0070 - accuracy: 0.7665WARNING:tensorflow:Can save best model only with val_acc available, skipping.\n",
      "WARNING:tensorflow:Learning rate reduction is conditioned on metric `acc` which is not available. Available metrics are: loss,accuracy,val_loss,val_accuracy,lr\n",
      "61/61 [==============================] - 58s 936ms/step - loss: 1.0070 - accuracy: 0.7665 - val_loss: 0.3759 - val_accuracy: 0.8469 - lr: 0.0010\n",
      "Epoch 2/20\n",
      "61/61 [==============================] - ETA: 0s - loss: 0.3179 - accuracy: 0.8820WARNING:tensorflow:Can save best model only with val_acc available, skipping.\n",
      "WARNING:tensorflow:Learning rate reduction is conditioned on metric `acc` which is not available. Available metrics are: loss,accuracy,val_loss,val_accuracy,lr\n",
      "61/61 [==============================] - 54s 883ms/step - loss: 0.3179 - accuracy: 0.8820 - val_loss: 0.2993 - val_accuracy: 0.8911 - lr: 0.0010\n",
      "Epoch 3/20\n",
      "61/61 [==============================] - ETA: 0s - loss: 0.2568 - accuracy: 0.9061WARNING:tensorflow:Can save best model only with val_acc available, skipping.\n",
      "WARNING:tensorflow:Learning rate reduction is conditioned on metric `acc` which is not available. Available metrics are: loss,accuracy,val_loss,val_accuracy,lr\n",
      "61/61 [==============================] - 55s 904ms/step - loss: 0.2568 - accuracy: 0.9061 - val_loss: 0.2860 - val_accuracy: 0.8959 - lr: 0.0010\n",
      "Epoch 4/20\n",
      "61/61 [==============================] - ETA: 0s - loss: 0.2176 - accuracy: 0.9128WARNING:tensorflow:Can save best model only with val_acc available, skipping.\n",
      "WARNING:tensorflow:Learning rate reduction is conditioned on metric `acc` which is not available. Available metrics are: loss,accuracy,val_loss,val_accuracy,lr\n",
      "61/61 [==============================] - 59s 963ms/step - loss: 0.2176 - accuracy: 0.9128 - val_loss: 0.2477 - val_accuracy: 0.9115 - lr: 0.0010\n",
      "Epoch 5/20\n",
      "61/61 [==============================] - ETA: 0s - loss: 0.1836 - accuracy: 0.9287WARNING:tensorflow:Can save best model only with val_acc available, skipping.\n",
      "WARNING:tensorflow:Learning rate reduction is conditioned on metric `acc` which is not available. Available metrics are: loss,accuracy,val_loss,val_accuracy,lr\n",
      "61/61 [==============================] - 58s 953ms/step - loss: 0.1836 - accuracy: 0.9287 - val_loss: 0.2002 - val_accuracy: 0.9330 - lr: 0.0010\n",
      "Epoch 6/20\n",
      "61/61 [==============================] - ETA: 0s - loss: 0.1342 - accuracy: 0.9430WARNING:tensorflow:Can save best model only with val_acc available, skipping.\n",
      "WARNING:tensorflow:Learning rate reduction is conditioned on metric `acc` which is not available. Available metrics are: loss,accuracy,val_loss,val_accuracy,lr\n",
      "61/61 [==============================] - 58s 946ms/step - loss: 0.1342 - accuracy: 0.9430 - val_loss: 0.2839 - val_accuracy: 0.9510 - lr: 0.0010\n",
      "Epoch 7/20\n",
      "61/61 [==============================] - ETA: 0s - loss: 0.1206 - accuracy: 0.9528WARNING:tensorflow:Can save best model only with val_acc available, skipping.\n",
      "WARNING:tensorflow:Learning rate reduction is conditioned on metric `acc` which is not available. Available metrics are: loss,accuracy,val_loss,val_accuracy,lr\n",
      "61/61 [==============================] - 56s 926ms/step - loss: 0.1206 - accuracy: 0.9528 - val_loss: 0.2848 - val_accuracy: 0.9282 - lr: 0.0010\n",
      "Epoch 8/20\n",
      "61/61 [==============================] - ETA: 0s - loss: 0.1007 - accuracy: 0.9646WARNING:tensorflow:Can save best model only with val_acc available, skipping.\n",
      "WARNING:tensorflow:Learning rate reduction is conditioned on metric `acc` which is not available. Available metrics are: loss,accuracy,val_loss,val_accuracy,lr\n",
      "61/61 [==============================] - 54s 890ms/step - loss: 0.1007 - accuracy: 0.9646 - val_loss: 0.2521 - val_accuracy: 0.9414 - lr: 0.0010\n",
      "Epoch 9/20\n",
      "61/61 [==============================] - ETA: 0s - loss: 0.0751 - accuracy: 0.9774WARNING:tensorflow:Can save best model only with val_acc available, skipping.\n",
      "WARNING:tensorflow:Learning rate reduction is conditioned on metric `acc` which is not available. Available metrics are: loss,accuracy,val_loss,val_accuracy,lr\n",
      "61/61 [==============================] - 59s 966ms/step - loss: 0.0751 - accuracy: 0.9774 - val_loss: 0.1973 - val_accuracy: 0.9689 - lr: 0.0010\n",
      "Epoch 10/20\n",
      "61/61 [==============================] - ETA: 0s - loss: 0.0784 - accuracy: 0.9728WARNING:tensorflow:Can save best model only with val_acc available, skipping.\n",
      "WARNING:tensorflow:Learning rate reduction is conditioned on metric `acc` which is not available. Available metrics are: loss,accuracy,val_loss,val_accuracy,lr\n",
      "61/61 [==============================] - 56s 916ms/step - loss: 0.0784 - accuracy: 0.9728 - val_loss: 0.1805 - val_accuracy: 0.9533 - lr: 0.0010\n",
      "Epoch 11/20\n",
      "61/61 [==============================] - ETA: 0s - loss: 0.0617 - accuracy: 0.9790WARNING:tensorflow:Can save best model only with val_acc available, skipping.\n",
      "WARNING:tensorflow:Learning rate reduction is conditioned on metric `acc` which is not available. Available metrics are: loss,accuracy,val_loss,val_accuracy,lr\n",
      "61/61 [==============================] - 56s 913ms/step - loss: 0.0617 - accuracy: 0.9790 - val_loss: 0.1973 - val_accuracy: 0.9533 - lr: 0.0010\n",
      "Epoch 12/20\n",
      "61/61 [==============================] - ETA: 0s - loss: 0.0486 - accuracy: 0.9805WARNING:tensorflow:Can save best model only with val_acc available, skipping.\n",
      "WARNING:tensorflow:Learning rate reduction is conditioned on metric `acc` which is not available. Available metrics are: loss,accuracy,val_loss,val_accuracy,lr\n",
      "61/61 [==============================] - 55s 907ms/step - loss: 0.0486 - accuracy: 0.9805 - val_loss: 0.2112 - val_accuracy: 0.9569 - lr: 0.0010\n",
      "Epoch 13/20\n",
      "61/61 [==============================] - ETA: 0s - loss: 0.0466 - accuracy: 0.9836WARNING:tensorflow:Can save best model only with val_acc available, skipping.\n",
      "WARNING:tensorflow:Learning rate reduction is conditioned on metric `acc` which is not available. Available metrics are: loss,accuracy,val_loss,val_accuracy,lr\n",
      "61/61 [==============================] - 57s 940ms/step - loss: 0.0466 - accuracy: 0.9836 - val_loss: 0.3318 - val_accuracy: 0.9605 - lr: 0.0010\n",
      "Epoch 14/20\n",
      "61/61 [==============================] - ETA: 0s - loss: 0.0506 - accuracy: 0.9779WARNING:tensorflow:Can save best model only with val_acc available, skipping.\n",
      "WARNING:tensorflow:Learning rate reduction is conditioned on metric `acc` which is not available. Available metrics are: loss,accuracy,val_loss,val_accuracy,lr\n",
      "61/61 [==============================] - 56s 912ms/step - loss: 0.0506 - accuracy: 0.9779 - val_loss: 0.2601 - val_accuracy: 0.9545 - lr: 0.0010\n",
      "Epoch 15/20\n",
      "61/61 [==============================] - ETA: 0s - loss: 0.0538 - accuracy: 0.9872WARNING:tensorflow:Can save best model only with val_acc available, skipping.\n",
      "WARNING:tensorflow:Learning rate reduction is conditioned on metric `acc` which is not available. Available metrics are: loss,accuracy,val_loss,val_accuracy,lr\n",
      "61/61 [==============================] - 56s 920ms/step - loss: 0.0538 - accuracy: 0.9872 - val_loss: 0.1773 - val_accuracy: 0.9593 - lr: 0.0010\n",
      "Epoch 16/20\n",
      "61/61 [==============================] - ETA: 0s - loss: 0.0462 - accuracy: 0.9851WARNING:tensorflow:Can save best model only with val_acc available, skipping.\n",
      "WARNING:tensorflow:Learning rate reduction is conditioned on metric `acc` which is not available. Available metrics are: loss,accuracy,val_loss,val_accuracy,lr\n",
      "61/61 [==============================] - 57s 936ms/step - loss: 0.0462 - accuracy: 0.9851 - val_loss: 0.1996 - val_accuracy: 0.9450 - lr: 0.0010\n",
      "Epoch 17/20\n",
      "61/61 [==============================] - ETA: 0s - loss: 0.0210 - accuracy: 0.9918WARNING:tensorflow:Can save best model only with val_acc available, skipping.\n",
      "WARNING:tensorflow:Learning rate reduction is conditioned on metric `acc` which is not available. Available metrics are: loss,accuracy,val_loss,val_accuracy,lr\n",
      "61/61 [==============================] - 58s 949ms/step - loss: 0.0210 - accuracy: 0.9918 - val_loss: 0.2627 - val_accuracy: 0.9593 - lr: 0.0010\n",
      "Epoch 18/20\n",
      "61/61 [==============================] - ETA: 0s - loss: 0.0369 - accuracy: 0.9867WARNING:tensorflow:Can save best model only with val_acc available, skipping.\n",
      "WARNING:tensorflow:Learning rate reduction is conditioned on metric `acc` which is not available. Available metrics are: loss,accuracy,val_loss,val_accuracy,lr\n",
      "61/61 [==============================] - 57s 929ms/step - loss: 0.0369 - accuracy: 0.9867 - val_loss: 0.2112 - val_accuracy: 0.9450 - lr: 0.0010\n",
      "Epoch 19/20\n",
      "61/61 [==============================] - ETA: 0s - loss: 0.0726 - accuracy: 0.9733WARNING:tensorflow:Can save best model only with val_acc available, skipping.\n",
      "WARNING:tensorflow:Learning rate reduction is conditioned on metric `acc` which is not available. Available metrics are: loss,accuracy,val_loss,val_accuracy,lr\n",
      "61/61 [==============================] - 57s 944ms/step - loss: 0.0726 - accuracy: 0.9733 - val_loss: 0.1933 - val_accuracy: 0.9486 - lr: 0.0010\n",
      "Epoch 20/20\n",
      "61/61 [==============================] - ETA: 0s - loss: 0.0346 - accuracy: 0.9897WARNING:tensorflow:Can save best model only with val_acc available, skipping.\n",
      "WARNING:tensorflow:Learning rate reduction is conditioned on metric `acc` which is not available. Available metrics are: loss,accuracy,val_loss,val_accuracy,lr\n",
      "61/61 [==============================] - 57s 941ms/step - loss: 0.0346 - accuracy: 0.9897 - val_loss: 0.2097 - val_accuracy: 0.9641 - lr: 0.0010\n"
     ]
    },
    {
     "data": {
      "text/plain": [
       "<keras.callbacks.History at 0x1a8f2387b20>"
      ]
     },
     "execution_count": 109,
     "metadata": {},
     "output_type": "execute_result"
    }
   ],
   "source": [
    "checkpointer = callbacks.ModelCheckpoint(filepath=resultPath+\"/checkpoint-{epoch:04d}.hdf5\", verbose=1, save_best_only=True, monitor='val_acc',mode='max')\n",
    "csv_logger = CSVLogger(resultPath+'/result_logger.csv',separator=',', append=False)\n",
    "reduce_lr = ReduceLROnPlateau(monitor='acc', factor=0.2, patience=2, min_lr=0.001)\n",
    "model1.fit(x_train,y_train,epochs=NO_OF_EPOCHS,verbose=1,batch_size=BATCH_SIZE,class_weight=class_weights,validation_split = 0.2,callbacks=[checkpointer,csv_logger,reduce_lr])"
   ]
  },
  {
   "cell_type": "code",
   "execution_count": 110,
   "metadata": {
    "colab": {
     "base_uri": "https://localhost:8080/",
     "height": 34
    },
    "colab_type": "code",
    "id": "mpqSui9qISJL",
    "outputId": "a4b11335-35e0-4bef-f3a0-a3245734f233"
   },
   "outputs": [
    {
     "name": "stdout",
     "output_type": "stream",
     "text": [
      "27/27 [==============================] - 5s 170ms/step\n"
     ]
    }
   ],
   "source": [
    "prediction_prob = model1.predict(x_test,verbose=1)\n",
    "y_pred=np.round(prediction_prob)"
   ]
  },
  {
   "cell_type": "code",
   "execution_count": 111,
   "metadata": {
    "colab": {
     "base_uri": "https://localhost:8080/",
     "height": 272
    },
    "colab_type": "code",
    "id": "iV6K0pu1IX9a",
    "outputId": "bcdb649e-337c-415a-c5f4-2c1767a79d92"
   },
   "outputs": [
    {
     "name": "stdout",
     "output_type": "stream",
     "text": [
      "0.9641148325358851\n",
      "0.9605263157894737\n",
      "0.9605263157894737\n",
      "0.9605263157894737\n",
      "[[441  15]\n",
      " [ 15 365]]\n",
      "              precision    recall  f1-score   support\n",
      "\n",
      "           0       0.97      0.97      0.97       456\n",
      "           1       0.96      0.96      0.96       380\n",
      "\n",
      "    accuracy                           0.96       836\n",
      "   macro avg       0.96      0.96      0.96       836\n",
      "weighted avg       0.96      0.96      0.96       836\n",
      "\n"
     ]
    }
   ],
   "source": [
    "print(accuracy_score(y_test,y_pred))\n",
    "print(precision_score(y_test,y_pred,average='binary'))\n",
    "print(recall_score(y_test,y_pred,average='binary'))\n",
    "print(f1_score(y_test,y_pred,average='binary'))\n",
    "print(confusion_matrix(y_test,y_pred))\n",
    "print(classification_report(y_test,y_pred))"
   ]
  },
  {
   "cell_type": "code",
   "execution_count": 112,
   "metadata": {
    "colab": {
     "base_uri": "https://localhost:8080/",
     "height": 295
    },
    "colab_type": "code",
    "id": "F8IJ3-tlIany",
    "outputId": "e9b754f2-de57-4aeb-cd1f-0db5274f74c9"
   },
   "outputs": [
    {
     "data": {
      "image/png": "[encoded data removed]",
      "text/plain": [
       "<Figure size 432x288 with 1 Axes>"
      ]
     },
     "metadata": {
      "needs_background": "light"
     },
     "output_type": "display_data"
    }
   ],
   "source": [
    "\n",
    "fpr = dict()\n",
    "tpr = dict()\n",
    "roc_auc = dict()\n",
    "for i in range(2):\n",
    "    fpr[i], tpr[i], _ = roc_curve(y_test, prediction_prob)\n",
    "    roc_auc[i] = auc(fpr[i], tpr[i])\n",
    "\n",
    "\n",
    "pyplot.figure()\n",
    "pyplot.plot(fpr[0], tpr[0],color='blue', lw=1, label='CS-CNN - ROC curve (area = %0.2f)' % roc_auc[0])\n",
    "\n",
    "fpr = dict()\n",
    "tpr = dict()\n",
    "roc_auc = dict()\n",
    "for i in range(2):\n",
    "    fpr[i], tpr[i], _ = roc_curve(y_test, prediction_prob1)\n",
    "    roc_auc[i] = auc(fpr[i], tpr[i])\n",
    "pyplot.plot(fpr[0], tpr[0],color='darkorange', lw=1, label='CNN - ROC curve (area = %0.2f)' % roc_auc[0])\n",
    "pyplot.plot([0, 1], [0, 1], color='red', lw=1, linestyle='--')\n",
    "pyplot.xlim([0.0, 1.0])\n",
    "pyplot.ylim([0.0, 1.05])\n",
    "pyplot.xlabel('False Positive Rate')\n",
    "pyplot.ylabel('True Positive Rate')\n",
    "pyplot.title('CNN - Receiver operating characteristic')\n",
    "pyplot.legend(loc=\"lower right\")\n",
    "pyplot.show()"
   ]
  },
  {
   "cell_type": "code",
   "execution_count": 114,
   "metadata": {
    "colab": {},
    "colab_type": "code",
    "id": "nDj9uwZWJBBf"
   },
   "outputs": [],
   "source": [
    "m1model = Model(inputs=model.input,outputs=model.get_layer('dense_4').output)\n",
    "m2model = Model(inputs=model1.input,outputs=model1.get_layer('dense_6').output)"
   ]
  },
  {
   "cell_type": "code",
   "execution_count": 115,
   "metadata": {
    "colab": {
     "base_uri": "https://localhost:8080/",
     "height": 85
    },
    "colab_type": "code",
    "id": "J6dHPeHrNKXj",
    "outputId": "668de787-daf2-4eca-af69-29914aa49bf0"
   },
   "outputs": [
    {
     "name": "stdout",
     "output_type": "stream",
     "text": [
      "61/61 [==============================] - 11s 183ms/step\n",
      "27/27 [==============================] - 5s 193ms/step\n",
      "61/61 [==============================] - 12s 196ms/step\n",
      "27/27 [==============================] - 5s 180ms/step\n"
     ]
    }
   ],
   "source": [
    "m1_x_train = m1model.predict(x_train,verbose=1)\n",
    "m1_x_test = m1model.predict(x_test,verbose=1)\n",
    "\n",
    "m2_x_train = m2model.predict(x_train,verbose=1)\n",
    "m2_x_test = m2model.predict(x_test,verbose=1)"
   ]
  },
  {
   "cell_type": "code",
   "execution_count": 116,
   "metadata": {
    "colab": {
     "base_uri": "https://localhost:8080/",
     "height": 51
    },
    "colab_type": "code",
    "id": "rOWwASaINooU",
    "outputId": "09566efc-abdc-4e80-c21b-50bb8c0e3d1a"
   },
   "outputs": [
    {
     "name": "stdout",
     "output_type": "stream",
     "text": [
      "Shape of model1 Train and Test DF :  (1949, 128)  :  (836, 128)\n",
      "Shape of model2 Train and Test DF :  (1949, 128)  :  (836, 128)\n"
     ]
    }
   ],
   "source": [
    "print(\"Shape of model1 Train and Test DF : \",m1_x_train.shape,\" : \",m1_x_test.shape)\n",
    "print(\"Shape of model2 Train and Test DF : \",m2_x_train.shape,\" : \",m2_x_test.shape)"
   ]
  },
  {
   "cell_type": "code",
   "execution_count": 117,
   "metadata": {
    "colab": {},
    "colab_type": "code",
    "id": "-tc4PGZgOOnl"
   },
   "outputs": [],
   "source": [
    "def printMetrics(true,pred):\n",
    "    print(\"Accuracy : \",accuracy_score(true, pred))\n",
    "    print(\"Precision\",precision_score(true, pred , average=\"weighted\"))\n",
    "    print(\"Recall : \",recall_score(true, pred , average=\"weighted\"))\n",
    "    print(\"F1-score : \",f1_score(true, pred, average=\"weighted\"))\n",
    "    print(\"Confusion Matrix : \")\n",
    "    print(confusion_matrix(true, pred))\n",
    "    print(classification_report(true,pred))"
   ]
  },
  {
   "cell_type": "code",
   "execution_count": 118,
   "metadata": {
    "colab": {
     "base_uri": "https://localhost:8080/",
     "height": 683
    },
    "colab_type": "code",
    "id": "4alG-hj2N2Yf",
    "outputId": "fb901fc5-47d1-4ec4-a05a-59f901958693"
   },
   "outputs": [
    {
     "name": "stdout",
     "output_type": "stream",
     "text": [
      "cost-insensitive\n",
      "Accuracy :  0.9521531100478469\n",
      "Precision 0.9523096247448578\n",
      "Recall :  0.9521531100478469\n",
      "F1-score :  0.9521820665458381\n",
      "Confusion Matrix : \n",
      "[[433  23]\n",
      " [ 17 363]]\n",
      "              precision    recall  f1-score   support\n",
      "\n",
      "           0       0.96      0.95      0.96       456\n",
      "           1       0.94      0.96      0.95       380\n",
      "\n",
      "    accuracy                           0.95       836\n",
      "   macro avg       0.95      0.95      0.95       836\n",
      "weighted avg       0.95      0.95      0.95       836\n",
      "\n",
      "cost-sensitive\n",
      "Accuracy :  0.9593301435406698\n",
      "Precision 0.9593721786235155\n",
      "Recall :  0.9593301435406698\n",
      "F1-score :  0.9593012351633042\n",
      "Confusion Matrix : \n",
      "[[442  14]\n",
      " [ 20 360]]\n",
      "              precision    recall  f1-score   support\n",
      "\n",
      "           0       0.96      0.97      0.96       456\n",
      "           1       0.96      0.95      0.95       380\n",
      "\n",
      "    accuracy                           0.96       836\n",
      "   macro avg       0.96      0.96      0.96       836\n",
      "weighted avg       0.96      0.96      0.96       836\n",
      "\n"
     ]
    }
   ],
   "source": [
    "LR = LogisticRegression()\n",
    "LR.fit(m1_x_train, y_train)\n",
    "LRprob = LR.predict_proba(m1_x_test)\n",
    "y_pred = LR.predict(m1_x_test)\n",
    "print(\"cost-insensitive\")\n",
    "printMetrics(y_test,y_pred)\n",
    "\n",
    "LR = LogisticRegression()\n",
    "LR.fit(m2_x_train, y_train)\n",
    "CS_LRprob = LR.predict_proba(m2_x_test)\n",
    "y_pred = LR.predict(m2_x_test)\n",
    "print(\"cost-sensitive\")\n",
    "printMetrics(y_test,y_pred)"
   ]
  },
  {
   "cell_type": "code",
   "execution_count": 119,
   "metadata": {
    "colab": {
     "base_uri": "https://localhost:8080/",
     "height": 683
    },
    "colab_type": "code",
    "id": "3N7zMQB9UoOb",
    "outputId": "1e488a3f-bc10-4fd5-9d90-d2514d666383"
   },
   "outputs": [
    {
     "name": "stdout",
     "output_type": "stream",
     "text": [
      "cost-insensitive\n",
      "Accuracy :  0.9605263157894737\n",
      "Precision 0.9605242627555001\n",
      "Recall :  0.9605263157894737\n",
      "F1-score :  0.9605128094072808\n",
      "Confusion Matrix : \n",
      "[[441  15]\n",
      " [ 18 362]]\n",
      "              precision    recall  f1-score   support\n",
      "\n",
      "           0       0.96      0.97      0.96       456\n",
      "           1       0.96      0.95      0.96       380\n",
      "\n",
      "    accuracy                           0.96       836\n",
      "   macro avg       0.96      0.96      0.96       836\n",
      "weighted avg       0.96      0.96      0.96       836\n",
      "\n",
      "cost-sensitive\n",
      "Accuracy :  0.9581339712918661\n",
      "Precision 0.9581274311330951\n",
      "Recall :  0.9581339712918661\n",
      "F1-score :  0.9581293192893746\n",
      "Confusion Matrix : \n",
      "[[439  17]\n",
      " [ 18 362]]\n",
      "              precision    recall  f1-score   support\n",
      "\n",
      "           0       0.96      0.96      0.96       456\n",
      "           1       0.96      0.95      0.95       380\n",
      "\n",
      "    accuracy                           0.96       836\n",
      "   macro avg       0.96      0.96      0.96       836\n",
      "weighted avg       0.96      0.96      0.96       836\n",
      "\n"
     ]
    }
   ],
   "source": [
    "RF = RandomForestClassifier()\n",
    "RF.fit(m1_x_train, y_train)\n",
    "RFprob = RF.predict_proba(m1_x_test)\n",
    "y_pred = RF.predict(m1_x_test)\n",
    "print(\"cost-insensitive\")\n",
    "printMetrics(y_test,y_pred)\n",
    "\n",
    "RF = RandomForestClassifier()\n",
    "RF.fit(m2_x_train, y_train)\n",
    "CS_RFprob = RF.predict_proba(m2_x_test)\n",
    "y_pred = RF.predict(m2_x_test)\n",
    "print(\"cost-sensitive\")\n",
    "printMetrics(y_test,y_pred)"
   ]
  },
  {
   "cell_type": "code",
   "execution_count": 120,
   "metadata": {
    "colab": {
     "base_uri": "https://localhost:8080/",
     "height": 595
    },
    "colab_type": "code",
    "id": "gYyDSr-KU75W",
    "outputId": "73b881a5-d2e5-488f-a034-9ff2cfb0032a"
   },
   "outputs": [
    {
     "name": "stdout",
     "output_type": "stream",
     "text": [
      "cost-insensitive\n",
      "Accuracy :  0.9485645933014354\n",
      "Precision 0.9490001018838056\n",
      "Recall :  0.9485645933014354\n",
      "F1-score :  0.9486175339248233\n",
      "Confusion Matrix : \n",
      "[[429  27]\n",
      " [ 16 364]]\n",
      "              precision    recall  f1-score   support\n",
      "\n",
      "           0       0.96      0.94      0.95       456\n",
      "           1       0.93      0.96      0.94       380\n",
      "\n",
      "    accuracy                           0.95       836\n",
      "   macro avg       0.95      0.95      0.95       836\n",
      "weighted avg       0.95      0.95      0.95       836\n",
      "\n",
      "cost-sensitive\n",
      "Accuracy :  0.9629186602870813\n",
      "Precision 0.9629448497995137\n",
      "Recall :  0.9629186602870813\n",
      "F1-score :  0.9628969685589676\n",
      "Confusion Matrix : \n",
      "[[443  13]\n",
      " [ 18 362]]\n",
      "              precision    recall  f1-score   support\n",
      "\n",
      "           0       0.96      0.97      0.97       456\n",
      "           1       0.97      0.95      0.96       380\n",
      "\n",
      "    accuracy                           0.96       836\n",
      "   macro avg       0.96      0.96      0.96       836\n",
      "weighted avg       0.96      0.96      0.96       836\n",
      "\n"
     ]
    }
   ],
   "source": [
    "DT = DecisionTreeClassifier()\n",
    "DT.fit(m1_x_train, y_train)\n",
    "DTprob = DT.predict_proba(m1_x_test)\n",
    "y_pred = DT.predict(m1_x_test)\n",
    "print(\"cost-insensitive\")\n",
    "printMetrics(y_test,y_pred)\n",
    "\n",
    "DT = DecisionTreeClassifier()\n",
    "DT.fit(m2_x_train, y_train)\n",
    "CS_DTprob = DT.predict_proba(m2_x_test)\n",
    "y_pred = DT.predict(m2_x_test)\n",
    "print(\"cost-sensitive\")\n",
    "printMetrics(y_test,y_pred)"
   ]
  },
  {
   "cell_type": "code",
   "execution_count": 121,
   "metadata": {
    "colab": {
     "base_uri": "https://localhost:8080/",
     "height": 595
    },
    "colab_type": "code",
    "id": "Vn0NQGd1VJuV",
    "outputId": "cdd80a30-0187-47a4-94a6-27a7bd7a7059"
   },
   "outputs": [
    {
     "name": "stdout",
     "output_type": "stream",
     "text": [
      "cost-insensitive\n",
      "Accuracy :  0.9641148325358851\n",
      "Precision 0.9641098025377501\n",
      "Recall :  0.9641148325358851\n",
      "F1-score :  0.9641067522974879\n",
      "Confusion Matrix : \n",
      "[[442  14]\n",
      " [ 16 364]]\n",
      "              precision    recall  f1-score   support\n",
      "\n",
      "           0       0.97      0.97      0.97       456\n",
      "           1       0.96      0.96      0.96       380\n",
      "\n",
      "    accuracy                           0.96       836\n",
      "   macro avg       0.96      0.96      0.96       836\n",
      "weighted avg       0.96      0.96      0.96       836\n",
      "\n",
      "cost-sensitive\n",
      "Accuracy :  0.9641148325358851\n",
      "Precision 0.9641412627089679\n",
      "Recall :  0.9641148325358851\n",
      "F1-score :  0.9641224916815468\n",
      "Confusion Matrix : \n",
      "[[440  16]\n",
      " [ 14 366]]\n",
      "              precision    recall  f1-score   support\n",
      "\n",
      "           0       0.97      0.96      0.97       456\n",
      "           1       0.96      0.96      0.96       380\n",
      "\n",
      "    accuracy                           0.96       836\n",
      "   macro avg       0.96      0.96      0.96       836\n",
      "weighted avg       0.96      0.96      0.96       836\n",
      "\n"
     ]
    }
   ],
   "source": [
    "\n",
    "KNN = KNeighborsClassifier()\n",
    "KNN.fit(m1_x_train, y_train)\n",
    "KNNprob = KNN.predict_proba(m1_x_test)\n",
    "y_pred = KNN.predict(m1_x_test)\n",
    "print(\"cost-insensitive\")\n",
    "printMetrics(y_test,y_pred)\n",
    "\n",
    "KNN = KNeighborsClassifier()\n",
    "KNN.fit(m2_x_train, y_train)\n",
    "CS_KNNprob = KNN.predict_proba(m2_x_test)\n",
    "y_pred = KNN.predict(m2_x_test)\n",
    "print(\"cost-sensitive\")\n",
    "printMetrics(y_test,y_pred)"
   ]
  },
  {
   "cell_type": "code",
   "execution_count": 122,
   "metadata": {
    "colab": {
     "base_uri": "https://localhost:8080/",
     "height": 595
    },
    "colab_type": "code",
    "id": "YI-AnbGXVLA8",
    "outputId": "17ab714f-4605-4546-e3db-b487daad1b59"
   },
   "outputs": [
    {
     "name": "stdout",
     "output_type": "stream",
     "text": [
      "cost-insensitive\n",
      "Accuracy :  0.937799043062201\n",
      "Precision 0.9407983480157871\n",
      "Recall :  0.937799043062201\n",
      "F1-score :  0.9379247015610652\n",
      "Confusion Matrix : \n",
      "[[414  42]\n",
      " [ 10 370]]\n",
      "              precision    recall  f1-score   support\n",
      "\n",
      "           0       0.98      0.91      0.94       456\n",
      "           1       0.90      0.97      0.93       380\n",
      "\n",
      "    accuracy                           0.94       836\n",
      "   macro avg       0.94      0.94      0.94       836\n",
      "weighted avg       0.94      0.94      0.94       836\n",
      "\n",
      "cost-sensitive\n",
      "Accuracy :  0.9533492822966507\n",
      "Precision 0.953921723742343\n",
      "Recall :  0.9533492822966507\n",
      "F1-score :  0.9534042620827274\n",
      "Confusion Matrix : \n",
      "[[430  26]\n",
      " [ 13 367]]\n",
      "              precision    recall  f1-score   support\n",
      "\n",
      "           0       0.97      0.94      0.96       456\n",
      "           1       0.93      0.97      0.95       380\n",
      "\n",
      "    accuracy                           0.95       836\n",
      "   macro avg       0.95      0.95      0.95       836\n",
      "weighted avg       0.95      0.95      0.95       836\n",
      "\n"
     ]
    }
   ],
   "source": [
    "\n",
    "GNB = GaussianNB()\n",
    "GNB.fit(m1_x_train, y_train)\n",
    "GNBprob = GNB.predict_proba(m1_x_test)\n",
    "y_pred = GNB.predict(m1_x_test)\n",
    "print(\"cost-insensitive\")\n",
    "printMetrics(y_test,y_pred)\n",
    "\n",
    "GNB = GaussianNB()\n",
    "GNB.fit(m2_x_train, y_train)\n",
    "CS_GNBprob = GNB.predict_proba(m2_x_test)\n",
    "y_pred = GNB.predict(m2_x_test)\n",
    "print(\"cost-sensitive\")\n",
    "printMetrics(y_test,y_pred)"
   ]
  },
  {
   "cell_type": "code",
   "execution_count": 123,
   "metadata": {
    "colab": {
     "base_uri": "https://localhost:8080/",
     "height": 595
    },
    "colab_type": "code",
    "id": "RmPbNRrIVLDj",
    "outputId": "9a39e468-d571-489c-e480-9be2e62e402e"
   },
   "outputs": [
    {
     "name": "stdout",
     "output_type": "stream",
     "text": [
      "cost-insensitive\n",
      "Accuracy :  0.9557416267942583\n",
      "Precision 0.9557943483038152\n",
      "Recall :  0.9557416267942583\n",
      "F1-score :  0.9557556017724971\n",
      "Confusion Matrix : \n",
      "[[436  20]\n",
      " [ 17 363]]\n",
      "              precision    recall  f1-score   support\n",
      "\n",
      "           0       0.96      0.96      0.96       456\n",
      "           1       0.95      0.96      0.95       380\n",
      "\n",
      "    accuracy                           0.96       836\n",
      "   macro avg       0.96      0.96      0.96       836\n",
      "weighted avg       0.96      0.96      0.96       836\n",
      "\n",
      "cost-sensitive\n",
      "Accuracy :  0.9545454545454546\n",
      "Precision 0.9545758575211719\n",
      "Recall :  0.9545454545454546\n",
      "F1-score :  0.9545551561299592\n",
      "Confusion Matrix : \n",
      "[[436  20]\n",
      " [ 18 362]]\n",
      "              precision    recall  f1-score   support\n",
      "\n",
      "           0       0.96      0.96      0.96       456\n",
      "           1       0.95      0.95      0.95       380\n",
      "\n",
      "    accuracy                           0.95       836\n",
      "   macro avg       0.95      0.95      0.95       836\n",
      "weighted avg       0.95      0.95      0.95       836\n",
      "\n"
     ]
    }
   ],
   "source": [
    "AB = AdaBoostClassifier()\n",
    "AB.fit(m1_x_train, y_train)\n",
    "ABprob = AB.predict_proba(m1_x_test)\n",
    "y_pred = AB.predict(m1_x_test)\n",
    "print(\"cost-insensitive\")\n",
    "printMetrics(y_test,y_pred)\n",
    "\n",
    "AB = AdaBoostClassifier()\n",
    "AB.fit(m2_x_train, y_train)\n",
    "CS_ABprob = AB.predict_proba(m2_x_test)\n",
    "y_pred = AB.predict(m2_x_test)\n",
    "print(\"cost-sensitive\")\n",
    "printMetrics(y_test,y_pred)"
   ]
  },
  {
   "cell_type": "code",
   "execution_count": 124,
   "metadata": {
    "colab": {
     "base_uri": "https://localhost:8080/",
     "height": 595
    },
    "colab_type": "code",
    "id": "6v8X2z4fVLGG",
    "outputId": "e2a34aea-7a63-43b1-b7a2-1c9a6c6d913f"
   },
   "outputs": [
    {
     "name": "stdout",
     "output_type": "stream",
     "text": [
      "cost-insensitive\n",
      "Accuracy :  0.9581339712918661\n",
      "Precision 0.9581457912166574\n",
      "Recall :  0.9581339712918661\n",
      "F1-score :  0.958138500476201\n",
      "Confusion Matrix : \n",
      "[[438  18]\n",
      " [ 17 363]]\n",
      "              precision    recall  f1-score   support\n",
      "\n",
      "           0       0.96      0.96      0.96       456\n",
      "           1       0.95      0.96      0.95       380\n",
      "\n",
      "    accuracy                           0.96       836\n",
      "   macro avg       0.96      0.96      0.96       836\n",
      "weighted avg       0.96      0.96      0.96       836\n",
      "\n",
      "cost-sensitive\n",
      "Accuracy :  0.9617224880382775\n",
      "Precision 0.9619059168415393\n",
      "Recall :  0.9617224880382775\n",
      "F1-score :  0.9616748833234734\n",
      "Confusion Matrix : \n",
      "[[445  11]\n",
      " [ 21 359]]\n",
      "              precision    recall  f1-score   support\n",
      "\n",
      "           0       0.95      0.98      0.97       456\n",
      "           1       0.97      0.94      0.96       380\n",
      "\n",
      "    accuracy                           0.96       836\n",
      "   macro avg       0.96      0.96      0.96       836\n",
      "weighted avg       0.96      0.96      0.96       836\n",
      "\n"
     ]
    }
   ],
   "source": [
    "LSVM = svm.SVC(kernel='linear',probability=True)\n",
    "LSVM.fit(m1_x_train, y_train)\n",
    "LSVMprob = LSVM.predict_proba(m1_x_test)\n",
    "y_pred = LSVM.predict(m1_x_test)\n",
    "print(\"cost-insensitive\")\n",
    "printMetrics(y_test,y_pred)\n",
    "\n",
    "LSVM = svm.SVC(kernel='linear',probability=True)\n",
    "LSVM.fit(m2_x_train, y_train)\n",
    "CS_LSVMprob = LSVM.predict_proba(m2_x_test)\n",
    "y_pred = LSVM.predict(m2_x_test)\n",
    "print(\"cost-sensitive\")\n",
    "printMetrics(y_test,y_pred)"
   ]
  },
  {
   "cell_type": "code",
   "execution_count": 125,
   "metadata": {
    "colab": {
     "base_uri": "https://localhost:8080/",
     "height": 649
    },
    "colab_type": "code",
    "id": "V-LawyEnVLIv",
    "outputId": "6e422d62-2340-482f-cda2-b3e4515468b4"
   },
   "outputs": [
    {
     "name": "stdout",
     "output_type": "stream",
     "text": [
      "cost-insensitive\n",
      "Accuracy :  0.9593301435406698\n",
      "Precision 0.9593301435406698\n",
      "Recall :  0.9593301435406698\n",
      "F1-score :  0.9593301435406698\n",
      "Confusion Matrix : \n",
      "[[439  17]\n",
      " [ 17 363]]\n",
      "              precision    recall  f1-score   support\n",
      "\n",
      "           0       0.96      0.96      0.96       456\n",
      "           1       0.96      0.96      0.96       380\n",
      "\n",
      "    accuracy                           0.96       836\n",
      "   macro avg       0.96      0.96      0.96       836\n",
      "weighted avg       0.96      0.96      0.96       836\n",
      "\n",
      "cost-sensitive\n",
      "Accuracy :  0.9617224880382775\n",
      "Precision 0.9619059168415393\n",
      "Recall :  0.9617224880382775\n",
      "F1-score :  0.9616748833234734\n",
      "Confusion Matrix : \n",
      "[[445  11]\n",
      " [ 21 359]]\n",
      "              precision    recall  f1-score   support\n",
      "\n",
      "           0       0.95      0.98      0.97       456\n",
      "           1       0.97      0.94      0.96       380\n",
      "\n",
      "    accuracy                           0.96       836\n",
      "   macro avg       0.96      0.96      0.96       836\n",
      "weighted avg       0.96      0.96      0.96       836\n",
      "\n"
     ]
    }
   ],
   "source": [
    "RSVM = svm.SVC(kernel='rbf',probability=True)\n",
    "RSVM.fit(m1_x_train, y_train)\n",
    "RSVMprob = RSVM.predict_proba(m1_x_test)\n",
    "y_pred = RSVM.predict(m1_x_test)\n",
    "print(\"cost-insensitive\")\n",
    "printMetrics(y_test,y_pred)\n",
    "\n",
    "RSVM = svm.SVC(kernel='linear',probability=True)\n",
    "RSVM.fit(m2_x_train, y_train)\n",
    "CS_RSVMprob = RSVM.predict_proba(m2_x_test)\n",
    "y_pred = RSVM.predict(m2_x_test)\n",
    "print(\"cost-sensitive\")\n",
    "printMetrics(y_test,y_pred)"
   ]
  },
  {
   "cell_type": "code",
   "execution_count": 126,
   "metadata": {
    "colab": {},
    "colab_type": "code",
    "id": "N7XLP5Nbetu9"
   },
   "outputs": [],
   "source": [
    "SMALL_SIZE = 12\n",
    "MEDIUM_SIZE = 10\n",
    "BIGGER_SIZE = 18\n",
    "\n",
    "pyplot.rc('font', size=SMALL_SIZE)          # controls default text sizes\n",
    "pyplot.rc('axes', titlesize=SMALL_SIZE)     # fontsize of the axes title\n",
    "pyplot.rc('axes', labelsize=SMALL_SIZE)    # fontsize of the x and y labels\n",
    "pyplot.rc('xtick', labelsize=SMALL_SIZE)    # fontsize of the tick labels\n",
    "pyplot.rc('ytick', labelsize=SMALL_SIZE)    # fontsize of the tick labels\n",
    "pyplot.rc('legend', fontsize=BIGGER_SIZE)    # legend fontsize\n",
    "pyplot.rc('figure', titlesize=SMALL_SIZE)  # fontsize of the figure title\n",
    "\n",
    "def rocinfo(pred):\n",
    "    fpr = dict()\n",
    "    tpr = dict()\n",
    "    roc_auc = dict()\n",
    "    for i in range(2):\n",
    "        fpr[i], tpr[i], _ = roc_curve(y_test, pred)\n",
    "        roc_auc[i] = auc(fpr[i], tpr[i])\n",
    "    return fpr,tpr,roc_auc"
   ]
  },
  {
   "cell_type": "code",
   "execution_count": 127,
   "metadata": {
    "colab": {
     "base_uri": "https://localhost:8080/",
     "height": 628
    },
    "colab_type": "code",
    "id": "xb32IwbJfALd",
    "outputId": "5edebaa1-d633-4d89-e2ff-26aa4b92b25a"
   },
   "outputs": [
    {
     "data": {
      "image/png": "[encoded data removed]",
      "text/plain": [
       "<Figure size 1080x720 with 1 Axes>"
      ]
     },
     "metadata": {
      "needs_background": "light"
     },
     "output_type": "display_data"
    }
   ],
   "source": [
    "pyplot.figure(figsize=(15,10))\n",
    "\n",
    "fpr,tpr,roc_auc = rocinfo(prediction_prob1) \n",
    "pyplot.plot(fpr[0], tpr[0],color='blue', lw=1, label='CNN - ROC curve (area = %0.2f)' % roc_auc[0])\n",
    "\n",
    "fpr,tpr,roc_auc = rocinfo(LRprob[:,1]) \n",
    "pyplot.plot(fpr[0], tpr[0],color='yellow', lw=1, label='CNN-LR - ROC curve (area = %0.2f)' % roc_auc[0])\n",
    "\n",
    "fpr,tpr,roc_auc = rocinfo(RFprob[:,1]) \n",
    "pyplot.plot(fpr[0], tpr[0],color='brown', lw=1, label='CNN-RF - ROC curve (area = %0.2f)' % roc_auc[0])\n",
    "\n",
    "fpr,tpr,roc_auc = rocinfo(DTprob[:,1]) \n",
    "pyplot.plot(fpr[0], tpr[0],color='darkorange', lw=1, label='CNN-DT - ROC curve (area = %0.2f)' % roc_auc[0])\n",
    "\n",
    "fpr,tpr,roc_auc = rocinfo(KNNprob[:,1]) \n",
    "pyplot.plot(fpr[0], tpr[0],color='green', lw=1, label='CNN-KNN - ROC curve (area = %0.2f)' % roc_auc[0])\n",
    "\n",
    "fpr,tpr,roc_auc = rocinfo(GNBprob[:,1]) \n",
    "pyplot.plot(fpr[0], tpr[0],color='cyan', lw=1, label='CNN-GNB - ROC curve (area = %0.2f)' % roc_auc[0])\n",
    "\n",
    "fpr,tpr,roc_auc = rocinfo(ABprob[:,1]) \n",
    "pyplot.plot(fpr[0], tpr[0],color='magenta', lw=1, label='CNN-AB - ROC curve (area = %0.2f)' % roc_auc[0])\n",
    "\n",
    "fpr,tpr,roc_auc = rocinfo(LSVMprob[:,1]) \n",
    "pyplot.plot(fpr[0], tpr[0],color='black', lw=1, label='CNN-LSVM - ROC curve (area = %0.2f)' % roc_auc[0])\n",
    "\n",
    "fpr,tpr,roc_auc = rocinfo(RSVMprob[:,1]) \n",
    "pyplot.plot(fpr[0], tpr[0],color='pink', lw=1, label='CNN-RSVM - ROC curve (area = %0.2f)' % roc_auc[0])\n",
    "\n",
    "pyplot.plot([0, 1], [0, 1], color='red', lw=1, linestyle='--')\n",
    "pyplot.xlim([0.0, 1.0])\n",
    "pyplot.ylim([0.0, 1.05])\n",
    "pyplot.xlabel('False Positive Rate')\n",
    "pyplot.ylabel('True Positive Rate')\n",
    "pyplot.title('CNN - Receiver operating characteristic')\n",
    "pyplot.legend(loc=\"lower right\")\n",
    "pyplot.show()"
   ]
  },
  {
   "cell_type": "code",
   "execution_count": 128,
   "metadata": {
    "colab": {
     "base_uri": "https://localhost:8080/",
     "height": 628
    },
    "colab_type": "code",
    "id": "EHKjpLYEc3u_",
    "outputId": "fad908f9-3a76-44c0-a19c-e4343ca1d654"
   },
   "outputs": [
    {
     "data": {
      "image/png": "[encoded data removed]",
      "text/plain": [
       "<Figure size 1080x720 with 1 Axes>"
      ]
     },
     "metadata": {
      "needs_background": "light"
     },
     "output_type": "display_data"
    }
   ],
   "source": [
    "pyplot.figure(figsize=(15,10))\n",
    "\n",
    "fpr,tpr,roc_auc = rocinfo(prediction_prob) \n",
    "pyplot.plot(fpr[0], tpr[0],color='blue', lw=1, label='CSCNN - ROC curve (area = %0.2f)' % roc_auc[0])\n",
    "\n",
    "fpr,tpr,roc_auc = rocinfo(CS_LRprob[:,1]) \n",
    "pyplot.plot(fpr[0], tpr[0],color='yellow', lw=1, label='CSCNN-LR - ROC curve (area = %0.2f)' % roc_auc[0])\n",
    "\n",
    "fpr,tpr,roc_auc = rocinfo(CS_RFprob[:,1]) \n",
    "pyplot.plot(fpr[0], tpr[0],color='brown', lw=1, label='CSCNN-RF - ROC curve (area = %0.2f)' % roc_auc[0])\n",
    "\n",
    "fpr,tpr,roc_auc = rocinfo(CS_DTprob[:,1]) \n",
    "pyplot.plot(fpr[0], tpr[0],color='darkorange', lw=1, label='CSCNN-DT - ROC curve (area = %0.2f)' % roc_auc[0])\n",
    "\n",
    "fpr,tpr,roc_auc = rocinfo(CS_KNNprob[:,1]) \n",
    "pyplot.plot(fpr[0], tpr[0],color='green', lw=1, label='CSCNN-KNN - ROC curve (area = %0.2f)' % roc_auc[0])\n",
    "\n",
    "fpr,tpr,roc_auc = rocinfo(CS_GNBprob[:,1]) \n",
    "pyplot.plot(fpr[0], tpr[0],color='cyan', lw=1, label='CSCNN-GNB - ROC curve (area = %0.2f)' % roc_auc[0])\n",
    "\n",
    "fpr,tpr,roc_auc = rocinfo(CS_ABprob[:,1]) \n",
    "pyplot.plot(fpr[0], tpr[0],color='magenta', lw=1, label='CSCNN-AB - ROC curve (area = %0.2f)' % roc_auc[0])\n",
    "\n",
    "fpr,tpr,roc_auc = rocinfo(CS_LSVMprob[:,1]) \n",
    "pyplot.plot(fpr[0], tpr[0],color='black', lw=1, label='CSCNN-LSVM - ROC curve (area = %0.2f)' % roc_auc[0])\n",
    "\n",
    "fpr,tpr,roc_auc = rocinfo(CS_RSVMprob[:,1]) \n",
    "pyplot.plot(fpr[0], tpr[0],color='pink', lw=1, label='CSCNN-RSVM - ROC curve (area = %0.2f)' % roc_auc[0])\n",
    "\n",
    "pyplot.plot([0, 1], [0, 1], color='red', lw=1, linestyle='--')\n",
    "pyplot.xlim([0.0, 1.0])\n",
    "pyplot.ylim([0.0, 1.05])\n",
    "pyplot.xlabel('False Positive Rate')\n",
    "pyplot.ylabel('True Positive Rate')\n",
    "pyplot.title('CNN - Receiver operating characteristic')\n",
    "pyplot.legend(loc=\"lower right\")\n",
    "pyplot.show()"
   ]
  },
  {
   "cell_type": "code",
   "execution_count": null,
   "metadata": {
    "colab": {},
    "colab_type": "code",
    "id": "OzWSRgxLQAgF"
   },
   "outputs": [],
   "source": []
  }
 ],
 "metadata": {
  "accelerator": "GPU",
  "colab": {
   "collapsed_sections": [],
   "name": "Image_spam_hunter",
   "provenance": []
  },
  "kernelspec": {
   "display_name": "Python 3 (ipykernel)",
   "language": "python",
   "name": "python3"
  },
  "language_info": {
   "codemirror_mode": {
    "name": "ipython",
    "version": 3
   },
   "file_extension": ".py",
   "mimetype": "text/x-python",
   "name": "python",
   "nbconvert_exporter": "python",
   "pygments_lexer": "ipython3",
   "version": "3.9.7"
  }
 },
 "nbformat": 4,
 "nbformat_minor": 1
}
