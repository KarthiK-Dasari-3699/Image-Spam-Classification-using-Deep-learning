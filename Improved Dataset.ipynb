{
 "cells": [
  {
   "cell_type": "code",
   "execution_count": 1,
   "metadata": {
    "colab": {},
    "colab_type": "code",
    "id": "AKI-7a14PpNN"
   },
   "outputs": [],
   "source": [
    "import os, shutil\n",
    "import numpy as np\n",
    "\n",
    "from matplotlib import image, pyplot\n",
    "from skimage.transform import resize\n",
    "\n",
    "\n",
    "from tensorflow.keras.utils import to_categorical\n",
    "from keras.models import Sequential, Model\n",
    "from keras.layers import Conv2D,MaxPool2D,Dense,Flatten,Dropout\n",
    "\n",
    "from keras import callbacks\n",
    "from keras.callbacks import ModelCheckpoint, ReduceLROnPlateau, CSVLogger\n",
    "\n",
    "from sklearn.model_selection import train_test_split\n",
    "from sklearn.metrics import confusion_matrix,accuracy_score, precision_score, f1_score, recall_score,classification_report,roc_curve, auc \n",
    "from sklearn.utils import class_weight\n",
    "\n",
    "from sklearn.linear_model import LogisticRegression\n",
    "from sklearn.naive_bayes import GaussianNB\n",
    "from sklearn.neighbors import KNeighborsClassifier\n",
    "from sklearn.tree import DecisionTreeClassifier\n",
    "from sklearn.ensemble import AdaBoostClassifier, RandomForestClassifier\n",
    "from sklearn.svm import SVC\n",
    "from sklearn import svm\n"
   ]
  },
  {
   "cell_type": "code",
   "execution_count": 2,
   "metadata": {
    "colab": {},
    "colab_type": "code",
    "id": "pGHxzhfC9Hcw"
   },
   "outputs": [],
   "source": [
    "resultPath = 'C:/Users/HP/Downloads/Results/CNN'"
   ]
  },
  {
   "cell_type": "code",
   "execution_count": 3,
   "metadata": {
    "colab": {
     "base_uri": "https://localhost:8080/",
     "height": 68
    },
    "colab_type": "code",
    "id": "4CEFGdqcmsqx",
    "outputId": "7cc1989d-4064-405e-f279-566d88005b6f"
   },
   "outputs": [
    {
     "name": "stdout",
     "output_type": "stream",
     "text": [
      ">>>Reading  NaturalImages\n",
      ">>>Reading  New_Spam\n"
     ]
    }
   ],
   "source": [
    "DATA_PATH = \"C:/Users/HP/Downloads/Improved_dataset/\"\n",
    "spamData=[]\n",
    "label=[]\n",
    "hashList=[]\n",
    "count=-1\n",
    "for folder in os.listdir(DATA_PATH):\n",
    "    print(\">>>Reading \",folder)\n",
    "    count+=1\n",
    "    \n",
    "    for file in os.listdir(DATA_PATH+folder):\n",
    "        if(str(file).endswith('.jpg') or str(file).endswith('.JPG') or str(file).endswith('.jpeg') or str(file).endswith('.JPEG')):\n",
    "            img = image.imread(DATA_PATH+folder+'/'+file)\n",
    "            hsh = hash(tuple(np.array(img).flatten()))\n",
    "            if(hsh not in hashList):\n",
    "                spamData.append(resize(img, (156, 156, 3)))\n",
    "                hashList.append(hsh)\n",
    "                label.append(count)\n",
    "spamData=np.array(spamData)\n",
    "label=np.array(label)"
   ]
  },
  {
   "cell_type": "code",
   "execution_count": 4,
   "metadata": {
    "colab": {
     "base_uri": "https://localhost:8080/",
     "height": 51
    },
    "colab_type": "code",
    "id": "EHSoNhbjfT_b",
    "outputId": "b879c796-24b9-4d7b-e736-9bd9fe63bac9"
   },
   "outputs": [
    {
     "name": "stdout",
     "output_type": "stream",
     "text": [
      "Number of SPAM 810\n",
      "Number of HAM 975\n"
     ]
    }
   ],
   "source": [
    "print(\"Number of SPAM\",len(label[label==0]))\n",
    "print(\"Number of HAM\",len(label[label==1]))"
   ]
  },
  {
   "cell_type": "code",
   "execution_count": 5,
   "metadata": {
    "colab": {
     "base_uri": "https://localhost:8080/",
     "height": 34
    },
    "colab_type": "code",
    "id": "TbHVzhMYpfSR",
    "outputId": "c5f70e4a-4aac-4632-9cbf-2e7c17d580c8"
   },
   "outputs": [
    {
     "name": "stdout",
     "output_type": "stream",
     "text": [
      "Spam data shape :  (1785, 156, 156, 3)  Label shape :  (1785,)\n"
     ]
    }
   ],
   "source": [
    "print(\"Spam data shape : \",spamData.shape,\" Label shape : \",label.shape)"
   ]
  },
  {
   "cell_type": "code",
   "execution_count": 6,
   "metadata": {
    "colab": {},
    "colab_type": "code",
    "id": "pPed_TbTpfUy"
   },
   "outputs": [],
   "source": [
    "test_valid_Percentage = 0.3\n",
    "x_train,x_test,y_train,y_test = train_test_split(spamData,label,test_size = test_valid_Percentage,random_state=42, stratify=label,shuffle=True)"
   ]
  },
  {
   "cell_type": "code",
   "execution_count": 7,
   "metadata": {
    "colab": {
     "base_uri": "https://localhost:8080/",
     "height": 51
    },
    "colab_type": "code",
    "id": "yKCQLA9KpfXP",
    "outputId": "58d520cb-f173-47f4-e87d-38a4278ce87e"
   },
   "outputs": [
    {
     "name": "stdout",
     "output_type": "stream",
     "text": [
      "x_train shape :  (1249, 156, 156, 3)  y_train shape :  (1249,)\n",
      "x_test shape :  (536, 156, 156, 3)  y_test shape :  (536,)\n"
     ]
    }
   ],
   "source": [
    "print(\"x_train shape : \",x_train.shape,\" y_train shape : \",y_train.shape)\n",
    "print(\"x_test shape : \",x_test.shape,\" y_test shape : \",y_test.shape)"
   ]
  },
  {
   "cell_type": "code",
   "execution_count": 8,
   "metadata": {
    "colab": {
     "base_uri": "https://localhost:8080/",
     "height": 85
    },
    "colab_type": "code",
    "id": "YTwLFvg1gFcU",
    "outputId": "d6c04f80-cd43-4724-b3a4-b47a5246baa4"
   },
   "outputs": [
    {
     "name": "stdout",
     "output_type": "stream",
     "text": [
      "Number of train SPAM 567\n",
      "Number of train HAM 682\n",
      "Number of test SPAM 243\n",
      "Number of test HAM 293\n"
     ]
    }
   ],
   "source": [
    "print(\"Number of train SPAM\",len(y_train[y_train==0]))\n",
    "print(\"Number of train HAM\",len(y_train[y_train==1]))\n",
    "\n",
    "print(\"Number of test SPAM\",len(y_test[y_test==0]))\n",
    "print(\"Number of test HAM\",len(y_test[y_test==1]))"
   ]
  },
  {
   "cell_type": "code",
   "execution_count": 9,
   "metadata": {
    "colab": {
     "base_uri": "https://localhost:8080/",
     "height": 34
    },
    "colab_type": "code",
    "id": "H-IQht0NpfZv",
    "outputId": "a56d6aee-5b2a-402d-bd8c-165176778e3a"
   },
   "outputs": [
    {
     "name": "stdout",
     "output_type": "stream",
     "text": [
      "y_train_oh shape :  (1249, 2)  y_test_oh shape :  (536, 2)\n"
     ]
    }
   ],
   "source": [
    "y_train_oh = to_categorical(y_train)\n",
    "y_test_oh = to_categorical(y_test)\n",
    "\n",
    "print(\"y_train_oh shape : \",y_train_oh.shape,\" y_test_oh shape : \",y_test_oh.shape)"
   ]
  },
  {
   "cell_type": "code",
   "execution_count": 10,
   "metadata": {
    "colab": {
     "base_uri": "https://localhost:8080/",
     "height": 493
    },
    "colab_type": "code",
    "id": "nTY9h-XlpfcV",
    "outputId": "efa8c1ca-d5c1-4847-f2e1-120a20ad2041"
   },
   "outputs": [
    {
     "name": "stdout",
     "output_type": "stream",
     "text": [
      "Model: \"sequential\"\n",
      "_________________________________________________________________\n",
      " Layer (type)                Output Shape              Param #   \n",
      "=================================================================\n",
      " conv2d (Conv2D)             (None, 156, 156, 32)      896       \n",
      "                                                                 \n",
      " max_pooling2d (MaxPooling2D  (None, 78, 78, 32)       0         \n",
      " )                                                               \n",
      "                                                                 \n",
      " conv2d_1 (Conv2D)           (None, 78, 78, 64)        18496     \n",
      "                                                                 \n",
      " max_pooling2d_1 (MaxPooling  (None, 39, 39, 64)       0         \n",
      " 2D)                                                             \n",
      "                                                                 \n",
      " conv2d_2 (Conv2D)           (None, 39, 39, 128)       73856     \n",
      "                                                                 \n",
      " dropout (Dropout)           (None, 39, 39, 128)       0         \n",
      "                                                                 \n",
      " flatten (Flatten)           (None, 194688)            0         \n",
      "                                                                 \n",
      " dense (Dense)               (None, 128)               24920192  \n",
      "                                                                 \n",
      " dropout_1 (Dropout)         (None, 128)               0         \n",
      "                                                                 \n",
      " dense_1 (Dense)             (None, 1)                 129       \n",
      "                                                                 \n",
      "=================================================================\n",
      "Total params: 25,013,569\n",
      "Trainable params: 25,013,569\n",
      "Non-trainable params: 0\n",
      "_________________________________________________________________\n"
     ]
    }
   ],
   "source": [
    "NO_OF_EPOCHS=10\n",
    "BATCH_SIZE=32\n",
    "\n",
    "model=Sequential()\n",
    "model.add(Conv2D(32,kernel_size=3, padding='same',activation='relu',input_shape=(156, 156,3)))\n",
    "model.add(MaxPool2D(pool_size=(2, 2)))\n",
    "model.add(Conv2D(64,kernel_size=3, padding='same',activation='relu'))\n",
    "model.add(MaxPool2D(pool_size=(2, 2)))\n",
    "model.add(Conv2D(128,kernel_size=3, padding='same',activation='relu'))\n",
    "model.add(Dropout(0.1))\n",
    "model.add(Flatten())\n",
    "model.add(Dense(128,activation='relu'))\n",
    "model.add(Dropout(0.1))\n",
    "model.add(Dense(1,activation='sigmoid'))\n",
    "model.summary()\n",
    "model.compile(loss='binary_crossentropy', optimizer='adam',metrics=['accuracy'])"
   ]
  },
  {
   "cell_type": "code",
   "execution_count": 11,
   "metadata": {
    "colab": {
     "base_uri": "https://localhost:8080/",
     "height": 1000
    },
    "colab_type": "code",
    "id": "1FaifFXAtiGd",
    "outputId": "d0e0d45f-4300-465b-817d-dbc44cd1cdb6"
   },
   "outputs": [
    {
     "name": "stdout",
     "output_type": "stream",
     "text": [
      "Epoch 1/10\n",
      "40/40 [==============================] - ETA: 0s - loss: 0.7256 - accuracy: 0.6821WARNING:tensorflow:Can save best model only with val_acc available, skipping.\n",
      "WARNING:tensorflow:Learning rate reduction is conditioned on metric `acc` which is not available. Available metrics are: loss,accuracy,val_loss,val_accuracy,lr\n",
      "40/40 [==============================] - 40s 932ms/step - loss: 0.7256 - accuracy: 0.6821 - val_loss: 0.4153 - val_accuracy: 0.7705 - lr: 0.0010\n",
      "Epoch 2/10\n",
      "40/40 [==============================] - ETA: 0s - loss: 0.1507 - accuracy: 0.9448WARNING:tensorflow:Can save best model only with val_acc available, skipping.\n",
      "WARNING:tensorflow:Learning rate reduction is conditioned on metric `acc` which is not available. Available metrics are: loss,accuracy,val_loss,val_accuracy,lr\n",
      "40/40 [==============================] - 41s 1s/step - loss: 0.1507 - accuracy: 0.9448 - val_loss: 0.4450 - val_accuracy: 0.8116 - lr: 0.0010\n",
      "Epoch 3/10\n",
      "40/40 [==============================] - ETA: 0s - loss: 0.0531 - accuracy: 0.9856WARNING:tensorflow:Can save best model only with val_acc available, skipping.\n",
      "WARNING:tensorflow:Learning rate reduction is conditioned on metric `acc` which is not available. Available metrics are: loss,accuracy,val_loss,val_accuracy,lr\n",
      "40/40 [==============================] - 47s 1s/step - loss: 0.0531 - accuracy: 0.9856 - val_loss: 0.0283 - val_accuracy: 0.9944 - lr: 0.0010\n",
      "Epoch 4/10\n",
      "40/40 [==============================] - ETA: 0s - loss: 0.0069 - accuracy: 0.9992WARNING:tensorflow:Can save best model only with val_acc available, skipping.\n",
      "WARNING:tensorflow:Learning rate reduction is conditioned on metric `acc` which is not available. Available metrics are: loss,accuracy,val_loss,val_accuracy,lr\n",
      "40/40 [==============================] - 47s 1s/step - loss: 0.0069 - accuracy: 0.9992 - val_loss: 0.0997 - val_accuracy: 0.9813 - lr: 0.0010\n",
      "Epoch 5/10\n",
      "40/40 [==============================] - ETA: 0s - loss: 0.0136 - accuracy: 0.9976WARNING:tensorflow:Can save best model only with val_acc available, skipping.\n",
      "WARNING:tensorflow:Learning rate reduction is conditioned on metric `acc` which is not available. Available metrics are: loss,accuracy,val_loss,val_accuracy,lr\n",
      "40/40 [==============================] - 47s 1s/step - loss: 0.0136 - accuracy: 0.9976 - val_loss: 0.0572 - val_accuracy: 0.9944 - lr: 0.0010\n",
      "Epoch 6/10\n",
      "40/40 [==============================] - ETA: 0s - loss: 0.0043 - accuracy: 0.9984WARNING:tensorflow:Can save best model only with val_acc available, skipping.\n",
      "WARNING:tensorflow:Learning rate reduction is conditioned on metric `acc` which is not available. Available metrics are: loss,accuracy,val_loss,val_accuracy,lr\n",
      "40/40 [==============================] - 47s 1s/step - loss: 0.0043 - accuracy: 0.9984 - val_loss: 0.0333 - val_accuracy: 0.9981 - lr: 0.0010\n",
      "Epoch 7/10\n",
      "40/40 [==============================] - ETA: 0s - loss: 5.8787e-04 - accuracy: 1.0000WARNING:tensorflow:Can save best model only with val_acc available, skipping.\n",
      "WARNING:tensorflow:Learning rate reduction is conditioned on metric `acc` which is not available. Available metrics are: loss,accuracy,val_loss,val_accuracy,lr\n",
      "40/40 [==============================] - 47s 1s/step - loss: 5.8787e-04 - accuracy: 1.0000 - val_loss: 0.0362 - val_accuracy: 0.9981 - lr: 0.0010\n",
      "Epoch 8/10\n",
      "40/40 [==============================] - ETA: 0s - loss: 5.1583e-04 - accuracy: 1.0000WARNING:tensorflow:Can save best model only with val_acc available, skipping.\n",
      "WARNING:tensorflow:Learning rate reduction is conditioned on metric `acc` which is not available. Available metrics are: loss,accuracy,val_loss,val_accuracy,lr\n",
      "40/40 [==============================] - 47s 1s/step - loss: 5.1583e-04 - accuracy: 1.0000 - val_loss: 0.0348 - val_accuracy: 0.9981 - lr: 0.0010\n",
      "Epoch 9/10\n",
      "40/40 [==============================] - ETA: 0s - loss: 2.0522e-04 - accuracy: 1.0000WARNING:tensorflow:Can save best model only with val_acc available, skipping.\n",
      "WARNING:tensorflow:Learning rate reduction is conditioned on metric `acc` which is not available. Available metrics are: loss,accuracy,val_loss,val_accuracy,lr\n",
      "40/40 [==============================] - 47s 1s/step - loss: 2.0522e-04 - accuracy: 1.0000 - val_loss: 0.0385 - val_accuracy: 0.9981 - lr: 0.0010\n",
      "Epoch 10/10\n",
      "40/40 [==============================] - ETA: 0s - loss: 4.5160e-04 - accuracy: 1.0000WARNING:tensorflow:Can save best model only with val_acc available, skipping.\n",
      "WARNING:tensorflow:Learning rate reduction is conditioned on metric `acc` which is not available. Available metrics are: loss,accuracy,val_loss,val_accuracy,lr\n",
      "40/40 [==============================] - 47s 1s/step - loss: 4.5160e-04 - accuracy: 1.0000 - val_loss: 0.0398 - val_accuracy: 0.9944 - lr: 0.0010\n"
     ]
    },
    {
     "data": {
      "text/plain": [
       "<keras.callbacks.History at 0x29417031bb0>"
      ]
     },
     "execution_count": 11,
     "metadata": {},
     "output_type": "execute_result"
    }
   ],
   "source": [
    "checkpointer = callbacks.ModelCheckpoint(filepath=resultPath+\"/checkpoint-{epoch:04d}.hdf5\", verbose=1, save_best_only=True, monitor='val_acc',mode='max')\n",
    "csv_logger = CSVLogger(resultPath+'/result_logger.csv',separator=',', append=False)\n",
    "reduce_lr = ReduceLROnPlateau(monitor='acc', factor=0.2, patience=2, min_lr=0.001)\n",
    "model.fit(x_train,y_train,epochs=NO_OF_EPOCHS,verbose=1,batch_size=BATCH_SIZE,validation_split = 0.2,callbacks=[checkpointer,csv_logger,reduce_lr])"
   ]
  },
  {
   "cell_type": "code",
   "execution_count": 12,
   "metadata": {
    "colab": {
     "base_uri": "https://localhost:8080/",
     "height": 34
    },
    "colab_type": "code",
    "id": "EvadX63Gtkml",
    "outputId": "09a641cb-4d93-463f-c1c1-d49a8ed0860a"
   },
   "outputs": [
    {
     "name": "stdout",
     "output_type": "stream",
     "text": [
      "17/17 [==============================] - 4s 241ms/step\n"
     ]
    }
   ],
   "source": [
    "prediction_prob1 = model.predict(x_test,verbose=1)\n",
    "y_pred=np.round(prediction_prob1)"
   ]
  },
  {
   "cell_type": "code",
   "execution_count": 13,
   "metadata": {
    "colab": {
     "base_uri": "https://localhost:8080/",
     "height": 272
    },
    "colab_type": "code",
    "id": "D1wc57zEtl0O",
    "outputId": "eba4223e-549f-4d8a-aaf3-45c857d7344f"
   },
   "outputs": [
    {
     "name": "stdout",
     "output_type": "stream",
     "text": [
      "0.9944029850746269\n",
      "1.0\n",
      "0.9897610921501706\n",
      "0.9948542024013721\n",
      "[[243   0]\n",
      " [  3 290]]\n",
      "              precision    recall  f1-score   support\n",
      "\n",
      "           0       0.99      1.00      0.99       243\n",
      "           1       1.00      0.99      0.99       293\n",
      "\n",
      "    accuracy                           0.99       536\n",
      "   macro avg       0.99      0.99      0.99       536\n",
      "weighted avg       0.99      0.99      0.99       536\n",
      "\n"
     ]
    }
   ],
   "source": [
    "print(accuracy_score(y_test,y_pred))\n",
    "print(precision_score(y_test,y_pred,average='binary'))\n",
    "print(recall_score(y_test,y_pred,average='binary'))\n",
    "print(f1_score(y_test,y_pred,average='binary'))\n",
    "print(confusion_matrix(y_test,y_pred))\n",
    "print(classification_report(y_test,y_pred))"
   ]
  },
  {
   "cell_type": "code",
   "execution_count": 15,
   "metadata": {
    "colab": {
     "base_uri": "https://localhost:8080/",
     "height": 34
    },
    "colab_type": "code",
    "id": "wtYscnD7t5bs",
    "outputId": "632a2526-9d6d-41f1-d540-5a310eb8a841"
   },
   "outputs": [
    {
     "name": "stdout",
     "output_type": "stream",
     "text": [
      "[1.10141093 0.91568915]\n"
     ]
    }
   ],
   "source": [
    "class_weights = class_weight.compute_class_weight('balanced',\n",
    "                                                 classes = np.unique(y_train),\n",
    "                                                y = y_train)\n",
    "print(class_weights)"
   ]
  },
  {
   "cell_type": "code",
   "execution_count": 18,
   "metadata": {
    "colab": {
     "base_uri": "https://localhost:8080/",
     "height": 493
    },
    "colab_type": "code",
    "id": "buYFGuIP-kyf",
    "outputId": "8ef33720-d5d5-4b81-9055-ccbc03bd5ce8"
   },
   "outputs": [
    {
     "name": "stdout",
     "output_type": "stream",
     "text": [
      "Model: \"sequential_2\"\n",
      "_________________________________________________________________\n",
      " Layer (type)                Output Shape              Param #   \n",
      "=================================================================\n",
      " conv2d_6 (Conv2D)           (None, 156, 156, 128)     3584      \n",
      "                                                                 \n",
      " max_pooling2d_4 (MaxPooling  (None, 39, 39, 128)      0         \n",
      " 2D)                                                             \n",
      "                                                                 \n",
      " conv2d_7 (Conv2D)           (None, 39, 39, 128)       147584    \n",
      "                                                                 \n",
      " max_pooling2d_5 (MaxPooling  (None, 13, 13, 128)      0         \n",
      " 2D)                                                             \n",
      "                                                                 \n",
      " conv2d_8 (Conv2D)           (None, 13, 13, 256)       295168    \n",
      "                                                                 \n",
      " dropout_4 (Dropout)         (None, 13, 13, 256)       0         \n",
      "                                                                 \n",
      " flatten_2 (Flatten)         (None, 43264)             0         \n",
      "                                                                 \n",
      " dense_4 (Dense)             (None, 128)               5537920   \n",
      "                                                                 \n",
      " dropout_5 (Dropout)         (None, 128)               0         \n",
      "                                                                 \n",
      " dense_5 (Dense)             (None, 1)                 129       \n",
      "                                                                 \n",
      "=================================================================\n",
      "Total params: 5,984,385\n",
      "Trainable params: 5,984,385\n",
      "Non-trainable params: 0\n",
      "_________________________________________________________________\n"
     ]
    }
   ],
   "source": [
    "model1=Sequential()\n",
    "model1.add(Conv2D(128,kernel_size=3, padding='same',activation='relu',input_shape=(156, 156,3)))\n",
    "model1.add(MaxPool2D(pool_size=(4, 4)))\n",
    "model1.add(Conv2D(128,kernel_size=3, padding='same',activation='relu'))\n",
    "model1.add(MaxPool2D(pool_size=(3, 3)))\n",
    "model1.add(Conv2D(256,kernel_size=3, padding='same',activation='relu'))\n",
    "model1.add(Dropout(0.1))\n",
    "model1.add(Flatten())\n",
    "model1.add(Dense(128,activation='relu'))\n",
    "model1.add(Dropout(0.1))\n",
    "model1.add(Dense(1,activation='sigmoid'))\n",
    "model1.summary()\n",
    "model1.compile(loss='binary_crossentropy', optimizer='adam',metrics=['accuracy'])"
   ]
  },
  {
   "cell_type": "code",
   "execution_count": 19,
   "metadata": {
    "colab": {
     "base_uri": "https://localhost:8080/",
     "height": 1000
    },
    "colab_type": "code",
    "id": "1tzYvf96-3BJ",
    "outputId": "aab82b38-0d2d-4f9f-fd71-10538a8d94f1"
   },
   "outputs": [
    {
     "name": "stdout",
     "output_type": "stream",
     "text": [
      "Epoch 1/10\n",
      "40/40 [==============================] - ETA: 0s - loss: 0.6931 - accuracy: 0.5885WARNING:tensorflow:Can save best model only with val_acc available, skipping.\n",
      "WARNING:tensorflow:Learning rate reduction is conditioned on metric `acc` which is not available. Available metrics are: loss,accuracy,val_loss,val_accuracy,lr\n",
      "40/40 [==============================] - 60s 1s/step - loss: 0.6931 - accuracy: 0.5885 - val_loss: 0.4568 - val_accuracy: 0.8116 - lr: 0.0010\n",
      "Epoch 2/10\n",
      "40/40 [==============================] - ETA: 0s - loss: 0.3934 - accuracy: 0.8191WARNING:tensorflow:Can save best model only with val_acc available, skipping.\n",
      "WARNING:tensorflow:Learning rate reduction is conditioned on metric `acc` which is not available. Available metrics are: loss,accuracy,val_loss,val_accuracy,lr\n",
      "40/40 [==============================] - 56s 1s/step - loss: 0.3934 - accuracy: 0.8191 - val_loss: 0.2741 - val_accuracy: 0.8974 - lr: 0.0010\n",
      "Epoch 3/10\n",
      "40/40 [==============================] - ETA: 0s - loss: 0.1507 - accuracy: 0.9456WARNING:tensorflow:Can save best model only with val_acc available, skipping.\n",
      "WARNING:tensorflow:Learning rate reduction is conditioned on metric `acc` which is not available. Available metrics are: loss,accuracy,val_loss,val_accuracy,lr\n",
      "40/40 [==============================] - 56s 1s/step - loss: 0.1507 - accuracy: 0.9456 - val_loss: 0.1649 - val_accuracy: 0.9459 - lr: 0.0010\n",
      "Epoch 4/10\n",
      "40/40 [==============================] - ETA: 0s - loss: 0.0649 - accuracy: 0.9808WARNING:tensorflow:Can save best model only with val_acc available, skipping.\n",
      "WARNING:tensorflow:Learning rate reduction is conditioned on metric `acc` which is not available. Available metrics are: loss,accuracy,val_loss,val_accuracy,lr\n",
      "40/40 [==============================] - 48s 1s/step - loss: 0.0649 - accuracy: 0.9808 - val_loss: 0.0782 - val_accuracy: 0.9776 - lr: 0.0010\n",
      "Epoch 5/10\n",
      "40/40 [==============================] - ETA: 0s - loss: 0.0445 - accuracy: 0.9872WARNING:tensorflow:Can save best model only with val_acc available, skipping.\n",
      "WARNING:tensorflow:Learning rate reduction is conditioned on metric `acc` which is not available. Available metrics are: loss,accuracy,val_loss,val_accuracy,lr\n",
      "40/40 [==============================] - 43s 1s/step - loss: 0.0445 - accuracy: 0.9872 - val_loss: 0.0671 - val_accuracy: 0.9832 - lr: 0.0010\n",
      "Epoch 6/10\n",
      "40/40 [==============================] - ETA: 0s - loss: 0.0235 - accuracy: 0.9904WARNING:tensorflow:Can save best model only with val_acc available, skipping.\n",
      "WARNING:tensorflow:Learning rate reduction is conditioned on metric `acc` which is not available. Available metrics are: loss,accuracy,val_loss,val_accuracy,lr\n",
      "40/40 [==============================] - 41s 1s/step - loss: 0.0235 - accuracy: 0.9904 - val_loss: 0.0553 - val_accuracy: 0.9851 - lr: 0.0010\n",
      "Epoch 7/10\n",
      "40/40 [==============================] - ETA: 0s - loss: 0.0215 - accuracy: 0.9928WARNING:tensorflow:Can save best model only with val_acc available, skipping.\n",
      "WARNING:tensorflow:Learning rate reduction is conditioned on metric `acc` which is not available. Available metrics are: loss,accuracy,val_loss,val_accuracy,lr\n",
      "40/40 [==============================] - 42s 1s/step - loss: 0.0215 - accuracy: 0.9928 - val_loss: 0.0363 - val_accuracy: 0.9888 - lr: 0.0010\n",
      "Epoch 8/10\n",
      "40/40 [==============================] - ETA: 0s - loss: 0.0082 - accuracy: 0.9992WARNING:tensorflow:Can save best model only with val_acc available, skipping.\n",
      "WARNING:tensorflow:Learning rate reduction is conditioned on metric `acc` which is not available. Available metrics are: loss,accuracy,val_loss,val_accuracy,lr\n",
      "40/40 [==============================] - 41s 1s/step - loss: 0.0082 - accuracy: 0.9992 - val_loss: 0.0444 - val_accuracy: 0.9888 - lr: 0.0010\n",
      "Epoch 9/10\n",
      "40/40 [==============================] - ETA: 0s - loss: 0.0061 - accuracy: 0.9976WARNING:tensorflow:Can save best model only with val_acc available, skipping.\n",
      "WARNING:tensorflow:Learning rate reduction is conditioned on metric `acc` which is not available. Available metrics are: loss,accuracy,val_loss,val_accuracy,lr\n",
      "40/40 [==============================] - 42s 1s/step - loss: 0.0061 - accuracy: 0.9976 - val_loss: 0.0387 - val_accuracy: 0.9869 - lr: 0.0010\n",
      "Epoch 10/10\n",
      "40/40 [==============================] - ETA: 0s - loss: 0.0014 - accuracy: 1.0000WARNING:tensorflow:Can save best model only with val_acc available, skipping.\n",
      "WARNING:tensorflow:Learning rate reduction is conditioned on metric `acc` which is not available. Available metrics are: loss,accuracy,val_loss,val_accuracy,lr\n",
      "40/40 [==============================] - 42s 1s/step - loss: 0.0014 - accuracy: 1.0000 - val_loss: 0.0438 - val_accuracy: 0.9869 - lr: 0.0010\n"
     ]
    },
    {
     "data": {
      "text/plain": [
       "<keras.callbacks.History at 0x294370c46a0>"
      ]
     },
     "execution_count": 19,
     "metadata": {},
     "output_type": "execute_result"
    }
   ],
   "source": [
    "checkpointer = callbacks.ModelCheckpoint(filepath=resultPath+\"/checkpoint-{epoch:04d}.hdf5\", verbose=1, save_best_only=True, monitor='val_acc',mode='max')\n",
    "csv_logger = CSVLogger(resultPath+'/result_logger.csv',separator=',', append=False)\n",
    "reduce_lr = ReduceLROnPlateau(monitor='acc', factor=0.2, patience=2, min_lr=0.001)\n",
    "model1.fit(x_train,y_train,epochs=NO_OF_EPOCHS,verbose=1,batch_size=BATCH_SIZE,class_weight=class_weights,validation_split = 0.2,callbacks=[checkpointer,csv_logger,reduce_lr])"
   ]
  },
  {
   "cell_type": "code",
   "execution_count": 20,
   "metadata": {
    "colab": {
     "base_uri": "https://localhost:8080/",
     "height": 34
    },
    "colab_type": "code",
    "id": "mpqSui9qISJL",
    "outputId": "a4b11335-35e0-4bef-f3a0-a3245734f233"
   },
   "outputs": [
    {
     "name": "stdout",
     "output_type": "stream",
     "text": [
      "17/17 [==============================] - 5s 286ms/step\n"
     ]
    }
   ],
   "source": [
    "prediction_prob = model1.predict(x_test,verbose=1)\n",
    "y_pred=np.round(prediction_prob)"
   ]
  },
  {
   "cell_type": "code",
   "execution_count": 21,
   "metadata": {
    "colab": {
     "base_uri": "https://localhost:8080/",
     "height": 272
    },
    "colab_type": "code",
    "id": "iV6K0pu1IX9a",
    "outputId": "bcdb649e-337c-415a-c5f4-2c1767a79d92"
   },
   "outputs": [
    {
     "name": "stdout",
     "output_type": "stream",
     "text": [
      "0.9869402985074627\n",
      "0.9897260273972602\n",
      "0.9863481228668942\n",
      "0.988034188034188\n",
      "[[240   3]\n",
      " [  4 289]]\n",
      "              precision    recall  f1-score   support\n",
      "\n",
      "           0       0.98      0.99      0.99       243\n",
      "           1       0.99      0.99      0.99       293\n",
      "\n",
      "    accuracy                           0.99       536\n",
      "   macro avg       0.99      0.99      0.99       536\n",
      "weighted avg       0.99      0.99      0.99       536\n",
      "\n"
     ]
    }
   ],
   "source": [
    "print(accuracy_score(y_test,y_pred))\n",
    "print(precision_score(y_test,y_pred,average='binary'))\n",
    "print(recall_score(y_test,y_pred,average='binary'))\n",
    "print(f1_score(y_test,y_pred,average='binary'))\n",
    "print(confusion_matrix(y_test,y_pred))\n",
    "print(classification_report(y_test,y_pred))"
   ]
  },
  {
   "cell_type": "code",
   "execution_count": 22,
   "metadata": {
    "colab": {
     "base_uri": "https://localhost:8080/",
     "height": 295
    },
    "colab_type": "code",
    "id": "F8IJ3-tlIany",
    "outputId": "e9b754f2-de57-4aeb-cd1f-0db5274f74c9"
   },
   "outputs": [
    {
     "data": {
      "image/png": "[encoded data removed]",
      "text/plain": [
       "<Figure size 432x288 with 1 Axes>"
      ]
     },
     "metadata": {
      "needs_background": "light"
     },
     "output_type": "display_data"
    }
   ],
   "source": [
    "\n",
    "fpr = dict()\n",
    "tpr = dict()\n",
    "roc_auc = dict()\n",
    "for i in range(2):\n",
    "    fpr[i], tpr[i], _ = roc_curve(y_test, prediction_prob)\n",
    "    roc_auc[i] = auc(fpr[i], tpr[i])\n",
    "\n",
    "\n",
    "pyplot.figure()\n",
    "pyplot.plot(fpr[0], tpr[0],color='blue', lw=1, label='CS-CNN - ROC curve (area = %0.2f)' % roc_auc[0])\n",
    "\n",
    "fpr = dict()\n",
    "tpr = dict()\n",
    "roc_auc = dict()\n",
    "for i in range(2):\n",
    "    fpr[i], tpr[i], _ = roc_curve(y_test, prediction_prob1)\n",
    "    roc_auc[i] = auc(fpr[i], tpr[i])\n",
    "pyplot.plot(fpr[0], tpr[0],color='darkorange', lw=1, label='CNN - ROC curve (area = %0.2f)' % roc_auc[0])\n",
    "pyplot.plot([0, 1], [0, 1], color='red', lw=1, linestyle='--')\n",
    "pyplot.xlim([0.0, 1.0])\n",
    "pyplot.ylim([0.0, 1.05])\n",
    "pyplot.xlabel('False Positive Rate')\n",
    "pyplot.ylabel('True Positive Rate')\n",
    "pyplot.title('CNN - Receiver operating characteristic')\n",
    "pyplot.legend(loc=\"lower right\")\n",
    "pyplot.show()"
   ]
  },
  {
   "cell_type": "code",
   "execution_count": 24,
   "metadata": {
    "colab": {},
    "colab_type": "code",
    "id": "nDj9uwZWJBBf"
   },
   "outputs": [],
   "source": [
    "m1model = Model(inputs=model.input,outputs=model.get_layer('dense').output)\n",
    "m2model = Model(inputs=model1.input,outputs=model1.get_layer('dense_4').output)"
   ]
  },
  {
   "cell_type": "code",
   "execution_count": 25,
   "metadata": {
    "colab": {
     "base_uri": "https://localhost:8080/",
     "height": 85
    },
    "colab_type": "code",
    "id": "J6dHPeHrNKXj",
    "outputId": "668de787-daf2-4eca-af69-29914aa49bf0"
   },
   "outputs": [
    {
     "name": "stdout",
     "output_type": "stream",
     "text": [
      "40/40 [==============================] - 8s 194ms/step\n",
      "17/17 [==============================] - 3s 183ms/step\n",
      "40/40 [==============================] - 12s 283ms/step\n",
      "17/17 [==============================] - 4s 259ms/step\n"
     ]
    }
   ],
   "source": [
    "m1_x_train = m1model.predict(x_train,verbose=1)\n",
    "m1_x_test = m1model.predict(x_test,verbose=1)\n",
    "\n",
    "m2_x_train = m2model.predict(x_train,verbose=1)\n",
    "m2_x_test = m2model.predict(x_test,verbose=1)"
   ]
  },
  {
   "cell_type": "code",
   "execution_count": 26,
   "metadata": {
    "colab": {
     "base_uri": "https://localhost:8080/",
     "height": 51
    },
    "colab_type": "code",
    "id": "rOWwASaINooU",
    "outputId": "09566efc-abdc-4e80-c21b-50bb8c0e3d1a"
   },
   "outputs": [
    {
     "name": "stdout",
     "output_type": "stream",
     "text": [
      "Shape of model1 Train and Test DF :  (1249, 128)  :  (536, 128)\n",
      "Shape of model2 Train and Test DF :  (1249, 128)  :  (536, 128)\n"
     ]
    }
   ],
   "source": [
    "print(\"Shape of model1 Train and Test DF : \",m1_x_train.shape,\" : \",m1_x_test.shape)\n",
    "print(\"Shape of model2 Train and Test DF : \",m2_x_train.shape,\" : \",m2_x_test.shape)"
   ]
  },
  {
   "cell_type": "code",
   "execution_count": 27,
   "metadata": {
    "colab": {},
    "colab_type": "code",
    "id": "-tc4PGZgOOnl"
   },
   "outputs": [],
   "source": [
    "def printMetrics(true,pred):\n",
    "    print(\"Accuracy : \",accuracy_score(true, pred))\n",
    "    print(\"Precision\",precision_score(true, pred , average=\"weighted\"))\n",
    "    print(\"Recall : \",recall_score(true, pred , average=\"weighted\"))\n",
    "    print(\"F1-score : \",f1_score(true, pred, average=\"weighted\"))\n",
    "    print(\"Confusion Matrix : \")\n",
    "    print(confusion_matrix(true, pred))\n",
    "    print(classification_report(true,pred))"
   ]
  },
  {
   "cell_type": "code",
   "execution_count": 28,
   "metadata": {
    "colab": {
     "base_uri": "https://localhost:8080/",
     "height": 683
    },
    "colab_type": "code",
    "id": "4alG-hj2N2Yf",
    "outputId": "fb901fc5-47d1-4ec4-a05a-59f901958693"
   },
   "outputs": [
    {
     "name": "stdout",
     "output_type": "stream",
     "text": [
      "cost-insensitive\n",
      "Accuracy :  0.9981343283582089\n",
      "Precision 0.9981419745534621\n",
      "Recall :  0.9981343283582089\n",
      "F1-score :  0.9981346492410271\n",
      "Confusion Matrix : \n",
      "[[243   0]\n",
      " [  1 292]]\n",
      "              precision    recall  f1-score   support\n",
      "\n",
      "           0       1.00      1.00      1.00       243\n",
      "           1       1.00      1.00      1.00       293\n",
      "\n",
      "    accuracy                           1.00       536\n",
      "   macro avg       1.00      1.00      1.00       536\n",
      "weighted avg       1.00      1.00      1.00       536\n",
      "\n",
      "cost-sensitive\n",
      "Accuracy :  0.9869402985074627\n",
      "Precision 0.9869517154291421\n",
      "Recall :  0.9869402985074627\n",
      "F1-score :  0.986942544687189\n",
      "Confusion Matrix : \n",
      "[[240   3]\n",
      " [  4 289]]\n",
      "              precision    recall  f1-score   support\n",
      "\n",
      "           0       0.98      0.99      0.99       243\n",
      "           1       0.99      0.99      0.99       293\n",
      "\n",
      "    accuracy                           0.99       536\n",
      "   macro avg       0.99      0.99      0.99       536\n",
      "weighted avg       0.99      0.99      0.99       536\n",
      "\n"
     ]
    }
   ],
   "source": [
    "LR = LogisticRegression()\n",
    "LR.fit(m1_x_train, y_train)\n",
    "LRprob = LR.predict_proba(m1_x_test)\n",
    "y_pred = LR.predict(m1_x_test)\n",
    "print(\"cost-insensitive\")\n",
    "printMetrics(y_test,y_pred)\n",
    "\n",
    "LR = LogisticRegression()\n",
    "LR.fit(m2_x_train, y_train)\n",
    "CS_LRprob = LR.predict_proba(m2_x_test)\n",
    "y_pred = LR.predict(m2_x_test)\n",
    "print(\"cost-sensitive\")\n",
    "printMetrics(y_test,y_pred)"
   ]
  },
  {
   "cell_type": "code",
   "execution_count": 29,
   "metadata": {
    "colab": {
     "base_uri": "https://localhost:8080/",
     "height": 683
    },
    "colab_type": "code",
    "id": "3N7zMQB9UoOb",
    "outputId": "1e488a3f-bc10-4fd5-9d90-d2514d666383"
   },
   "outputs": [
    {
     "name": "stdout",
     "output_type": "stream",
     "text": [
      "cost-insensitive\n",
      "Accuracy :  0.996268656716418\n",
      "Precision 0.996268656716418\n",
      "Recall :  0.996268656716418\n",
      "F1-score :  0.996268656716418\n",
      "Confusion Matrix : \n",
      "[[242   1]\n",
      " [  1 292]]\n",
      "              precision    recall  f1-score   support\n",
      "\n",
      "           0       1.00      1.00      1.00       243\n",
      "           1       1.00      1.00      1.00       293\n",
      "\n",
      "    accuracy                           1.00       536\n",
      "   macro avg       1.00      1.00      1.00       536\n",
      "weighted avg       1.00      1.00      1.00       536\n",
      "\n",
      "cost-sensitive\n",
      "Accuracy :  0.9888059701492538\n",
      "Precision 0.9888059701492538\n",
      "Recall :  0.9888059701492538\n",
      "F1-score :  0.9888059701492538\n",
      "Confusion Matrix : \n",
      "[[240   3]\n",
      " [  3 290]]\n",
      "              precision    recall  f1-score   support\n",
      "\n",
      "           0       0.99      0.99      0.99       243\n",
      "           1       0.99      0.99      0.99       293\n",
      "\n",
      "    accuracy                           0.99       536\n",
      "   macro avg       0.99      0.99      0.99       536\n",
      "weighted avg       0.99      0.99      0.99       536\n",
      "\n"
     ]
    }
   ],
   "source": [
    "RF = RandomForestClassifier()\n",
    "RF.fit(m1_x_train, y_train)\n",
    "RFprob = RF.predict_proba(m1_x_test)\n",
    "y_pred = RF.predict(m1_x_test)\n",
    "print(\"cost-insensitive\")\n",
    "printMetrics(y_test,y_pred)\n",
    "\n",
    "RF = RandomForestClassifier()\n",
    "RF.fit(m2_x_train, y_train)\n",
    "CS_RFprob = RF.predict_proba(m2_x_test)\n",
    "y_pred = RF.predict(m2_x_test)\n",
    "print(\"cost-sensitive\")\n",
    "printMetrics(y_test,y_pred)"
   ]
  },
  {
   "cell_type": "code",
   "execution_count": 30,
   "metadata": {
    "colab": {
     "base_uri": "https://localhost:8080/",
     "height": 595
    },
    "colab_type": "code",
    "id": "gYyDSr-KU75W",
    "outputId": "73b881a5-d2e5-488f-a034-9ff2cfb0032a"
   },
   "outputs": [
    {
     "name": "stdout",
     "output_type": "stream",
     "text": [
      "cost-insensitive\n",
      "Accuracy :  0.9888059701492538\n",
      "Precision 0.9889003799732583\n",
      "Recall :  0.9888059701492538\n",
      "F1-score :  0.9887974677565123\n",
      "Confusion Matrix : \n",
      "[[238   5]\n",
      " [  1 292]]\n",
      "              precision    recall  f1-score   support\n",
      "\n",
      "           0       1.00      0.98      0.99       243\n",
      "           1       0.98      1.00      0.99       293\n",
      "\n",
      "    accuracy                           0.99       536\n",
      "   macro avg       0.99      0.99      0.99       536\n",
      "weighted avg       0.99      0.99      0.99       536\n",
      "\n",
      "cost-sensitive\n",
      "Accuracy :  0.9869402985074627\n",
      "Precision 0.9871335944604933\n",
      "Recall :  0.9869402985074627\n",
      "F1-score :  0.9869505990036079\n",
      "Confusion Matrix : \n",
      "[[242   1]\n",
      " [  6 287]]\n",
      "              precision    recall  f1-score   support\n",
      "\n",
      "           0       0.98      1.00      0.99       243\n",
      "           1       1.00      0.98      0.99       293\n",
      "\n",
      "    accuracy                           0.99       536\n",
      "   macro avg       0.99      0.99      0.99       536\n",
      "weighted avg       0.99      0.99      0.99       536\n",
      "\n"
     ]
    }
   ],
   "source": [
    "DT = DecisionTreeClassifier()\n",
    "DT.fit(m1_x_train, y_train)\n",
    "DTprob = DT.predict_proba(m1_x_test)\n",
    "y_pred = DT.predict(m1_x_test)\n",
    "print(\"cost-insensitive\")\n",
    "printMetrics(y_test,y_pred)\n",
    "\n",
    "DT = DecisionTreeClassifier()\n",
    "DT.fit(m2_x_train, y_train)\n",
    "CS_DTprob = DT.predict_proba(m2_x_test)\n",
    "y_pred = DT.predict(m2_x_test)\n",
    "print(\"cost-sensitive\")\n",
    "printMetrics(y_test,y_pred)"
   ]
  },
  {
   "cell_type": "code",
   "execution_count": 31,
   "metadata": {
    "colab": {
     "base_uri": "https://localhost:8080/",
     "height": 595
    },
    "colab_type": "code",
    "id": "Vn0NQGd1VJuV",
    "outputId": "cdd80a30-0187-47a4-94a6-27a7bd7a7059"
   },
   "outputs": [
    {
     "name": "stdout",
     "output_type": "stream",
     "text": [
      "cost-insensitive\n",
      "Accuracy :  0.9981343283582089\n",
      "Precision 0.9981419745534621\n",
      "Recall :  0.9981343283582089\n",
      "F1-score :  0.9981346492410271\n",
      "Confusion Matrix : \n",
      "[[243   0]\n",
      " [  1 292]]\n",
      "              precision    recall  f1-score   support\n",
      "\n",
      "           0       1.00      1.00      1.00       243\n",
      "           1       1.00      1.00      1.00       293\n",
      "\n",
      "    accuracy                           1.00       536\n",
      "   macro avg       1.00      1.00      1.00       536\n",
      "weighted avg       1.00      1.00      1.00       536\n",
      "\n",
      "cost-sensitive\n",
      "Accuracy :  0.9869402985074627\n",
      "Precision 0.9869517154291421\n",
      "Recall :  0.9869402985074627\n",
      "F1-score :  0.986942544687189\n",
      "Confusion Matrix : \n",
      "[[240   3]\n",
      " [  4 289]]\n",
      "              precision    recall  f1-score   support\n",
      "\n",
      "           0       0.98      0.99      0.99       243\n",
      "           1       0.99      0.99      0.99       293\n",
      "\n",
      "    accuracy                           0.99       536\n",
      "   macro avg       0.99      0.99      0.99       536\n",
      "weighted avg       0.99      0.99      0.99       536\n",
      "\n"
     ]
    }
   ],
   "source": [
    "\n",
    "KNN = KNeighborsClassifier()\n",
    "KNN.fit(m1_x_train, y_train)\n",
    "KNNprob = KNN.predict_proba(m1_x_test)\n",
    "y_pred = KNN.predict(m1_x_test)\n",
    "print(\"cost-insensitive\")\n",
    "printMetrics(y_test,y_pred)\n",
    "\n",
    "KNN = KNeighborsClassifier()\n",
    "KNN.fit(m2_x_train, y_train)\n",
    "CS_KNNprob = KNN.predict_proba(m2_x_test)\n",
    "y_pred = KNN.predict(m2_x_test)\n",
    "print(\"cost-sensitive\")\n",
    "printMetrics(y_test,y_pred)"
   ]
  },
  {
   "cell_type": "code",
   "execution_count": 32,
   "metadata": {
    "colab": {
     "base_uri": "https://localhost:8080/",
     "height": 595
    },
    "colab_type": "code",
    "id": "YI-AnbGXVLA8",
    "outputId": "17ab714f-4605-4546-e3db-b487daad1b59"
   },
   "outputs": [
    {
     "name": "stdout",
     "output_type": "stream",
     "text": [
      "cost-insensitive\n",
      "Accuracy :  0.996268656716418\n",
      "Precision 0.996268656716418\n",
      "Recall :  0.996268656716418\n",
      "F1-score :  0.996268656716418\n",
      "Confusion Matrix : \n",
      "[[242   1]\n",
      " [  1 292]]\n",
      "              precision    recall  f1-score   support\n",
      "\n",
      "           0       1.00      1.00      1.00       243\n",
      "           1       1.00      1.00      1.00       293\n",
      "\n",
      "    accuracy                           1.00       536\n",
      "   macro avg       1.00      1.00      1.00       536\n",
      "weighted avg       1.00      1.00      1.00       536\n",
      "\n",
      "cost-sensitive\n",
      "Accuracy :  0.9906716417910447\n",
      "Precision 0.9907239562323519\n",
      "Recall :  0.9906716417910447\n",
      "F1-score :  0.990666428164569\n",
      "Confusion Matrix : \n",
      "[[239   4]\n",
      " [  1 292]]\n",
      "              precision    recall  f1-score   support\n",
      "\n",
      "           0       1.00      0.98      0.99       243\n",
      "           1       0.99      1.00      0.99       293\n",
      "\n",
      "    accuracy                           0.99       536\n",
      "   macro avg       0.99      0.99      0.99       536\n",
      "weighted avg       0.99      0.99      0.99       536\n",
      "\n"
     ]
    }
   ],
   "source": [
    "\n",
    "GNB = GaussianNB()\n",
    "GNB.fit(m1_x_train, y_train)\n",
    "GNBprob = GNB.predict_proba(m1_x_test)\n",
    "y_pred = GNB.predict(m1_x_test)\n",
    "print(\"cost-insensitive\")\n",
    "printMetrics(y_test,y_pred)\n",
    "\n",
    "GNB = GaussianNB()\n",
    "GNB.fit(m2_x_train, y_train)\n",
    "CS_GNBprob = GNB.predict_proba(m2_x_test)\n",
    "y_pred = GNB.predict(m2_x_test)\n",
    "print(\"cost-sensitive\")\n",
    "printMetrics(y_test,y_pred)"
   ]
  },
  {
   "cell_type": "code",
   "execution_count": 33,
   "metadata": {
    "colab": {
     "base_uri": "https://localhost:8080/",
     "height": 595
    },
    "colab_type": "code",
    "id": "RmPbNRrIVLDj",
    "outputId": "9a39e468-d571-489c-e480-9be2e62e402e"
   },
   "outputs": [
    {
     "name": "stdout",
     "output_type": "stream",
     "text": [
      "cost-insensitive\n",
      "Accuracy :  0.9981343283582089\n",
      "Precision 0.9981419745534621\n",
      "Recall :  0.9981343283582089\n",
      "F1-score :  0.9981346492410271\n",
      "Confusion Matrix : \n",
      "[[243   0]\n",
      " [  1 292]]\n",
      "              precision    recall  f1-score   support\n",
      "\n",
      "           0       1.00      1.00      1.00       243\n",
      "           1       1.00      1.00      1.00       293\n",
      "\n",
      "    accuracy                           1.00       536\n",
      "   macro avg       1.00      1.00      1.00       536\n",
      "weighted avg       1.00      1.00      1.00       536\n",
      "\n",
      "cost-sensitive\n",
      "Accuracy :  0.9888059701492538\n",
      "Precision 0.9888255991300269\n",
      "Recall :  0.9888059701492538\n",
      "F1-score :  0.9888018794541374\n",
      "Confusion Matrix : \n",
      "[[239   4]\n",
      " [  2 291]]\n",
      "              precision    recall  f1-score   support\n",
      "\n",
      "           0       0.99      0.98      0.99       243\n",
      "           1       0.99      0.99      0.99       293\n",
      "\n",
      "    accuracy                           0.99       536\n",
      "   macro avg       0.99      0.99      0.99       536\n",
      "weighted avg       0.99      0.99      0.99       536\n",
      "\n"
     ]
    }
   ],
   "source": [
    "AB = AdaBoostClassifier()\n",
    "AB.fit(m1_x_train, y_train)\n",
    "ABprob = AB.predict_proba(m1_x_test)\n",
    "y_pred = AB.predict(m1_x_test)\n",
    "print(\"cost-insensitive\")\n",
    "printMetrics(y_test,y_pred)\n",
    "\n",
    "AB = AdaBoostClassifier()\n",
    "AB.fit(m2_x_train, y_train)\n",
    "CS_ABprob = AB.predict_proba(m2_x_test)\n",
    "y_pred = AB.predict(m2_x_test)\n",
    "print(\"cost-sensitive\")\n",
    "printMetrics(y_test,y_pred)"
   ]
  },
  {
   "cell_type": "code",
   "execution_count": 34,
   "metadata": {
    "colab": {
     "base_uri": "https://localhost:8080/",
     "height": 595
    },
    "colab_type": "code",
    "id": "6v8X2z4fVLGG",
    "outputId": "e2a34aea-7a63-43b1-b7a2-1c9a6c6d913f"
   },
   "outputs": [
    {
     "name": "stdout",
     "output_type": "stream",
     "text": [
      "cost-insensitive\n",
      "Accuracy :  0.9981343283582089\n",
      "Precision 0.9981419745534621\n",
      "Recall :  0.9981343283582089\n",
      "F1-score :  0.9981346492410271\n",
      "Confusion Matrix : \n",
      "[[243   0]\n",
      " [  1 292]]\n",
      "              precision    recall  f1-score   support\n",
      "\n",
      "           0       1.00      1.00      1.00       243\n",
      "           1       1.00      1.00      1.00       293\n",
      "\n",
      "    accuracy                           1.00       536\n",
      "   macro avg       1.00      1.00      1.00       536\n",
      "weighted avg       1.00      1.00      1.00       536\n",
      "\n",
      "cost-sensitive\n",
      "Accuracy :  0.9869402985074627\n",
      "Precision 0.9869517154291421\n",
      "Recall :  0.9869402985074627\n",
      "F1-score :  0.986942544687189\n",
      "Confusion Matrix : \n",
      "[[240   3]\n",
      " [  4 289]]\n",
      "              precision    recall  f1-score   support\n",
      "\n",
      "           0       0.98      0.99      0.99       243\n",
      "           1       0.99      0.99      0.99       293\n",
      "\n",
      "    accuracy                           0.99       536\n",
      "   macro avg       0.99      0.99      0.99       536\n",
      "weighted avg       0.99      0.99      0.99       536\n",
      "\n"
     ]
    }
   ],
   "source": [
    "LSVM = svm.SVC(kernel='linear',probability=True)\n",
    "LSVM.fit(m1_x_train, y_train)\n",
    "LSVMprob = LSVM.predict_proba(m1_x_test)\n",
    "y_pred = LSVM.predict(m1_x_test)\n",
    "print(\"cost-insensitive\")\n",
    "printMetrics(y_test,y_pred)\n",
    "\n",
    "LSVM = svm.SVC(kernel='linear',probability=True)\n",
    "LSVM.fit(m2_x_train, y_train)\n",
    "CS_LSVMprob = LSVM.predict_proba(m2_x_test)\n",
    "y_pred = LSVM.predict(m2_x_test)\n",
    "print(\"cost-sensitive\")\n",
    "printMetrics(y_test,y_pred)"
   ]
  },
  {
   "cell_type": "code",
   "execution_count": 35,
   "metadata": {
    "colab": {
     "base_uri": "https://localhost:8080/",
     "height": 649
    },
    "colab_type": "code",
    "id": "V-LawyEnVLIv",
    "outputId": "6e422d62-2340-482f-cda2-b3e4515468b4"
   },
   "outputs": [
    {
     "name": "stdout",
     "output_type": "stream",
     "text": [
      "cost-insensitive\n",
      "Accuracy :  0.9981343283582089\n",
      "Precision 0.9981419745534621\n",
      "Recall :  0.9981343283582089\n",
      "F1-score :  0.9981346492410271\n",
      "Confusion Matrix : \n",
      "[[243   0]\n",
      " [  1 292]]\n",
      "              precision    recall  f1-score   support\n",
      "\n",
      "           0       1.00      1.00      1.00       243\n",
      "           1       1.00      1.00      1.00       293\n",
      "\n",
      "    accuracy                           1.00       536\n",
      "   macro avg       1.00      1.00      1.00       536\n",
      "weighted avg       1.00      1.00      1.00       536\n",
      "\n",
      "cost-sensitive\n",
      "Accuracy :  0.9869402985074627\n",
      "Precision 0.9869517154291421\n",
      "Recall :  0.9869402985074627\n",
      "F1-score :  0.986942544687189\n",
      "Confusion Matrix : \n",
      "[[240   3]\n",
      " [  4 289]]\n",
      "              precision    recall  f1-score   support\n",
      "\n",
      "           0       0.98      0.99      0.99       243\n",
      "           1       0.99      0.99      0.99       293\n",
      "\n",
      "    accuracy                           0.99       536\n",
      "   macro avg       0.99      0.99      0.99       536\n",
      "weighted avg       0.99      0.99      0.99       536\n",
      "\n"
     ]
    }
   ],
   "source": [
    "RSVM = svm.SVC(kernel='rbf',probability=True)\n",
    "RSVM.fit(m1_x_train, y_train)\n",
    "RSVMprob = RSVM.predict_proba(m1_x_test)\n",
    "y_pred = RSVM.predict(m1_x_test)\n",
    "print(\"cost-insensitive\")\n",
    "printMetrics(y_test,y_pred)\n",
    "\n",
    "RSVM = svm.SVC(kernel='linear',probability=True)\n",
    "RSVM.fit(m2_x_train, y_train)\n",
    "CS_RSVMprob = RSVM.predict_proba(m2_x_test)\n",
    "y_pred = RSVM.predict(m2_x_test)\n",
    "print(\"cost-sensitive\")\n",
    "printMetrics(y_test,y_pred)"
   ]
  },
  {
   "cell_type": "code",
   "execution_count": 36,
   "metadata": {
    "colab": {},
    "colab_type": "code",
    "id": "N7XLP5Nbetu9"
   },
   "outputs": [],
   "source": [
    "SMALL_SIZE = 12\n",
    "MEDIUM_SIZE = 10\n",
    "BIGGER_SIZE = 18\n",
    "\n",
    "pyplot.rc('font', size=SMALL_SIZE)          # controls default text sizes\n",
    "pyplot.rc('axes', titlesize=SMALL_SIZE)     # fontsize of the axes title\n",
    "pyplot.rc('axes', labelsize=SMALL_SIZE)    # fontsize of the x and y labels\n",
    "pyplot.rc('xtick', labelsize=SMALL_SIZE)    # fontsize of the tick labels\n",
    "pyplot.rc('ytick', labelsize=SMALL_SIZE)    # fontsize of the tick labels\n",
    "pyplot.rc('legend', fontsize=BIGGER_SIZE)    # legend fontsize\n",
    "pyplot.rc('figure', titlesize=SMALL_SIZE)  # fontsize of the figure title\n",
    "\n",
    "def rocinfo(pred):\n",
    "    fpr = dict()\n",
    "    tpr = dict()\n",
    "    roc_auc = dict()\n",
    "    for i in range(2):\n",
    "        fpr[i], tpr[i], _ = roc_curve(y_test, pred)\n",
    "        roc_auc[i] = auc(fpr[i], tpr[i])\n",
    "    return fpr,tpr,roc_auc"
   ]
  },
  {
   "cell_type": "code",
   "execution_count": 37,
   "metadata": {
    "colab": {
     "base_uri": "https://localhost:8080/",
     "height": 628
    },
    "colab_type": "code",
    "id": "xb32IwbJfALd",
    "outputId": "5edebaa1-d633-4d89-e2ff-26aa4b92b25a"
   },
   "outputs": [
    {
     "data": {
      "image/png": "[encoded data removed]",
      "text/plain": [
       "<Figure size 1080x720 with 1 Axes>"
      ]
     },
     "metadata": {
      "needs_background": "light"
     },
     "output_type": "display_data"
    }
   ],
   "source": [
    "pyplot.figure(figsize=(15,10))\n",
    "\n",
    "fpr,tpr,roc_auc = rocinfo(prediction_prob1) \n",
    "pyplot.plot(fpr[0], tpr[0],color='blue', lw=1, label='CNN - ROC curve (area = %0.2f)' % roc_auc[0])\n",
    "\n",
    "fpr,tpr,roc_auc = rocinfo(LRprob[:,1]) \n",
    "pyplot.plot(fpr[0], tpr[0],color='yellow', lw=1, label='CNN-LR - ROC curve (area = %0.2f)' % roc_auc[0])\n",
    "\n",
    "fpr,tpr,roc_auc = rocinfo(RFprob[:,1]) \n",
    "pyplot.plot(fpr[0], tpr[0],color='brown', lw=1, label='CNN-RF - ROC curve (area = %0.2f)' % roc_auc[0])\n",
    "\n",
    "fpr,tpr,roc_auc = rocinfo(DTprob[:,1]) \n",
    "pyplot.plot(fpr[0], tpr[0],color='darkorange', lw=1, label='CNN-DT - ROC curve (area = %0.2f)' % roc_auc[0])\n",
    "\n",
    "fpr,tpr,roc_auc = rocinfo(KNNprob[:,1]) \n",
    "pyplot.plot(fpr[0], tpr[0],color='green', lw=1, label='CNN-KNN - ROC curve (area = %0.2f)' % roc_auc[0])\n",
    "\n",
    "fpr,tpr,roc_auc = rocinfo(GNBprob[:,1]) \n",
    "pyplot.plot(fpr[0], tpr[0],color='cyan', lw=1, label='CNN-GNB - ROC curve (area = %0.2f)' % roc_auc[0])\n",
    "\n",
    "fpr,tpr,roc_auc = rocinfo(ABprob[:,1]) \n",
    "pyplot.plot(fpr[0], tpr[0],color='magenta', lw=1, label='CNN-AB - ROC curve (area = %0.2f)' % roc_auc[0])\n",
    "\n",
    "fpr,tpr,roc_auc = rocinfo(LSVMprob[:,1]) \n",
    "pyplot.plot(fpr[0], tpr[0],color='black', lw=1, label='CNN-LSVM - ROC curve (area = %0.2f)' % roc_auc[0])\n",
    "\n",
    "fpr,tpr,roc_auc = rocinfo(RSVMprob[:,1]) \n",
    "pyplot.plot(fpr[0], tpr[0],color='pink', lw=1, label='CNN-RSVM - ROC curve (area = %0.2f)' % roc_auc[0])\n",
    "\n",
    "pyplot.plot([0, 1], [0, 1], color='red', lw=1, linestyle='--')\n",
    "pyplot.xlim([0.0, 1.0])\n",
    "pyplot.ylim([0.0, 1.05])\n",
    "pyplot.xlabel('False Positive Rate')\n",
    "pyplot.ylabel('True Positive Rate')\n",
    "pyplot.title('CNN - Receiver operating characteristic')\n",
    "pyplot.legend(loc=\"lower right\")\n",
    "pyplot.show()"
   ]
  },
  {
   "cell_type": "code",
   "execution_count": 38,
   "metadata": {
    "colab": {
     "base_uri": "https://localhost:8080/",
     "height": 628
    },
    "colab_type": "code",
    "id": "EHKjpLYEc3u_",
    "outputId": "fad908f9-3a76-44c0-a19c-e4343ca1d654"
   },
   "outputs": [
    {
     "data": {
      "image/png": "[encoded data removed]",
      "text/plain": [
       "<Figure size 1080x720 with 1 Axes>"
      ]
     },
     "metadata": {
      "needs_background": "light"
     },
     "output_type": "display_data"
    }
   ],
   "source": [
    "pyplot.figure(figsize=(15,10))\n",
    "\n",
    "fpr,tpr,roc_auc = rocinfo(prediction_prob) \n",
    "pyplot.plot(fpr[0], tpr[0],color='blue', lw=1, label='CSCNN - ROC curve (area = %0.2f)' % roc_auc[0])\n",
    "\n",
    "fpr,tpr,roc_auc = rocinfo(CS_LRprob[:,1]) \n",
    "pyplot.plot(fpr[0], tpr[0],color='yellow', lw=1, label='CSCNN-LR - ROC curve (area = %0.2f)' % roc_auc[0])\n",
    "\n",
    "fpr,tpr,roc_auc = rocinfo(CS_RFprob[:,1]) \n",
    "pyplot.plot(fpr[0], tpr[0],color='brown', lw=1, label='CSCNN-RF - ROC curve (area = %0.2f)' % roc_auc[0])\n",
    "\n",
    "fpr,tpr,roc_auc = rocinfo(CS_DTprob[:,1]) \n",
    "pyplot.plot(fpr[0], tpr[0],color='darkorange', lw=1, label='CSCNN-DT - ROC curve (area = %0.2f)' % roc_auc[0])\n",
    "\n",
    "fpr,tpr,roc_auc = rocinfo(CS_KNNprob[:,1]) \n",
    "pyplot.plot(fpr[0], tpr[0],color='green', lw=1, label='CSCNN-KNN - ROC curve (area = %0.2f)' % roc_auc[0])\n",
    "\n",
    "fpr,tpr,roc_auc = rocinfo(CS_GNBprob[:,1]) \n",
    "pyplot.plot(fpr[0], tpr[0],color='cyan', lw=1, label='CSCNN-GNB - ROC curve (area = %0.2f)' % roc_auc[0])\n",
    "\n",
    "fpr,tpr,roc_auc = rocinfo(CS_ABprob[:,1]) \n",
    "pyplot.plot(fpr[0], tpr[0],color='magenta', lw=1, label='CSCNN-AB - ROC curve (area = %0.2f)' % roc_auc[0])\n",
    "\n",
    "fpr,tpr,roc_auc = rocinfo(CS_LSVMprob[:,1]) \n",
    "pyplot.plot(fpr[0], tpr[0],color='black', lw=1, label='CSCNN-LSVM - ROC curve (area = %0.2f)' % roc_auc[0])\n",
    "\n",
    "fpr,tpr,roc_auc = rocinfo(CS_RSVMprob[:,1]) \n",
    "pyplot.plot(fpr[0], tpr[0],color='pink', lw=1, label='CSCNN-RSVM - ROC curve (area = %0.2f)' % roc_auc[0])\n",
    "\n",
    "pyplot.plot([0, 1], [0, 1], color='red', lw=1, linestyle='--')\n",
    "pyplot.xlim([0.0, 1.0])\n",
    "pyplot.ylim([0.0, 1.05])\n",
    "pyplot.xlabel('False Positive Rate')\n",
    "pyplot.ylabel('True Positive Rate')\n",
    "pyplot.title('CNN - Receiver operating characteristic')\n",
    "pyplot.legend(loc=\"lower right\")\n",
    "pyplot.show()"
   ]
  },
  {
   "cell_type": "code",
   "execution_count": null,
   "metadata": {
    "colab": {},
    "colab_type": "code",
    "id": "OzWSRgxLQAgF"
   },
   "outputs": [],
   "source": []
  }
 ],
 "metadata": {
  "accelerator": "GPU",
  "colab": {
   "collapsed_sections": [],
   "name": "Image_spam_hunter",
   "provenance": []
  },
  "kernelspec": {
   "display_name": "Python 3 (ipykernel)",
   "language": "python",
   "name": "python3"
  },
  "language_info": {
   "codemirror_mode": {
    "name": "ipython",
    "version": 3
   },
   "file_extension": ".py",
   "mimetype": "text/x-python",
   "name": "python",
   "nbconvert_exporter": "python",
   "pygments_lexer": "ipython3",
   "version": "3.9.7"
  }
 },
 "nbformat": 4,
 "nbformat_minor": 1
}
