{
 "cells": [
  {
   "cell_type": "code",
   "execution_count": 1,
   "metadata": {
    "colab": {},
    "colab_type": "code",
    "id": "AKI-7a14PpNN"
   },
   "outputs": [],
   "source": [
    "import os, shutil\n",
    "import numpy as np\n",
    "\n",
    "from matplotlib import image, pyplot\n",
    "from skimage.transform import resize\n",
    "\n",
    "\n",
    "from tensorflow.keras.utils import to_categorical\n",
    "from keras.models import Sequential, Model\n",
    "from keras.layers import Conv2D,MaxPool2D,Dense,Flatten,Dropout\n",
    "\n",
    "from keras import callbacks\n",
    "from keras.callbacks import ModelCheckpoint, ReduceLROnPlateau, CSVLogger\n",
    "\n",
    "from sklearn.model_selection import train_test_split\n",
    "from sklearn.metrics import confusion_matrix,accuracy_score, precision_score, f1_score, recall_score,classification_report,roc_curve, auc \n",
    "from sklearn.utils import class_weight\n",
    "\n",
    "from sklearn.linear_model import LogisticRegression\n",
    "from sklearn.naive_bayes import GaussianNB\n",
    "from sklearn.neighbors import KNeighborsClassifier\n",
    "from sklearn.tree import DecisionTreeClassifier\n",
    "from sklearn.ensemble import AdaBoostClassifier, RandomForestClassifier\n",
    "from sklearn.svm import SVC\n",
    "from sklearn import svm\n",
    "from PIL import Image,ImageFile"
   ]
  },
  {
   "cell_type": "code",
   "execution_count": 2,
   "metadata": {
    "colab": {},
    "colab_type": "code",
    "id": "pGHxzhfC9Hcw"
   },
   "outputs": [],
   "source": [
    "resultPath = 'C:/Users/HP/Downloads/Results/CNN'"
   ]
  },
  {
   "cell_type": "code",
   "execution_count": 3,
   "metadata": {
    "colab": {
     "base_uri": "https://localhost:8080/",
     "height": 68
    },
    "colab_type": "code",
    "id": "4CEFGdqcmsqx",
    "outputId": "7cc1989d-4064-405e-f279-566d88005b6f"
   },
   "outputs": [
    {
     "name": "stdout",
     "output_type": "stream",
     "text": [
      ">>>Reading  personal_image_ham\n",
      ">>>Reading  spam_archive\n"
     ]
    }
   ],
   "source": [
    "DATA_PATH = \"C:/Users/HP/Downloads/spam_and_ham/\"\n",
    "spamData=[]\n",
    "label=[]\n",
    "hashList=[]\n",
    "count=-1\n",
    "i = 0\n",
    "for folder in os.listdir(DATA_PATH):\n",
    "    print(\">>>Reading \",folder)\n",
    "    count+=1\n",
    "    i = i+1\n",
    "    if i ==1 :\n",
    "        for file in os.listdir(DATA_PATH+folder):\n",
    "            if(str(file).endswith('.jpg') or str(file).endswith('.JPG') or str(file).endswith('.jpeg') or str(file).endswith('.JPEG')or str(file).endswith('.PNG')or str(file).endswith('.png') or str(file).endswith('.bmp')or str(file).endswith('.BMP')):\n",
    "                ImageFile.LOAD_TRUNCATED_IMAGES = True\n",
    "                try:\n",
    "                    img = image.imread(DATA_PATH+folder+'/'+file)\n",
    "                except:\n",
    "                    continue\n",
    "                hsh = hash(tuple(np.array(img).flatten()))\n",
    "                if(hsh not in hashList):\n",
    "                    spamData.append(resize(img, (156, 156, 3)))\n",
    "                    hashList.append(hsh)\n",
    "                    label.append(count)\n",
    "    else:\n",
    "        for file in os.listdir(DATA_PATH+folder):\n",
    "            if(str(file).endswith('.PNG')or str(file).endswith('.png') or str(file).endswith('.bmp')or str(file).endswith('.BMP')):\n",
    "                ImageFile.LOAD_TRUNCATED_IMAGES = True\n",
    "                try:\n",
    "                    img = image.imread(DATA_PATH+folder+'/'+file)\n",
    "                except:\n",
    "                    continue\n",
    "                hsh = hash(tuple(np.array(img).flatten()))\n",
    "                if(hsh not in hashList):\n",
    "                    spamData.append(resize(img, (156, 156, 3)))\n",
    "                    hashList.append(hsh)\n",
    "                    label.append(count)\n",
    "spamData=np.array(spamData)\n",
    "label=np.array(label)"
   ]
  },
  {
   "cell_type": "code",
   "execution_count": 4,
   "metadata": {
    "colab": {
     "base_uri": "https://localhost:8080/",
     "height": 51
    },
    "colab_type": "code",
    "id": "EHSoNhbjfT_b",
    "outputId": "b879c796-24b9-4d7b-e736-9bd9fe63bac9"
   },
   "outputs": [
    {
     "name": "stdout",
     "output_type": "stream",
     "text": [
      "Number of HAM 1519\n",
      "Number of SPAM 5084\n"
     ]
    }
   ],
   "source": [
    "print(\"Number of HAM\",len(label[label==0]))\n",
    "print(\"Number of SPAM\",len(label[label==1]))"
   ]
  },
  {
   "cell_type": "code",
   "execution_count": 5,
   "metadata": {
    "colab": {
     "base_uri": "https://localhost:8080/",
     "height": 34
    },
    "colab_type": "code",
    "id": "TbHVzhMYpfSR",
    "outputId": "c5f70e4a-4aac-4632-9cbf-2e7c17d580c8"
   },
   "outputs": [
    {
     "name": "stdout",
     "output_type": "stream",
     "text": [
      "Spam data shape :  (6603, 156, 156, 3)  Label shape :  (6603,)\n"
     ]
    }
   ],
   "source": [
    "print(\"Spam data shape : \",spamData.shape,\" Label shape : \",label.shape)"
   ]
  },
  {
   "cell_type": "code",
   "execution_count": 6,
   "metadata": {
    "colab": {},
    "colab_type": "code",
    "id": "pPed_TbTpfUy"
   },
   "outputs": [],
   "source": [
    "test_valid_Percentage = 0.3\n",
    "x_train,x_test,y_train,y_test = train_test_split(spamData,label,test_size = test_valid_Percentage,random_state=42, stratify=label,shuffle=True)"
   ]
  },
  {
   "cell_type": "code",
   "execution_count": 7,
   "metadata": {
    "colab": {
     "base_uri": "https://localhost:8080/",
     "height": 51
    },
    "colab_type": "code",
    "id": "yKCQLA9KpfXP",
    "outputId": "58d520cb-f173-47f4-e87d-38a4278ce87e"
   },
   "outputs": [
    {
     "name": "stdout",
     "output_type": "stream",
     "text": [
      "x_train shape :  (4622, 156, 156, 3)  y_train shape :  (4622,)\n",
      "x_test shape :  (1981, 156, 156, 3)  y_test shape :  (1981,)\n"
     ]
    }
   ],
   "source": [
    "print(\"x_train shape : \",x_train.shape,\" y_train shape : \",y_train.shape)\n",
    "print(\"x_test shape : \",x_test.shape,\" y_test shape : \",y_test.shape)"
   ]
  },
  {
   "cell_type": "code",
   "execution_count": 8,
   "metadata": {
    "colab": {
     "base_uri": "https://localhost:8080/",
     "height": 85
    },
    "colab_type": "code",
    "id": "YTwLFvg1gFcU",
    "outputId": "d6c04f80-cd43-4724-b3a4-b47a5246baa4"
   },
   "outputs": [
    {
     "name": "stdout",
     "output_type": "stream",
     "text": [
      "Number of train SPAM 1063\n",
      "Number of train HAM 3559\n",
      "Number of test SPAM 456\n",
      "Number of test HAM 1525\n"
     ]
    }
   ],
   "source": [
    "print(\"Number of train SPAM\",len(y_train[y_train==0]))\n",
    "print(\"Number of train HAM\",len(y_train[y_train==1]))\n",
    "\n",
    "print(\"Number of test SPAM\",len(y_test[y_test==0]))\n",
    "print(\"Number of test HAM\",len(y_test[y_test==1]))"
   ]
  },
  {
   "cell_type": "code",
   "execution_count": 9,
   "metadata": {
    "colab": {
     "base_uri": "https://localhost:8080/",
     "height": 34
    },
    "colab_type": "code",
    "id": "H-IQht0NpfZv",
    "outputId": "a56d6aee-5b2a-402d-bd8c-165176778e3a"
   },
   "outputs": [
    {
     "name": "stdout",
     "output_type": "stream",
     "text": [
      "y_train_oh shape :  (4622, 2)  y_test_oh shape :  (1981, 2)\n"
     ]
    }
   ],
   "source": [
    "y_train_oh = to_categorical(y_train)\n",
    "y_test_oh = to_categorical(y_test)\n",
    "\n",
    "print(\"y_train_oh shape : \",y_train_oh.shape,\" y_test_oh shape : \",y_test_oh.shape)"
   ]
  },
  {
   "cell_type": "code",
   "execution_count": 22,
   "metadata": {
    "colab": {
     "base_uri": "https://localhost:8080/",
     "height": 493
    },
    "colab_type": "code",
    "id": "nTY9h-XlpfcV",
    "outputId": "efa8c1ca-d5c1-4847-f2e1-120a20ad2041"
   },
   "outputs": [
    {
     "name": "stdout",
     "output_type": "stream",
     "text": [
      "Model: \"sequential\"\n",
      "_________________________________________________________________\n",
      " Layer (type)                Output Shape              Param #   \n",
      "=================================================================\n",
      " conv2d (Conv2D)             (None, 156, 156, 32)      896       \n",
      "                                                                 \n",
      " max_pooling2d (MaxPooling2D  (None, 78, 78, 32)       0         \n",
      " )                                                               \n",
      "                                                                 \n",
      " conv2d_1 (Conv2D)           (None, 78, 78, 64)        18496     \n",
      "                                                                 \n",
      " max_pooling2d_1 (MaxPooling  (None, 39, 39, 64)       0         \n",
      " 2D)                                                             \n",
      "                                                                 \n",
      " conv2d_2 (Conv2D)           (None, 39, 39, 128)       73856     \n",
      "                                                                 \n",
      " dropout (Dropout)           (None, 39, 39, 128)       0         \n",
      "                                                                 \n",
      " flatten (Flatten)           (None, 194688)            0         \n",
      "                                                                 \n",
      " dense (Dense)               (None, 128)               24920192  \n",
      "                                                                 \n",
      " dropout_1 (Dropout)         (None, 128)               0         \n",
      "                                                                 \n",
      " dense_1 (Dense)             (None, 1)                 129       \n",
      "                                                                 \n",
      "=================================================================\n",
      "Total params: 25,013,569\n",
      "Trainable params: 25,013,569\n",
      "Non-trainable params: 0\n",
      "_________________________________________________________________\n"
     ]
    }
   ],
   "source": [
    "NO_OF_EPOCHS=20\n",
    "BATCH_SIZE=32\n",
    "\n",
    "model=Sequential()\n",
    "model.add(Conv2D(32,kernel_size=3, padding='same',activation='relu',input_shape=(156, 156,3)))\n",
    "model.add(MaxPool2D(pool_size=(2, 2)))\n",
    "model.add(Conv2D(64,kernel_size=3, padding='same',activation='relu'))\n",
    "model.add(MaxPool2D(pool_size=(2, 2)))\n",
    "model.add(Conv2D(128,kernel_size=3, padding='same',activation='relu'))\n",
    "model.add(Dropout(0.1))\n",
    "model.add(Flatten())\n",
    "model.add(Dense(128,activation='relu'))\n",
    "model.add(Dropout(0.1))\n",
    "model.add(Dense(1,activation='sigmoid'))\n",
    "model.summary()\n",
    "model.compile(loss='binary_crossentropy', optimizer='adam',metrics=['accuracy'])"
   ]
  },
  {
   "cell_type": "code",
   "execution_count": 23,
   "metadata": {
    "colab": {
     "base_uri": "https://localhost:8080/",
     "height": 1000
    },
    "colab_type": "code",
    "id": "1FaifFXAtiGd",
    "outputId": "d0e0d45f-4300-465b-817d-dbc44cd1cdb6"
   },
   "outputs": [
    {
     "name": "stdout",
     "output_type": "stream",
     "text": [
      "Epoch 1/20\n",
      "145/145 [==============================] - ETA: 0s - loss: 0.4117 - accuracy: 0.8780WARNING:tensorflow:Can save best model only with val_acc available, skipping.\n",
      "WARNING:tensorflow:Learning rate reduction is conditioned on metric `acc` which is not available. Available metrics are: loss,accuracy,val_loss,val_accuracy,lr\n",
      "145/145 [==============================] - 140s 931ms/step - loss: 0.4117 - accuracy: 0.8780 - val_loss: 0.2182 - val_accuracy: 0.9213 - lr: 0.0010\n",
      "Epoch 2/20\n",
      "145/145 [==============================] - ETA: 0s - loss: 0.1997 - accuracy: 0.9275WARNING:tensorflow:Can save best model only with val_acc available, skipping.\n",
      "WARNING:tensorflow:Learning rate reduction is conditioned on metric `acc` which is not available. Available metrics are: loss,accuracy,val_loss,val_accuracy,lr\n",
      "145/145 [==============================] - 125s 865ms/step - loss: 0.1997 - accuracy: 0.9275 - val_loss: 0.1814 - val_accuracy: 0.9248 - lr: 0.0010\n",
      "Epoch 3/20\n",
      "145/145 [==============================] - ETA: 0s - loss: 0.1765 - accuracy: 0.9321WARNING:tensorflow:Can save best model only with val_acc available, skipping.\n",
      "WARNING:tensorflow:Learning rate reduction is conditioned on metric `acc` which is not available. Available metrics are: loss,accuracy,val_loss,val_accuracy,lr\n",
      "145/145 [==============================] - 126s 869ms/step - loss: 0.1765 - accuracy: 0.9321 - val_loss: 0.1930 - val_accuracy: 0.9379 - lr: 0.0010\n",
      "Epoch 4/20\n",
      "145/145 [==============================] - ETA: 0s - loss: 0.1634 - accuracy: 0.9373WARNING:tensorflow:Can save best model only with val_acc available, skipping.\n",
      "WARNING:tensorflow:Learning rate reduction is conditioned on metric `acc` which is not available. Available metrics are: loss,accuracy,val_loss,val_accuracy,lr\n",
      "145/145 [==============================] - 132s 912ms/step - loss: 0.1634 - accuracy: 0.9373 - val_loss: 0.1579 - val_accuracy: 0.9359 - lr: 0.0010\n",
      "Epoch 5/20\n",
      "145/145 [==============================] - ETA: 0s - loss: 0.1291 - accuracy: 0.9466WARNING:tensorflow:Can save best model only with val_acc available, skipping.\n",
      "WARNING:tensorflow:Learning rate reduction is conditioned on metric `acc` which is not available. Available metrics are: loss,accuracy,val_loss,val_accuracy,lr\n",
      "145/145 [==============================] - 134s 923ms/step - loss: 0.1291 - accuracy: 0.9466 - val_loss: 0.1589 - val_accuracy: 0.9414 - lr: 0.0010\n",
      "Epoch 6/20\n",
      "145/145 [==============================] - ETA: 0s - loss: 0.1138 - accuracy: 0.9533WARNING:tensorflow:Can save best model only with val_acc available, skipping.\n",
      "WARNING:tensorflow:Learning rate reduction is conditioned on metric `acc` which is not available. Available metrics are: loss,accuracy,val_loss,val_accuracy,lr\n",
      "145/145 [==============================] - 130s 897ms/step - loss: 0.1138 - accuracy: 0.9533 - val_loss: 0.1613 - val_accuracy: 0.9455 - lr: 0.0010\n",
      "Epoch 7/20\n",
      "145/145 [==============================] - ETA: 0s - loss: 0.0997 - accuracy: 0.9580WARNING:tensorflow:Can save best model only with val_acc available, skipping.\n",
      "WARNING:tensorflow:Learning rate reduction is conditioned on metric `acc` which is not available. Available metrics are: loss,accuracy,val_loss,val_accuracy,lr\n",
      "145/145 [==============================] - 130s 897ms/step - loss: 0.0997 - accuracy: 0.9580 - val_loss: 0.1736 - val_accuracy: 0.9450 - lr: 0.0010\n",
      "Epoch 8/20\n",
      "145/145 [==============================] - ETA: 0s - loss: 0.0879 - accuracy: 0.9647WARNING:tensorflow:Can save best model only with val_acc available, skipping.\n",
      "WARNING:tensorflow:Learning rate reduction is conditioned on metric `acc` which is not available. Available metrics are: loss,accuracy,val_loss,val_accuracy,lr\n",
      "145/145 [==============================] - 144s 995ms/step - loss: 0.0879 - accuracy: 0.9647 - val_loss: 0.1624 - val_accuracy: 0.9364 - lr: 0.0010\n",
      "Epoch 9/20\n",
      "145/145 [==============================] - ETA: 0s - loss: 0.0758 - accuracy: 0.9678WARNING:tensorflow:Can save best model only with val_acc available, skipping.\n",
      "WARNING:tensorflow:Learning rate reduction is conditioned on metric `acc` which is not available. Available metrics are: loss,accuracy,val_loss,val_accuracy,lr\n",
      "145/145 [==============================] - 148s 1s/step - loss: 0.0758 - accuracy: 0.9678 - val_loss: 0.1750 - val_accuracy: 0.9409 - lr: 0.0010\n",
      "Epoch 10/20\n",
      "145/145 [==============================] - ETA: 0s - loss: 0.0600 - accuracy: 0.9745WARNING:tensorflow:Can save best model only with val_acc available, skipping.\n",
      "WARNING:tensorflow:Learning rate reduction is conditioned on metric `acc` which is not available. Available metrics are: loss,accuracy,val_loss,val_accuracy,lr\n",
      "145/145 [==============================] - 156s 1s/step - loss: 0.0600 - accuracy: 0.9745 - val_loss: 0.2246 - val_accuracy: 0.9389 - lr: 0.0010\n",
      "Epoch 11/20\n",
      "145/145 [==============================] - ETA: 0s - loss: 0.0485 - accuracy: 0.9797WARNING:tensorflow:Can save best model only with val_acc available, skipping.\n",
      "WARNING:tensorflow:Learning rate reduction is conditioned on metric `acc` which is not available. Available metrics are: loss,accuracy,val_loss,val_accuracy,lr\n",
      "145/145 [==============================] - 161s 1s/step - loss: 0.0485 - accuracy: 0.9797 - val_loss: 0.2317 - val_accuracy: 0.9389 - lr: 0.0010\n",
      "Epoch 12/20\n",
      "145/145 [==============================] - ETA: 0s - loss: 0.0346 - accuracy: 0.9864WARNING:tensorflow:Can save best model only with val_acc available, skipping.\n",
      "WARNING:tensorflow:Learning rate reduction is conditioned on metric `acc` which is not available. Available metrics are: loss,accuracy,val_loss,val_accuracy,lr\n",
      "145/145 [==============================] - 149s 1s/step - loss: 0.0346 - accuracy: 0.9864 - val_loss: 0.2849 - val_accuracy: 0.9414 - lr: 0.0010\n",
      "Epoch 13/20\n",
      "145/145 [==============================] - ETA: 0s - loss: 0.0273 - accuracy: 0.9900WARNING:tensorflow:Can save best model only with val_acc available, skipping.\n",
      "WARNING:tensorflow:Learning rate reduction is conditioned on metric `acc` which is not available. Available metrics are: loss,accuracy,val_loss,val_accuracy,lr\n",
      "145/145 [==============================] - 149s 1s/step - loss: 0.0273 - accuracy: 0.9900 - val_loss: 0.3671 - val_accuracy: 0.9404 - lr: 0.0010\n",
      "Epoch 14/20\n",
      "145/145 [==============================] - ETA: 0s - loss: 0.0418 - accuracy: 0.9859WARNING:tensorflow:Can save best model only with val_acc available, skipping.\n",
      "WARNING:tensorflow:Learning rate reduction is conditioned on metric `acc` which is not available. Available metrics are: loss,accuracy,val_loss,val_accuracy,lr\n",
      "145/145 [==============================] - 146s 1s/step - loss: 0.0418 - accuracy: 0.9859 - val_loss: 0.2844 - val_accuracy: 0.9404 - lr: 0.0010\n",
      "Epoch 15/20\n",
      "145/145 [==============================] - ETA: 0s - loss: 0.0269 - accuracy: 0.9900WARNING:tensorflow:Can save best model only with val_acc available, skipping.\n",
      "WARNING:tensorflow:Learning rate reduction is conditioned on metric `acc` which is not available. Available metrics are: loss,accuracy,val_loss,val_accuracy,lr\n",
      "145/145 [==============================] - 140s 969ms/step - loss: 0.0269 - accuracy: 0.9900 - val_loss: 0.3642 - val_accuracy: 0.9389 - lr: 0.0010\n",
      "Epoch 16/20\n",
      "145/145 [==============================] - ETA: 0s - loss: 0.0284 - accuracy: 0.9881WARNING:tensorflow:Can save best model only with val_acc available, skipping.\n",
      "WARNING:tensorflow:Learning rate reduction is conditioned on metric `acc` which is not available. Available metrics are: loss,accuracy,val_loss,val_accuracy,lr\n",
      "145/145 [==============================] - 143s 983ms/step - loss: 0.0284 - accuracy: 0.9881 - val_loss: 0.3306 - val_accuracy: 0.9445 - lr: 0.0010\n",
      "Epoch 17/20\n",
      "145/145 [==============================] - ETA: 0s - loss: 0.0443 - accuracy: 0.9842WARNING:tensorflow:Can save best model only with val_acc available, skipping.\n",
      "WARNING:tensorflow:Learning rate reduction is conditioned on metric `acc` which is not available. Available metrics are: loss,accuracy,val_loss,val_accuracy,lr\n",
      "145/145 [==============================] - 132s 913ms/step - loss: 0.0443 - accuracy: 0.9842 - val_loss: 0.3213 - val_accuracy: 0.9440 - lr: 0.0010\n",
      "Epoch 18/20\n",
      "145/145 [==============================] - ETA: 0s - loss: 0.0213 - accuracy: 0.9926WARNING:tensorflow:Can save best model only with val_acc available, skipping.\n",
      "WARNING:tensorflow:Learning rate reduction is conditioned on metric `acc` which is not available. Available metrics are: loss,accuracy,val_loss,val_accuracy,lr\n",
      "145/145 [==============================] - 128s 881ms/step - loss: 0.0213 - accuracy: 0.9926 - val_loss: 0.4270 - val_accuracy: 0.9404 - lr: 0.0010\n",
      "Epoch 19/20\n",
      "145/145 [==============================] - ETA: 0s - loss: 0.0256 - accuracy: 0.9892WARNING:tensorflow:Can save best model only with val_acc available, skipping.\n",
      "WARNING:tensorflow:Learning rate reduction is conditioned on metric `acc` which is not available. Available metrics are: loss,accuracy,val_loss,val_accuracy,lr\n",
      "145/145 [==============================] - 137s 944ms/step - loss: 0.0256 - accuracy: 0.9892 - val_loss: 0.4518 - val_accuracy: 0.9288 - lr: 0.0010\n",
      "Epoch 20/20\n",
      "145/145 [==============================] - ETA: 0s - loss: 0.0253 - accuracy: 0.9894WARNING:tensorflow:Can save best model only with val_acc available, skipping.\n",
      "WARNING:tensorflow:Learning rate reduction is conditioned on metric `acc` which is not available. Available metrics are: loss,accuracy,val_loss,val_accuracy,lr\n",
      "145/145 [==============================] - 142s 978ms/step - loss: 0.0253 - accuracy: 0.9894 - val_loss: 0.4608 - val_accuracy: 0.9445 - lr: 0.0010\n"
     ]
    },
    {
     "data": {
      "text/plain": [
       "<keras.callbacks.History at 0x1bed43ac400>"
      ]
     },
     "execution_count": 23,
     "metadata": {},
     "output_type": "execute_result"
    }
   ],
   "source": [
    "checkpointer = callbacks.ModelCheckpoint(filepath=resultPath+\"/checkpoint-{epoch:04d}.hdf5\", verbose=1, save_best_only=True, monitor='val_acc',mode='max')\n",
    "csv_logger = CSVLogger(resultPath+'/result_logger.csv',separator=',', append=False)\n",
    "reduce_lr = ReduceLROnPlateau(monitor='acc', factor=0.2, patience=2, min_lr=0.001)\n",
    "model.fit(x_train,y_train,epochs=NO_OF_EPOCHS,verbose=1,batch_size=BATCH_SIZE,validation_split = 0.2,callbacks=[checkpointer,csv_logger,reduce_lr])"
   ]
  },
  {
   "cell_type": "code",
   "execution_count": 24,
   "metadata": {
    "colab": {
     "base_uri": "https://localhost:8080/",
     "height": 34
    },
    "colab_type": "code",
    "id": "EvadX63Gtkml",
    "outputId": "09a641cb-4d93-463f-c1c1-d49a8ed0860a"
   },
   "outputs": [
    {
     "name": "stdout",
     "output_type": "stream",
     "text": [
      "62/62 [==============================] - 11s 170ms/step\n"
     ]
    }
   ],
   "source": [
    "prediction_prob1 = model.predict(x_test,verbose=1)\n",
    "y_pred=np.round(prediction_prob1)"
   ]
  },
  {
   "cell_type": "code",
   "execution_count": 25,
   "metadata": {
    "colab": {
     "base_uri": "https://localhost:8080/",
     "height": 272
    },
    "colab_type": "code",
    "id": "D1wc57zEtl0O",
    "outputId": "eba4223e-549f-4d8a-aaf3-45c857d7344f"
   },
   "outputs": [
    {
     "name": "stdout",
     "output_type": "stream",
     "text": [
      "0.9444724886421\n",
      "0.9645436638214051\n",
      "0.9632786885245902\n",
      "0.9639107611548556\n",
      "[[ 402   54]\n",
      " [  56 1469]]\n",
      "              precision    recall  f1-score   support\n",
      "\n",
      "           0       0.88      0.88      0.88       456\n",
      "           1       0.96      0.96      0.96      1525\n",
      "\n",
      "    accuracy                           0.94      1981\n",
      "   macro avg       0.92      0.92      0.92      1981\n",
      "weighted avg       0.94      0.94      0.94      1981\n",
      "\n"
     ]
    }
   ],
   "source": [
    "print(accuracy_score(y_test,y_pred))\n",
    "print(precision_score(y_test,y_pred,average='binary'))\n",
    "print(recall_score(y_test,y_pred,average='binary'))\n",
    "print(f1_score(y_test,y_pred,average='binary'))\n",
    "print(confusion_matrix(y_test,y_pred))\n",
    "print(classification_report(y_test,y_pred))"
   ]
  },
  {
   "cell_type": "code",
   "execution_count": 26,
   "metadata": {
    "colab": {
     "base_uri": "https://localhost:8080/",
     "height": 34
    },
    "colab_type": "code",
    "id": "wtYscnD7t5bs",
    "outputId": "632a2526-9d6d-41f1-d540-5a310eb8a841"
   },
   "outputs": [
    {
     "name": "stdout",
     "output_type": "stream",
     "text": [
      "[2.17403575 0.6493397 ]\n"
     ]
    }
   ],
   "source": [
    "class_weights = class_weight.compute_class_weight('balanced',\n",
    "                                                 classes = np.unique(y_train),\n",
    "                                                 y = y_train)\n",
    "print(class_weights)"
   ]
  },
  {
   "cell_type": "code",
   "execution_count": 27,
   "metadata": {
    "colab": {
     "base_uri": "https://localhost:8080/",
     "height": 493
    },
    "colab_type": "code",
    "id": "buYFGuIP-kyf",
    "outputId": "8ef33720-d5d5-4b81-9055-ccbc03bd5ce8"
   },
   "outputs": [
    {
     "name": "stdout",
     "output_type": "stream",
     "text": [
      "Model: \"sequential_1\"\n",
      "_________________________________________________________________\n",
      " Layer (type)                Output Shape              Param #   \n",
      "=================================================================\n",
      " conv2d_3 (Conv2D)           (None, 156, 156, 128)     3584      \n",
      "                                                                 \n",
      " max_pooling2d_2 (MaxPooling  (None, 39, 39, 128)      0         \n",
      " 2D)                                                             \n",
      "                                                                 \n",
      " conv2d_4 (Conv2D)           (None, 39, 39, 128)       147584    \n",
      "                                                                 \n",
      " max_pooling2d_3 (MaxPooling  (None, 13, 13, 128)      0         \n",
      " 2D)                                                             \n",
      "                                                                 \n",
      " conv2d_5 (Conv2D)           (None, 13, 13, 256)       295168    \n",
      "                                                                 \n",
      " dropout_2 (Dropout)         (None, 13, 13, 256)       0         \n",
      "                                                                 \n",
      " flatten_1 (Flatten)         (None, 43264)             0         \n",
      "                                                                 \n",
      " dense_2 (Dense)             (None, 128)               5537920   \n",
      "                                                                 \n",
      " dropout_3 (Dropout)         (None, 128)               0         \n",
      "                                                                 \n",
      " dense_3 (Dense)             (None, 2)                 258       \n",
      "                                                                 \n",
      "=================================================================\n",
      "Total params: 5,984,514\n",
      "Trainable params: 5,984,514\n",
      "Non-trainable params: 0\n",
      "_________________________________________________________________\n"
     ]
    }
   ],
   "source": [
    "model1=Sequential()\n",
    "model1.add(Conv2D(128,kernel_size=3, padding='same',activation='relu',input_shape=(156, 156,3)))\n",
    "model1.add(MaxPool2D(pool_size=(4, 4)))\n",
    "model1.add(Conv2D(128,kernel_size=3, padding='same',activation='relu'))\n",
    "model1.add(MaxPool2D(pool_size=(3, 3)))\n",
    "model1.add(Conv2D(256,kernel_size=3, padding='same',activation='relu'))\n",
    "model1.add(Dropout(0.1))\n",
    "model1.add(Flatten())\n",
    "model1.add(Dense(128,activation='relu'))\n",
    "model1.add(Dropout(0.1))\n",
    "model1.add(Dense(2,activation='softmax'))\n",
    "model1.summary()\n",
    "model1.compile(loss='binary_crossentropy', optimizer='adam',metrics=['accuracy'])"
   ]
  },
  {
   "cell_type": "code",
   "execution_count": 29,
   "metadata": {
    "colab": {
     "base_uri": "https://localhost:8080/",
     "height": 1000
    },
    "colab_type": "code",
    "id": "1tzYvf96-3BJ",
    "outputId": "aab82b38-0d2d-4f9f-fd71-10538a8d94f1"
   },
   "outputs": [
    {
     "name": "stdout",
     "output_type": "stream",
     "text": [
      "Epoch 1/20\n",
      "145/145 [==============================] - ETA: 0s - loss: 0.3645 - accuracy: 0.8916WARNING:tensorflow:Can save best model only with val_acc available, skipping.\n",
      "WARNING:tensorflow:Learning rate reduction is conditioned on metric `acc` which is not available. Available metrics are: loss,accuracy,val_loss,val_accuracy,lr\n",
      "145/145 [==============================] - 147s 984ms/step - loss: 0.3645 - accuracy: 0.8916 - val_loss: 0.1921 - val_accuracy: 0.9233 - lr: 0.0010\n",
      "Epoch 2/20\n",
      "145/145 [==============================] - ETA: 0s - loss: 0.1995 - accuracy: 0.9251WARNING:tensorflow:Can save best model only with val_acc available, skipping.\n",
      "WARNING:tensorflow:Learning rate reduction is conditioned on metric `acc` which is not available. Available metrics are: loss,accuracy,val_loss,val_accuracy,lr\n",
      "145/145 [==============================] - 125s 862ms/step - loss: 0.1995 - accuracy: 0.9251 - val_loss: 0.2151 - val_accuracy: 0.9187 - lr: 0.0010\n",
      "Epoch 3/20\n",
      "145/145 [==============================] - ETA: 0s - loss: 0.1662 - accuracy: 0.9314WARNING:tensorflow:Can save best model only with val_acc available, skipping.\n",
      "WARNING:tensorflow:Learning rate reduction is conditioned on metric `acc` which is not available. Available metrics are: loss,accuracy,val_loss,val_accuracy,lr\n",
      "145/145 [==============================] - 125s 862ms/step - loss: 0.1662 - accuracy: 0.9314 - val_loss: 0.1665 - val_accuracy: 0.9364 - lr: 0.0010\n",
      "Epoch 4/20\n",
      "145/145 [==============================] - ETA: 0s - loss: 0.1286 - accuracy: 0.9479WARNING:tensorflow:Can save best model only with val_acc available, skipping.\n",
      "WARNING:tensorflow:Learning rate reduction is conditioned on metric `acc` which is not available. Available metrics are: loss,accuracy,val_loss,val_accuracy,lr\n",
      "145/145 [==============================] - 125s 861ms/step - loss: 0.1286 - accuracy: 0.9479 - val_loss: 0.2070 - val_accuracy: 0.9112 - lr: 0.0010\n",
      "Epoch 5/20\n",
      "145/145 [==============================] - ETA: 0s - loss: 0.1089 - accuracy: 0.9561WARNING:tensorflow:Can save best model only with val_acc available, skipping.\n",
      "WARNING:tensorflow:Learning rate reduction is conditioned on metric `acc` which is not available. Available metrics are: loss,accuracy,val_loss,val_accuracy,lr\n",
      "145/145 [==============================] - 125s 865ms/step - loss: 0.1089 - accuracy: 0.9561 - val_loss: 0.1612 - val_accuracy: 0.9399 - lr: 0.0010\n",
      "Epoch 6/20\n",
      "145/145 [==============================] - ETA: 0s - loss: 0.0831 - accuracy: 0.9662WARNING:tensorflow:Can save best model only with val_acc available, skipping.\n",
      "WARNING:tensorflow:Learning rate reduction is conditioned on metric `acc` which is not available. Available metrics are: loss,accuracy,val_loss,val_accuracy,lr\n",
      "145/145 [==============================] - 125s 863ms/step - loss: 0.0831 - accuracy: 0.9662 - val_loss: 0.2350 - val_accuracy: 0.9394 - lr: 0.0010\n",
      "Epoch 7/20\n",
      "145/145 [==============================] - ETA: 0s - loss: 0.0731 - accuracy: 0.9732WARNING:tensorflow:Can save best model only with val_acc available, skipping.\n",
      "WARNING:tensorflow:Learning rate reduction is conditioned on metric `acc` which is not available. Available metrics are: loss,accuracy,val_loss,val_accuracy,lr\n",
      "145/145 [==============================] - 125s 862ms/step - loss: 0.0731 - accuracy: 0.9732 - val_loss: 0.2667 - val_accuracy: 0.9404 - lr: 0.0010\n",
      "Epoch 8/20\n",
      "145/145 [==============================] - ETA: 0s - loss: 0.0623 - accuracy: 0.9732WARNING:tensorflow:Can save best model only with val_acc available, skipping.\n",
      "WARNING:tensorflow:Learning rate reduction is conditioned on metric `acc` which is not available. Available metrics are: loss,accuracy,val_loss,val_accuracy,lr\n",
      "145/145 [==============================] - 125s 860ms/step - loss: 0.0623 - accuracy: 0.9732 - val_loss: 0.2912 - val_accuracy: 0.9308 - lr: 0.0010\n",
      "Epoch 9/20\n",
      "145/145 [==============================] - ETA: 0s - loss: 0.1210 - accuracy: 0.9541WARNING:tensorflow:Can save best model only with val_acc available, skipping.\n",
      "WARNING:tensorflow:Learning rate reduction is conditioned on metric `acc` which is not available. Available metrics are: loss,accuracy,val_loss,val_accuracy,lr\n",
      "145/145 [==============================] - 125s 861ms/step - loss: 0.1210 - accuracy: 0.9541 - val_loss: 0.1734 - val_accuracy: 0.9445 - lr: 0.0010\n",
      "Epoch 10/20\n",
      "145/145 [==============================] - ETA: 0s - loss: 0.0498 - accuracy: 0.9814WARNING:tensorflow:Can save best model only with val_acc available, skipping.\n",
      "WARNING:tensorflow:Learning rate reduction is conditioned on metric `acc` which is not available. Available metrics are: loss,accuracy,val_loss,val_accuracy,lr\n",
      "145/145 [==============================] - 125s 860ms/step - loss: 0.0498 - accuracy: 0.9814 - val_loss: 0.2689 - val_accuracy: 0.9480 - lr: 0.0010\n",
      "Epoch 11/20\n",
      "145/145 [==============================] - ETA: 0s - loss: 0.0382 - accuracy: 0.9862WARNING:tensorflow:Can save best model only with val_acc available, skipping.\n",
      "WARNING:tensorflow:Learning rate reduction is conditioned on metric `acc` which is not available. Available metrics are: loss,accuracy,val_loss,val_accuracy,lr\n",
      "145/145 [==============================] - 126s 867ms/step - loss: 0.0382 - accuracy: 0.9862 - val_loss: 0.2820 - val_accuracy: 0.9470 - lr: 0.0010\n",
      "Epoch 12/20\n",
      "145/145 [==============================] - ETA: 0s - loss: 0.0276 - accuracy: 0.9892WARNING:tensorflow:Can save best model only with val_acc available, skipping.\n",
      "WARNING:tensorflow:Learning rate reduction is conditioned on metric `acc` which is not available. Available metrics are: loss,accuracy,val_loss,val_accuracy,lr\n",
      "145/145 [==============================] - 125s 861ms/step - loss: 0.0276 - accuracy: 0.9892 - val_loss: 0.2698 - val_accuracy: 0.9455 - lr: 0.0010\n",
      "Epoch 13/20\n",
      "145/145 [==============================] - ETA: 0s - loss: 0.0309 - accuracy: 0.9885WARNING:tensorflow:Can save best model only with val_acc available, skipping.\n",
      "WARNING:tensorflow:Learning rate reduction is conditioned on metric `acc` which is not available. Available metrics are: loss,accuracy,val_loss,val_accuracy,lr\n",
      "145/145 [==============================] - 125s 863ms/step - loss: 0.0309 - accuracy: 0.9885 - val_loss: 0.3011 - val_accuracy: 0.9460 - lr: 0.0010\n",
      "Epoch 14/20\n",
      "145/145 [==============================] - ETA: 0s - loss: 0.0212 - accuracy: 0.9918WARNING:tensorflow:Can save best model only with val_acc available, skipping.\n",
      "WARNING:tensorflow:Learning rate reduction is conditioned on metric `acc` which is not available. Available metrics are: loss,accuracy,val_loss,val_accuracy,lr\n",
      "145/145 [==============================] - 125s 862ms/step - loss: 0.0212 - accuracy: 0.9918 - val_loss: 0.3012 - val_accuracy: 0.9435 - lr: 0.0010\n",
      "Epoch 15/20\n",
      "145/145 [==============================] - ETA: 0s - loss: 0.0291 - accuracy: 0.9892WARNING:tensorflow:Can save best model only with val_acc available, skipping.\n",
      "WARNING:tensorflow:Learning rate reduction is conditioned on metric `acc` which is not available. Available metrics are: loss,accuracy,val_loss,val_accuracy,lr\n",
      "145/145 [==============================] - 125s 859ms/step - loss: 0.0291 - accuracy: 0.9892 - val_loss: 0.3033 - val_accuracy: 0.9430 - lr: 0.0010\n",
      "Epoch 16/20\n",
      "145/145 [==============================] - ETA: 0s - loss: 0.0171 - accuracy: 0.9937WARNING:tensorflow:Can save best model only with val_acc available, skipping.\n",
      "WARNING:tensorflow:Learning rate reduction is conditioned on metric `acc` which is not available. Available metrics are: loss,accuracy,val_loss,val_accuracy,lr\n",
      "145/145 [==============================] - 124s 858ms/step - loss: 0.0171 - accuracy: 0.9937 - val_loss: 0.3338 - val_accuracy: 0.9465 - lr: 0.0010\n",
      "Epoch 17/20\n",
      "145/145 [==============================] - ETA: 0s - loss: 0.0228 - accuracy: 0.9905WARNING:tensorflow:Can save best model only with val_acc available, skipping.\n",
      "WARNING:tensorflow:Learning rate reduction is conditioned on metric `acc` which is not available. Available metrics are: loss,accuracy,val_loss,val_accuracy,lr\n",
      "145/145 [==============================] - 124s 856ms/step - loss: 0.0228 - accuracy: 0.9905 - val_loss: 0.3601 - val_accuracy: 0.9445 - lr: 0.0010\n",
      "Epoch 18/20\n",
      "145/145 [==============================] - ETA: 0s - loss: 0.0159 - accuracy: 0.9942WARNING:tensorflow:Can save best model only with val_acc available, skipping.\n",
      "WARNING:tensorflow:Learning rate reduction is conditioned on metric `acc` which is not available. Available metrics are: loss,accuracy,val_loss,val_accuracy,lr\n",
      "145/145 [==============================] - 124s 854ms/step - loss: 0.0159 - accuracy: 0.9942 - val_loss: 0.4334 - val_accuracy: 0.9470 - lr: 0.0010\n",
      "Epoch 19/20\n",
      "145/145 [==============================] - ETA: 0s - loss: 0.0367 - accuracy: 0.9896WARNING:tensorflow:Can save best model only with val_acc available, skipping.\n",
      "WARNING:tensorflow:Learning rate reduction is conditioned on metric `acc` which is not available. Available metrics are: loss,accuracy,val_loss,val_accuracy,lr\n",
      "145/145 [==============================] - 124s 855ms/step - loss: 0.0367 - accuracy: 0.9896 - val_loss: 0.2956 - val_accuracy: 0.9374 - lr: 0.0010\n",
      "Epoch 20/20\n",
      "145/145 [==============================] - ETA: 0s - loss: 0.0284 - accuracy: 0.9913WARNING:tensorflow:Can save best model only with val_acc available, skipping.\n",
      "WARNING:tensorflow:Learning rate reduction is conditioned on metric `acc` which is not available. Available metrics are: loss,accuracy,val_loss,val_accuracy,lr\n",
      "145/145 [==============================] - 126s 868ms/step - loss: 0.0284 - accuracy: 0.9913 - val_loss: 0.3164 - val_accuracy: 0.9425 - lr: 0.0010\n"
     ]
    },
    {
     "data": {
      "text/plain": [
       "<keras.callbacks.History at 0x1be840047c0>"
      ]
     },
     "execution_count": 29,
     "metadata": {},
     "output_type": "execute_result"
    }
   ],
   "source": [
    "checkpointer = callbacks.ModelCheckpoint(filepath=resultPath+\"/checkpoint-{epoch:04d}.hdf5\", verbose=1, save_best_only=True, monitor='val_acc',mode='max')\n",
    "csv_logger = CSVLogger(resultPath+'/result_logger.csv',separator=',', append=False)\n",
    "reduce_lr = ReduceLROnPlateau(monitor='acc', factor=0.2, patience=2, min_lr=0.001)\n",
    "model1.fit(x_train,y_train,epochs=NO_OF_EPOCHS,verbose=1,class_weights = class_weights,batch_size=BATCH_SIZE,validation_split = 0.2,callbacks=[checkpointer,csv_logger,reduce_lr])"
   ]
  },
  {
   "cell_type": "code",
   "execution_count": 30,
   "metadata": {
    "colab": {
     "base_uri": "https://localhost:8080/",
     "height": 34
    },
    "colab_type": "code",
    "id": "mpqSui9qISJL",
    "outputId": "a4b11335-35e0-4bef-f3a0-a3245734f233"
   },
   "outputs": [
    {
     "name": "stdout",
     "output_type": "stream",
     "text": [
      "62/62 [==============================] - 11s 172ms/step\n"
     ]
    }
   ],
   "source": [
    "prediction_prob = model1.predict(x_test,verbose=1)\n",
    "y_pred=np.round(prediction_prob)"
   ]
  },
  {
   "cell_type": "code",
   "execution_count": 31,
   "metadata": {
    "colab": {
     "base_uri": "https://localhost:8080/",
     "height": 272
    },
    "colab_type": "code",
    "id": "iV6K0pu1IX9a",
    "outputId": "bcdb649e-337c-415a-c5f4-2c1767a79d92"
   },
   "outputs": [
    {
     "name": "stdout",
     "output_type": "stream",
     "text": [
      "0.9424533064109036\n",
      "0.9700199866755497\n",
      "0.9547540983606557\n",
      "0.9623265036351619\n",
      "[[ 411   45]\n",
      " [  69 1456]]\n",
      "              precision    recall  f1-score   support\n",
      "\n",
      "           0       0.86      0.90      0.88       456\n",
      "           1       0.97      0.95      0.96      1525\n",
      "\n",
      "    accuracy                           0.94      1981\n",
      "   macro avg       0.91      0.93      0.92      1981\n",
      "weighted avg       0.94      0.94      0.94      1981\n",
      "\n"
     ]
    }
   ],
   "source": [
    "print(accuracy_score(y_test,y_pred))\n",
    "print(precision_score(y_test,y_pred,average='binary'))\n",
    "print(recall_score(y_test,y_pred,average='binary'))\n",
    "print(f1_score(y_test,y_pred,average='binary'))\n",
    "print(confusion_matrix(y_test,y_pred))\n",
    "print(classification_report(y_test,y_pred))"
   ]
  },
  {
   "cell_type": "code",
   "execution_count": 32,
   "metadata": {
    "colab": {
     "base_uri": "https://localhost:8080/",
     "height": 295
    },
    "colab_type": "code",
    "id": "F8IJ3-tlIany",
    "outputId": "e9b754f2-de57-4aeb-cd1f-0db5274f74c9"
   },
   "outputs": [
    {
     "data": {
      "image/png": "[encoded data removed]",
      "text/plain": [
       "<Figure size 432x288 with 1 Axes>"
      ]
     },
     "metadata": {
      "needs_background": "light"
     },
     "output_type": "display_data"
    }
   ],
   "source": [
    "\n",
    "fpr = dict()\n",
    "tpr = dict()\n",
    "roc_auc = dict()\n",
    "for i in range(2):\n",
    "    fpr[i], tpr[i], _ = roc_curve(y_test, prediction_prob)\n",
    "    roc_auc[i] = auc(fpr[i], tpr[i])\n",
    "\n",
    "\n",
    "pyplot.figure()\n",
    "pyplot.plot(fpr[0], tpr[0],color='blue', lw=1, label='CS-CNN - ROC curve (area = %0.2f)' % roc_auc[0])\n",
    "\n",
    "fpr = dict()\n",
    "tpr = dict()\n",
    "roc_auc = dict()\n",
    "for i in range(2):\n",
    "    fpr[i], tpr[i], _ = roc_curve(y_test, prediction_prob1)\n",
    "    roc_auc[i] = auc(fpr[i], tpr[i])\n",
    "pyplot.plot(fpr[0], tpr[0],color='darkorange', lw=1, label='CNN - ROC curve (area = %0.2f)' % roc_auc[0])\n",
    "pyplot.plot([0, 1], [0, 1], color='red', lw=1, linestyle='--')\n",
    "pyplot.xlim([0.0, 1.0])\n",
    "pyplot.ylim([0.0, 1.05])\n",
    "pyplot.xlabel('False Positive Rate')\n",
    "pyplot.ylabel('True Positive Rate')\n",
    "pyplot.title('CNN - Receiver operating characteristic')\n",
    "pyplot.legend(loc=\"lower right\")\n",
    "pyplot.show()"
   ]
  }
 ],
 "metadata": {
  "accelerator": "GPU",
  "colab": {
   "collapsed_sections": [],
   "name": "Image_spam_hunter",
   "provenance": []
  },
  "kernelspec": {
   "display_name": "Python 3 (ipykernel)",
   "language": "python",
   "name": "python3"
  },
  "language_info": {
   "codemirror_mode": {
    "name": "ipython",
    "version": 3
   },
   "file_extension": ".py",
   "mimetype": "text/x-python",
   "name": "python",
   "nbconvert_exporter": "python",
   "pygments_lexer": "ipython3",
   "version": "3.9.7"
  }
 },
 "nbformat": 4,
 "nbformat_minor": 1
}
