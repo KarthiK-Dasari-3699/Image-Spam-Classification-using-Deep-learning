{
 "cells": [
  {
   "cell_type": "code",
   "execution_count": 1,
   "metadata": {
    "colab": {},
    "colab_type": "code",
    "id": "AKI-7a14PpNN"
   },
   "outputs": [],
   "source": [
    "import os, shutil\n",
    "import numpy as np\n",
    "\n",
    "from matplotlib import image, pyplot\n",
    "from skimage.transform import resize\n",
    "\n",
    "\n",
    "from tensorflow.keras.utils import to_categorical\n",
    "from keras.models import Sequential, Model\n",
    "from keras.layers import Conv2D,MaxPool2D,Dense,Flatten,Dropout\n",
    "\n",
    "from keras import callbacks\n",
    "from keras.callbacks import ModelCheckpoint, ReduceLROnPlateau, CSVLogger\n",
    "\n",
    "from sklearn.model_selection import train_test_split\n",
    "from sklearn.metrics import confusion_matrix,accuracy_score, precision_score, f1_score, recall_score,classification_report,roc_curve, auc \n",
    "from sklearn.utils import class_weight\n",
    "\n",
    "from sklearn.linear_model import LogisticRegression\n",
    "from sklearn.naive_bayes import GaussianNB\n",
    "from sklearn.neighbors import KNeighborsClassifier\n",
    "from sklearn.tree import DecisionTreeClassifier\n",
    "from sklearn.ensemble import AdaBoostClassifier, RandomForestClassifier\n",
    "from sklearn.svm import SVC\n",
    "from sklearn import svm\n"
   ]
  },
  {
   "cell_type": "code",
   "execution_count": 2,
   "metadata": {
    "colab": {},
    "colab_type": "code",
    "id": "pGHxzhfC9Hcw"
   },
   "outputs": [],
   "source": [
    "resultPath = 'C:/Users/HP/Downloads/Results/CNN'\n"
   ]
  },
  {
   "cell_type": "code",
   "execution_count": 3,
   "metadata": {
    "colab": {
     "base_uri": "https://localhost:8080/",
     "height": 68
    },
    "colab_type": "code",
    "id": "4CEFGdqcmsqx",
    "outputId": "7cc1989d-4064-405e-f279-566d88005b6f"
   },
   "outputs": [
    {
     "name": "stdout",
     "output_type": "stream",
     "text": [
      ">>>Reading  NaturalImages\n",
      ">>>Reading  SpamImages\n"
     ]
    }
   ],
   "source": [
    "DATA_PATH = \"C:/Users/HP/Downloads/Image_Hunter_dataset/\"\n",
    "spamData=[]\n",
    "label=[]\n",
    "hashList=[]\n",
    "count=-1\n",
    "for folder in os.listdir(DATA_PATH):\n",
    "    if folder==\"New_Spam\":\n",
    "        continue;\n",
    "    print(\">>>Reading \",folder)\n",
    "    count+=1\n",
    "    for file in os.listdir(DATA_PATH+folder):\n",
    "        if(str(file).endswith('.jpg') or str(file).endswith('.JPG') or str(file).endswith('.jpeg') or str(file).endswith('.JPEG')):\n",
    "            img = image.imread(DATA_PATH+folder+'/'+file)\n",
    "            hsh = hash(tuple(np.array(img).flatten()))\n",
    "            if(hsh not in hashList):\n",
    "                spamData.append(resize(img, (156, 156, 3)))\n",
    "                hashList.append(hsh)\n",
    "                label.append(count)\n",
    "spamData=np.array(spamData)\n",
    "label=np.array(label)"
   ]
  },
  {
   "cell_type": "code",
   "execution_count": 4,
   "metadata": {
    "colab": {
     "base_uri": "https://localhost:8080/",
     "height": 51
    },
    "colab_type": "code",
    "id": "EHSoNhbjfT_b",
    "outputId": "b879c796-24b9-4d7b-e736-9bd9fe63bac9"
   },
   "outputs": [
    {
     "name": "stdout",
     "output_type": "stream",
     "text": [
      "Number of SPAM 810\n",
      "Number of HAM 895\n"
     ]
    }
   ],
   "source": [
    "print(\"Number of SPAM\",len(label[label==0]))\n",
    "print(\"Number of HAM\",len(label[label==1]))"
   ]
  },
  {
   "cell_type": "code",
   "execution_count": 5,
   "metadata": {
    "colab": {
     "base_uri": "https://localhost:8080/",
     "height": 34
    },
    "colab_type": "code",
    "id": "TbHVzhMYpfSR",
    "outputId": "c5f70e4a-4aac-4632-9cbf-2e7c17d580c8"
   },
   "outputs": [
    {
     "name": "stdout",
     "output_type": "stream",
     "text": [
      "Spam data shape :  (1705, 156, 156, 3)  Label shape :  (1705,)\n"
     ]
    }
   ],
   "source": [
    "print(\"Spam data shape : \",spamData.shape,\" Label shape : \",label.shape)"
   ]
  },
  {
   "cell_type": "code",
   "execution_count": 6,
   "metadata": {
    "colab": {},
    "colab_type": "code",
    "id": "pPed_TbTpfUy"
   },
   "outputs": [],
   "source": [
    "test_valid_Percentage = 0.3\n",
    "x_train,x_test,y_train,y_test = train_test_split(spamData,label,test_size = test_valid_Percentage,random_state=42, stratify=label,shuffle=True)"
   ]
  },
  {
   "cell_type": "code",
   "execution_count": 7,
   "metadata": {
    "colab": {
     "base_uri": "https://localhost:8080/",
     "height": 51
    },
    "colab_type": "code",
    "id": "yKCQLA9KpfXP",
    "outputId": "58d520cb-f173-47f4-e87d-38a4278ce87e"
   },
   "outputs": [
    {
     "name": "stdout",
     "output_type": "stream",
     "text": [
      "x_train shape :  (1193, 156, 156, 3)  y_train shape :  (1193,)\n",
      "x_test shape :  (512, 156, 156, 3)  y_test shape :  (512,)\n"
     ]
    }
   ],
   "source": [
    "print(\"x_train shape : \",x_train.shape,\" y_train shape : \",y_train.shape)\n",
    "print(\"x_test shape : \",x_test.shape,\" y_test shape : \",y_test.shape)"
   ]
  },
  {
   "cell_type": "code",
   "execution_count": 8,
   "metadata": {
    "colab": {
     "base_uri": "https://localhost:8080/",
     "height": 85
    },
    "colab_type": "code",
    "id": "YTwLFvg1gFcU",
    "outputId": "d6c04f80-cd43-4724-b3a4-b47a5246baa4"
   },
   "outputs": [
    {
     "name": "stdout",
     "output_type": "stream",
     "text": [
      "Number of train SPAM 567\n",
      "Number of train HAM 626\n",
      "Number of test SPAM 243\n",
      "Number of test HAM 269\n"
     ]
    }
   ],
   "source": [
    "print(\"Number of train SPAM\",len(y_train[y_train==0]))\n",
    "print(\"Number of train HAM\",len(y_train[y_train==1]))\n",
    "\n",
    "print(\"Number of test SPAM\",len(y_test[y_test==0]))\n",
    "print(\"Number of test HAM\",len(y_test[y_test==1]))"
   ]
  },
  {
   "cell_type": "code",
   "execution_count": 9,
   "metadata": {
    "colab": {
     "base_uri": "https://localhost:8080/",
     "height": 34
    },
    "colab_type": "code",
    "id": "H-IQht0NpfZv",
    "outputId": "a56d6aee-5b2a-402d-bd8c-165176778e3a"
   },
   "outputs": [
    {
     "name": "stdout",
     "output_type": "stream",
     "text": [
      "y_train_oh shape :  (1193, 2)  y_test_oh shape :  (512, 2)\n"
     ]
    }
   ],
   "source": [
    "y_train_oh = to_categorical(y_train)\n",
    "y_test_oh = to_categorical(y_test)\n",
    "\n",
    "print(\"y_train_oh shape : \",y_train_oh.shape,\" y_test_oh shape : \",y_test_oh.shape)"
   ]
  },
  {
   "cell_type": "code",
   "execution_count": 10,
   "metadata": {
    "colab": {
     "base_uri": "https://localhost:8080/",
     "height": 493
    },
    "colab_type": "code",
    "id": "nTY9h-XlpfcV",
    "outputId": "efa8c1ca-d5c1-4847-f2e1-120a20ad2041"
   },
   "outputs": [
    {
     "name": "stdout",
     "output_type": "stream",
     "text": [
      "Model: \"sequential\"\n",
      "_________________________________________________________________\n",
      " Layer (type)                Output Shape              Param #   \n",
      "=================================================================\n",
      " conv2d (Conv2D)             (None, 156, 156, 32)      896       \n",
      "                                                                 \n",
      " max_pooling2d (MaxPooling2D  (None, 78, 78, 32)       0         \n",
      " )                                                               \n",
      "                                                                 \n",
      " conv2d_1 (Conv2D)           (None, 78, 78, 64)        18496     \n",
      "                                                                 \n",
      " max_pooling2d_1 (MaxPooling  (None, 39, 39, 64)       0         \n",
      " 2D)                                                             \n",
      "                                                                 \n",
      " conv2d_2 (Conv2D)           (None, 39, 39, 128)       73856     \n",
      "                                                                 \n",
      " dropout (Dropout)           (None, 39, 39, 128)       0         \n",
      "                                                                 \n",
      " flatten (Flatten)           (None, 194688)            0         \n",
      "                                                                 \n",
      " dense (Dense)               (None, 128)               24920192  \n",
      "                                                                 \n",
      " dropout_1 (Dropout)         (None, 128)               0         \n",
      "                                                                 \n",
      " dense_1 (Dense)             (None, 1)                 129       \n",
      "                                                                 \n",
      "=================================================================\n",
      "Total params: 25,013,569\n",
      "Trainable params: 25,013,569\n",
      "Non-trainable params: 0\n",
      "_________________________________________________________________\n"
     ]
    }
   ],
   "source": [
    "NO_OF_EPOCHS=20\n",
    "BATCH_SIZE=32\n",
    "\n",
    "model=Sequential()\n",
    "model.add(Conv2D(32,kernel_size=3, padding='same',activation='relu',input_shape=(156, 156,3)))\n",
    "model.add(MaxPool2D(pool_size=(2, 2)))\n",
    "model.add(Conv2D(64,kernel_size=3, padding='same',activation='relu'))\n",
    "model.add(MaxPool2D(pool_size=(2, 2)))\n",
    "model.add(Conv2D(128,kernel_size=3, padding='same',activation='relu'))\n",
    "model.add(Dropout(0.1))\n",
    "model.add(Flatten())\n",
    "model.add(Dense(128,activation='relu'))\n",
    "model.add(Dropout(0.1))\n",
    "model.add(Dense(1,activation='sigmoid'))\n",
    "model.summary()\n",
    "model.compile(loss='binary_crossentropy', optimizer='adam',metrics=['accuracy'])"
   ]
  },
  {
   "cell_type": "code",
   "execution_count": 12,
   "metadata": {
    "colab": {
     "base_uri": "https://localhost:8080/",
     "height": 1000
    },
    "colab_type": "code",
    "id": "1FaifFXAtiGd",
    "outputId": "d0e0d45f-4300-465b-817d-dbc44cd1cdb6"
   },
   "outputs": [
    {
     "name": "stdout",
     "output_type": "stream",
     "text": [
      "Epoch 1/20\n",
      "30/30 [==============================] - ETA: 0s - loss: 1.1421 - accuracy: 0.8071WARNING:tensorflow:Can save best model only with val_acc available, skipping.\n",
      "WARNING:tensorflow:Learning rate reduction is conditioned on metric `acc` which is not available. Available metrics are: loss,accuracy,val_loss,val_accuracy,lr\n",
      "30/30 [==============================] - 26s 869ms/step - loss: 1.1421 - accuracy: 0.8071 - val_loss: 0.3029 - val_accuracy: 0.9038 - lr: 0.0010\n",
      "Epoch 2/20\n",
      "30/30 [==============================] - ETA: 0s - loss: 0.1654 - accuracy: 0.9539WARNING:tensorflow:Can save best model only with val_acc available, skipping.\n",
      "WARNING:tensorflow:Learning rate reduction is conditioned on metric `acc` which is not available. Available metrics are: loss,accuracy,val_loss,val_accuracy,lr\n",
      "30/30 [==============================] - 26s 863ms/step - loss: 0.1654 - accuracy: 0.9539 - val_loss: 0.1012 - val_accuracy: 0.9623 - lr: 0.0010\n",
      "Epoch 3/20\n",
      "30/30 [==============================] - ETA: 0s - loss: 0.0936 - accuracy: 0.9738WARNING:tensorflow:Can save best model only with val_acc available, skipping.\n",
      "WARNING:tensorflow:Learning rate reduction is conditioned on metric `acc` which is not available. Available metrics are: loss,accuracy,val_loss,val_accuracy,lr\n",
      "30/30 [==============================] - 26s 862ms/step - loss: 0.0936 - accuracy: 0.9738 - val_loss: 0.0636 - val_accuracy: 0.9874 - lr: 0.0010\n",
      "Epoch 4/20\n",
      "30/30 [==============================] - ETA: 0s - loss: 0.0836 - accuracy: 0.9769WARNING:tensorflow:Can save best model only with val_acc available, skipping.\n",
      "WARNING:tensorflow:Learning rate reduction is conditioned on metric `acc` which is not available. Available metrics are: loss,accuracy,val_loss,val_accuracy,lr\n",
      "30/30 [==============================] - 27s 912ms/step - loss: 0.0836 - accuracy: 0.9769 - val_loss: 0.0849 - val_accuracy: 0.9665 - lr: 0.0010\n",
      "Epoch 5/20\n",
      "30/30 [==============================] - ETA: 0s - loss: 0.0756 - accuracy: 0.9759WARNING:tensorflow:Can save best model only with val_acc available, skipping.\n",
      "WARNING:tensorflow:Learning rate reduction is conditioned on metric `acc` which is not available. Available metrics are: loss,accuracy,val_loss,val_accuracy,lr\n",
      "30/30 [==============================] - 25s 840ms/step - loss: 0.0756 - accuracy: 0.9759 - val_loss: 0.0823 - val_accuracy: 0.9916 - lr: 0.0010\n",
      "Epoch 6/20\n",
      "30/30 [==============================] - ETA: 0s - loss: 0.1134 - accuracy: 0.9654WARNING:tensorflow:Can save best model only with val_acc available, skipping.\n",
      "WARNING:tensorflow:Learning rate reduction is conditioned on metric `acc` which is not available. Available metrics are: loss,accuracy,val_loss,val_accuracy,lr\n",
      "30/30 [==============================] - 25s 840ms/step - loss: 0.1134 - accuracy: 0.9654 - val_loss: 0.1184 - val_accuracy: 0.9707 - lr: 0.0010\n",
      "Epoch 7/20\n",
      "30/30 [==============================] - ETA: 0s - loss: 0.0609 - accuracy: 0.9822WARNING:tensorflow:Can save best model only with val_acc available, skipping.\n",
      "WARNING:tensorflow:Learning rate reduction is conditioned on metric `acc` which is not available. Available metrics are: loss,accuracy,val_loss,val_accuracy,lr\n",
      "30/30 [==============================] - 25s 849ms/step - loss: 0.0609 - accuracy: 0.9822 - val_loss: 0.3141 - val_accuracy: 0.9372 - lr: 0.0010\n",
      "Epoch 8/20\n",
      "30/30 [==============================] - ETA: 0s - loss: 0.0922 - accuracy: 0.9822WARNING:tensorflow:Can save best model only with val_acc available, skipping.\n",
      "WARNING:tensorflow:Learning rate reduction is conditioned on metric `acc` which is not available. Available metrics are: loss,accuracy,val_loss,val_accuracy,lr\n",
      "30/30 [==============================] - 25s 845ms/step - loss: 0.0922 - accuracy: 0.9822 - val_loss: 0.0547 - val_accuracy: 0.9874 - lr: 0.0010\n",
      "Epoch 9/20\n",
      "30/30 [==============================] - ETA: 0s - loss: 0.0620 - accuracy: 0.9811WARNING:tensorflow:Can save best model only with val_acc available, skipping.\n",
      "WARNING:tensorflow:Learning rate reduction is conditioned on metric `acc` which is not available. Available metrics are: loss,accuracy,val_loss,val_accuracy,lr\n",
      "30/30 [==============================] - 26s 863ms/step - loss: 0.0620 - accuracy: 0.9811 - val_loss: 0.0817 - val_accuracy: 0.9874 - lr: 0.0010\n",
      "Epoch 10/20\n",
      "30/30 [==============================] - ETA: 0s - loss: 0.0320 - accuracy: 0.9895WARNING:tensorflow:Can save best model only with val_acc available, skipping.\n",
      "WARNING:tensorflow:Learning rate reduction is conditioned on metric `acc` which is not available. Available metrics are: loss,accuracy,val_loss,val_accuracy,lr\n",
      "30/30 [==============================] - 25s 850ms/step - loss: 0.0320 - accuracy: 0.9895 - val_loss: 0.0628 - val_accuracy: 0.9833 - lr: 0.0010\n",
      "Epoch 11/20\n",
      "30/30 [==============================] - ETA: 0s - loss: 0.0281 - accuracy: 0.9927WARNING:tensorflow:Can save best model only with val_acc available, skipping.\n",
      "WARNING:tensorflow:Learning rate reduction is conditioned on metric `acc` which is not available. Available metrics are: loss,accuracy,val_loss,val_accuracy,lr\n",
      "30/30 [==============================] - 25s 836ms/step - loss: 0.0281 - accuracy: 0.9927 - val_loss: 0.0798 - val_accuracy: 0.9874 - lr: 0.0010\n",
      "Epoch 12/20\n",
      "30/30 [==============================] - ETA: 0s - loss: 0.0287 - accuracy: 0.9906WARNING:tensorflow:Can save best model only with val_acc available, skipping.\n",
      "WARNING:tensorflow:Learning rate reduction is conditioned on metric `acc` which is not available. Available metrics are: loss,accuracy,val_loss,val_accuracy,lr\n",
      "30/30 [==============================] - 25s 833ms/step - loss: 0.0287 - accuracy: 0.9906 - val_loss: 0.1748 - val_accuracy: 0.9289 - lr: 0.0010\n",
      "Epoch 13/20\n",
      "30/30 [==============================] - ETA: 0s - loss: 0.0504 - accuracy: 0.9843WARNING:tensorflow:Can save best model only with val_acc available, skipping.\n",
      "WARNING:tensorflow:Learning rate reduction is conditioned on metric `acc` which is not available. Available metrics are: loss,accuracy,val_loss,val_accuracy,lr\n",
      "30/30 [==============================] - 25s 839ms/step - loss: 0.0504 - accuracy: 0.9843 - val_loss: 0.1203 - val_accuracy: 0.9958 - lr: 0.0010\n",
      "Epoch 14/20\n",
      "30/30 [==============================] - ETA: 0s - loss: 0.0513 - accuracy: 0.9895WARNING:tensorflow:Can save best model only with val_acc available, skipping.\n",
      "WARNING:tensorflow:Learning rate reduction is conditioned on metric `acc` which is not available. Available metrics are: loss,accuracy,val_loss,val_accuracy,lr\n",
      "30/30 [==============================] - 26s 853ms/step - loss: 0.0513 - accuracy: 0.9895 - val_loss: 0.1289 - val_accuracy: 0.9582 - lr: 0.0010\n",
      "Epoch 15/20\n",
      "30/30 [==============================] - ETA: 0s - loss: 0.0403 - accuracy: 0.9864WARNING:tensorflow:Can save best model only with val_acc available, skipping.\n",
      "WARNING:tensorflow:Learning rate reduction is conditioned on metric `acc` which is not available. Available metrics are: loss,accuracy,val_loss,val_accuracy,lr\n",
      "30/30 [==============================] - 25s 840ms/step - loss: 0.0403 - accuracy: 0.9864 - val_loss: 0.1016 - val_accuracy: 0.9874 - lr: 0.0010\n",
      "Epoch 16/20\n",
      "30/30 [==============================] - ETA: 0s - loss: 0.0099 - accuracy: 0.9969WARNING:tensorflow:Can save best model only with val_acc available, skipping.\n",
      "WARNING:tensorflow:Learning rate reduction is conditioned on metric `acc` which is not available. Available metrics are: loss,accuracy,val_loss,val_accuracy,lr\n",
      "30/30 [==============================] - 25s 841ms/step - loss: 0.0099 - accuracy: 0.9969 - val_loss: 0.1079 - val_accuracy: 0.9707 - lr: 0.0010\n",
      "Epoch 17/20\n",
      "30/30 [==============================] - ETA: 0s - loss: 0.0111 - accuracy: 0.9958WARNING:tensorflow:Can save best model only with val_acc available, skipping.\n",
      "WARNING:tensorflow:Learning rate reduction is conditioned on metric `acc` which is not available. Available metrics are: loss,accuracy,val_loss,val_accuracy,lr\n",
      "30/30 [==============================] - 26s 865ms/step - loss: 0.0111 - accuracy: 0.9958 - val_loss: 0.0804 - val_accuracy: 0.9958 - lr: 0.0010\n",
      "Epoch 18/20\n",
      "30/30 [==============================] - ETA: 0s - loss: 0.0068 - accuracy: 0.9979WARNING:tensorflow:Can save best model only with val_acc available, skipping.\n",
      "WARNING:tensorflow:Learning rate reduction is conditioned on metric `acc` which is not available. Available metrics are: loss,accuracy,val_loss,val_accuracy,lr\n",
      "30/30 [==============================] - 26s 862ms/step - loss: 0.0068 - accuracy: 0.9979 - val_loss: 0.0660 - val_accuracy: 0.9916 - lr: 0.0010\n",
      "Epoch 19/20\n",
      "30/30 [==============================] - ETA: 0s - loss: 0.0028 - accuracy: 1.0000WARNING:tensorflow:Can save best model only with val_acc available, skipping.\n",
      "WARNING:tensorflow:Learning rate reduction is conditioned on metric `acc` which is not available. Available metrics are: loss,accuracy,val_loss,val_accuracy,lr\n",
      "30/30 [==============================] - 26s 860ms/step - loss: 0.0028 - accuracy: 1.0000 - val_loss: 0.0666 - val_accuracy: 0.9874 - lr: 0.0010\n",
      "Epoch 20/20\n",
      "30/30 [==============================] - ETA: 0s - loss: 0.0024 - accuracy: 0.9990WARNING:tensorflow:Can save best model only with val_acc available, skipping.\n",
      "WARNING:tensorflow:Learning rate reduction is conditioned on metric `acc` which is not available. Available metrics are: loss,accuracy,val_loss,val_accuracy,lr\n",
      "30/30 [==============================] - 25s 836ms/step - loss: 0.0024 - accuracy: 0.9990 - val_loss: 0.0708 - val_accuracy: 0.9958 - lr: 0.0010\n"
     ]
    },
    {
     "data": {
      "text/plain": [
       "<keras.callbacks.History at 0x238151b97f0>"
      ]
     },
     "execution_count": 12,
     "metadata": {},
     "output_type": "execute_result"
    }
   ],
   "source": [
    "checkpointer = callbacks.ModelCheckpoint(filepath=resultPath+\"/checkpoint-{epoch:04d}.hdf5\", verbose=1, save_best_only=True, monitor='val_acc',mode='max')\n",
    "csv_logger = CSVLogger(resultPath+'/result_logger.csv',separator=',', append=False)\n",
    "reduce_lr = ReduceLROnPlateau(monitor='acc', factor=0.2, patience=2, min_lr=0.001)\n",
    "model.fit(x_train,y_train,epochs=NO_OF_EPOCHS,verbose=1,batch_size=BATCH_SIZE,validation_split = 0.2,callbacks=[checkpointer,csv_logger,reduce_lr])"
   ]
  },
  {
   "cell_type": "code",
   "execution_count": 13,
   "metadata": {
    "colab": {
     "base_uri": "https://localhost:8080/",
     "height": 34
    },
    "colab_type": "code",
    "id": "EvadX63Gtkml",
    "outputId": "09a641cb-4d93-463f-c1c1-d49a8ed0860a"
   },
   "outputs": [
    {
     "name": "stdout",
     "output_type": "stream",
     "text": [
      "16/16 [==============================] - 3s 163ms/step\n"
     ]
    }
   ],
   "source": [
    "prediction_prob1 = model.predict(x_test,verbose=1)\n",
    "y_pred=np.round(prediction_prob1)"
   ]
  },
  {
   "cell_type": "code",
   "execution_count": 14,
   "metadata": {
    "colab": {
     "base_uri": "https://localhost:8080/",
     "height": 272
    },
    "colab_type": "code",
    "id": "D1wc57zEtl0O",
    "outputId": "eba4223e-549f-4d8a-aaf3-45c857d7344f"
   },
   "outputs": [
    {
     "name": "stdout",
     "output_type": "stream",
     "text": [
      "0.982421875\n",
      "0.9887218045112782\n",
      "0.9776951672862454\n",
      "0.983177570093458\n",
      "[[240   3]\n",
      " [  6 263]]\n",
      "              precision    recall  f1-score   support\n",
      "\n",
      "           0       0.98      0.99      0.98       243\n",
      "           1       0.99      0.98      0.98       269\n",
      "\n",
      "    accuracy                           0.98       512\n",
      "   macro avg       0.98      0.98      0.98       512\n",
      "weighted avg       0.98      0.98      0.98       512\n",
      "\n"
     ]
    }
   ],
   "source": [
    "print(accuracy_score(y_test,y_pred))\n",
    "print(precision_score(y_test,y_pred,average='binary'))\n",
    "print(recall_score(y_test,y_pred,average='binary'))\n",
    "print(f1_score(y_test,y_pred,average='binary'))\n",
    "print(confusion_matrix(y_test,y_pred))\n",
    "print(classification_report(y_test,y_pred))"
   ]
  },
  {
   "cell_type": "code",
   "execution_count": 26,
   "metadata": {},
   "outputs": [
    {
     "data": {
      "text/plain": [
       "array([0, 1])"
      ]
     },
     "execution_count": 26,
     "metadata": {},
     "output_type": "execute_result"
    }
   ],
   "source": [
    "np.unique(y_train)"
   ]
  },
  {
   "cell_type": "code",
   "execution_count": 37,
   "metadata": {
    "colab": {
     "base_uri": "https://localhost:8080/",
     "height": 34
    },
    "colab_type": "code",
    "id": "wtYscnD7t5bs",
    "outputId": "632a2526-9d6d-41f1-d540-5a310eb8a841"
   },
   "outputs": [
    {
     "name": "stdout",
     "output_type": "stream",
     "text": [
      "[1.05202822 0.9528754 ]\n"
     ]
    }
   ],
   "source": [
    "class_weights = class_weight.compute_class_weight(\"balanced\", classes = np.unique(y_train),y = y_train)\n",
    "print(class_weights)"
   ]
  },
  {
   "cell_type": "code",
   "execution_count": 61,
   "metadata": {
    "colab": {
     "base_uri": "https://localhost:8080/",
     "height": 493
    },
    "colab_type": "code",
    "id": "buYFGuIP-kyf",
    "outputId": "8ef33720-d5d5-4b81-9055-ccbc03bd5ce8"
   },
   "outputs": [
    {
     "name": "stdout",
     "output_type": "stream",
     "text": [
      "Model: \"sequential_5\"\n",
      "_________________________________________________________________\n",
      " Layer (type)                Output Shape              Param #   \n",
      "=================================================================\n",
      " conv2d_15 (Conv2D)          (None, 156, 156, 128)     3584      \n",
      "                                                                 \n",
      " max_pooling2d_10 (MaxPoolin  (None, 39, 39, 128)      0         \n",
      " g2D)                                                            \n",
      "                                                                 \n",
      " conv2d_16 (Conv2D)          (None, 39, 39, 128)       147584    \n",
      "                                                                 \n",
      " max_pooling2d_11 (MaxPoolin  (None, 13, 13, 128)      0         \n",
      " g2D)                                                            \n",
      "                                                                 \n",
      " conv2d_17 (Conv2D)          (None, 13, 13, 256)       295168    \n",
      "                                                                 \n",
      " dropout_10 (Dropout)        (None, 13, 13, 256)       0         \n",
      "                                                                 \n",
      " flatten_5 (Flatten)         (None, 43264)             0         \n",
      "                                                                 \n",
      " dense_10 (Dense)            (None, 128)               5537920   \n",
      "                                                                 \n",
      " dropout_11 (Dropout)        (None, 128)               0         \n",
      "                                                                 \n",
      " dense_11 (Dense)            (None, 1)                 129       \n",
      "                                                                 \n",
      "=================================================================\n",
      "Total params: 5,984,385\n",
      "Trainable params: 5,984,385\n",
      "Non-trainable params: 0\n",
      "_________________________________________________________________\n"
     ]
    }
   ],
   "source": [
    "model1=Sequential()\n",
    "model1.add(Conv2D(128,kernel_size=3, padding='same',activation='relu',input_shape=(156, 156,3)))\n",
    "model1.add(MaxPool2D(pool_size=(4, 4)))\n",
    "model1.add(Conv2D(128,kernel_size=3, padding='same',activation='relu'))\n",
    "model1.add(MaxPool2D(pool_size=(3, 3)))\n",
    "model1.add(Conv2D(256,kernel_size=3, padding='same',activation='relu'))\n",
    "model1.add(Dropout(0.1))\n",
    "model1.add(Flatten())\n",
    "model1.add(Dense(128,activation='relu'))\n",
    "model1.add(Dropout(0.1))\n",
    "model1.add(Dense(1,activation=d'sigmoid'))\n",
    "model1.summary()\n",
    "model1.compile(loss='binary_crossentropy', optimizer='adam',metrics=['accuracy'])"
   ]
  },
  {
   "cell_type": "code",
   "execution_count": 62,
   "metadata": {
    "colab": {
     "base_uri": "https://localhost:8080/",
     "height": 1000
    },
    "colab_type": "code",
    "id": "1tzYvf96-3BJ",
    "outputId": "aab82b38-0d2d-4f9f-fd71-10538a8d94f1"
   },
   "outputs": [
    {
     "name": "stdout",
     "output_type": "stream",
     "text": [
      "Epoch 1/10\n",
      "30/30 [==============================] - 34s 1s/step - loss: 0.6151 - accuracy: 0.7505 - val_loss: 0.3238 - val_accuracy: 0.9038\n",
      "Epoch 2/10\n",
      "30/30 [==============================] - 30s 986ms/step - loss: 0.2640 - accuracy: 0.9057 - val_loss: 0.1963 - val_accuracy: 0.9163\n",
      "Epoch 3/10\n",
      "30/30 [==============================] - 31s 1s/step - loss: 0.1492 - accuracy: 0.9518 - val_loss: 0.2605 - val_accuracy: 0.8828\n",
      "Epoch 4/10\n",
      "30/30 [==============================] - 31s 1s/step - loss: 0.1901 - accuracy: 0.9486 - val_loss: 0.2260 - val_accuracy: 0.9121\n",
      "Epoch 5/10\n",
      "30/30 [==============================] - 31s 1s/step - loss: 0.1275 - accuracy: 0.9591 - val_loss: 0.2624 - val_accuracy: 0.9289\n",
      "Epoch 6/10\n",
      "30/30 [==============================] - 39s 1s/step - loss: 0.0889 - accuracy: 0.9665 - val_loss: 0.2445 - val_accuracy: 0.9247\n",
      "Epoch 7/10\n",
      "30/30 [==============================] - 31s 1s/step - loss: 0.0895 - accuracy: 0.9727 - val_loss: 0.0647 - val_accuracy: 0.9749\n",
      "Epoch 8/10\n",
      "30/30 [==============================] - 33s 1s/step - loss: 0.0683 - accuracy: 0.9769 - val_loss: 0.1182 - val_accuracy: 0.9582\n",
      "Epoch 9/10\n",
      "30/30 [==============================] - 31s 1s/step - loss: 0.0369 - accuracy: 0.9906 - val_loss: 0.0828 - val_accuracy: 0.9833\n",
      "Epoch 10/10\n",
      "30/30 [==============================] - 30s 1s/step - loss: 0.0251 - accuracy: 0.9927 - val_loss: 0.0967 - val_accuracy: 0.9749\n"
     ]
    },
    {
     "data": {
      "text/plain": [
       "<keras.callbacks.History at 0x23807a506d0>"
      ]
     },
     "execution_count": 62,
     "metadata": {},
     "output_type": "execute_result"
    }
   ],
   "source": [
    "\n",
    "model1.fit(x_train,y_train,epochs=10,verbose=1,batch_size=BATCH_SIZE,class_weight=class_weights,validation_split = 0.2)"
   ]
  },
  {
   "cell_type": "code",
   "execution_count": 63,
   "metadata": {
    "colab": {
     "base_uri": "https://localhost:8080/",
     "height": 34
    },
    "colab_type": "code",
    "id": "mpqSui9qISJL",
    "outputId": "a4b11335-35e0-4bef-f3a0-a3245734f233"
   },
   "outputs": [
    {
     "name": "stdout",
     "output_type": "stream",
     "text": [
      "16/16 [==============================] - 5s 291ms/step\n"
     ]
    }
   ],
   "source": [
    "prediction_prob = model1.predict(x_test,verbose=1)\n",
    "y_pred=np.round(prediction_prob)"
   ]
  },
  {
   "cell_type": "code",
   "execution_count": 69,
   "metadata": {},
   "outputs": [
    {
     "name": "stdout",
     "output_type": "stream",
     "text": [
      "0.96484375\n",
      "0.9466192170818505\n",
      "0.9888475836431226\n",
      "0.9672727272727273\n",
      "[[228  15]\n",
      " [  3 266]]\n",
      "              precision    recall  f1-score   support\n",
      "\n",
      "           0       0.99      0.94      0.96       243\n",
      "           1       0.95      0.99      0.97       269\n",
      "\n",
      "    accuracy                           0.96       512\n",
      "   macro avg       0.97      0.96      0.96       512\n",
      "weighted avg       0.97      0.96      0.96       512\n",
      "\n"
     ]
    }
   ],
   "source": [
    "print(accuracy_score(y_test,y_pred))\n",
    "print(precision_score(y_test,y_pred,average='binary'))\n",
    "print(recall_score(y_test,y_pred,average='binary'))\n",
    "print(f1_score(y_test,y_pred,average='binary'))\n",
    "print(confusion_matrix(y_test,y_pred))\n",
    "print(classification_report(y_test,y_pred))"
   ]
  },
  {
   "cell_type": "code",
   "execution_count": 73,
   "metadata": {
    "colab": {
     "base_uri": "https://localhost:8080/",
     "height": 295
    },
    "colab_type": "code",
    "id": "F8IJ3-tlIany",
    "outputId": "e9b754f2-de57-4aeb-cd1f-0db5274f74c9"
   },
   "outputs": [
    {
     "data": {
      "image/png": "[encoded data removed]",
      "text/plain": [
       "<Figure size 432x288 with 1 Axes>"
      ]
     },
     "metadata": {
      "needs_background": "light"
     },
     "output_type": "display_data"
    }
   ],
   "source": [
    "\n",
    "fpr = dict()\n",
    "tpr = dict()\n",
    "roc_auc = dict()\n",
    "for i in range(2):\n",
    "    fpr[i], tpr[i], _ = roc_curve(y_test, prediction_prob)\n",
    "    roc_auc[i] = auc(fpr[i], tpr[i])\n",
    "\n",
    "\n",
    "pyplot.figure()\n",
    "pyplot.plot(fpr[0], tpr[0],color='blue', lw=1, label='CS-CNN - ROC curve (area = %0.2f)' % roc_auc[0])\n",
    "\n",
    "fpr = dict()\n",
    "tpr = dict()\n",
    "roc_auc = dict()\n",
    "for i in range(2):\n",
    "    fpr[i], tpr[i], _ = roc_curve(y_test, prediction_prob1)\n",
    "    roc_auc[i] = auc(fpr[i], tpr[i])\n",
    "pyplot.plot(fpr[0], tpr[0],color='darkorange', lw=1, label='CNN - ROC curve (area = %0.2f)' % roc_auc[0])\n",
    "pyplot.plot([0, 1], [0, 1], color='red', lw=1, linestyle='--')\n",
    "pyplot.xlim([0.0, 1.0])\n",
    "pyplot.ylim([0.0, 1.05])\n",
    "pyplot.xlabel('False Positive Rate')\n",
    "pyplot.ylabel('True Positive Rate')\n",
    "pyplot.title('CNN - Receiver operating characteristic')\n",
    "pyplot.legend(loc=\"lower right\")\n",
    "pyplot.show()"
   ]
  },
  {
   "cell_type": "code",
   "execution_count": 75,
   "metadata": {
    "colab": {},
    "colab_type": "code",
    "id": "nDj9uwZWJBBf"
   },
   "outputs": [],
   "source": [
    "m1model = Model(inputs=model.input,outputs=model.get_layer('dense').output)\n",
    "m2model = Model(inputs=model1.input,outputs=model1.get_layer('dense_10').output)"
   ]
  },
  {
   "cell_type": "code",
   "execution_count": 76,
   "metadata": {
    "colab": {
     "base_uri": "https://localhost:8080/",
     "height": 85
    },
    "colab_type": "code",
    "id": "J6dHPeHrNKXj",
    "outputId": "668de787-daf2-4eca-af69-29914aa49bf0"
   },
   "outputs": [
    {
     "name": "stdout",
     "output_type": "stream",
     "text": [
      "38/38 [==============================] - 7s 169ms/step\n",
      "16/16 [==============================] - 3s 180ms/step\n",
      "38/38 [==============================] - 10s 268ms/step\n",
      "16/16 [==============================] - 5s 283ms/step\n"
     ]
    }
   ],
   "source": [
    "m1_x_train = m1model.predict(x_train,verbose=1)\n",
    "m1_x_test = m1model.predict(x_test,verbose=1)\n",
    "\n",
    "m2_x_train = m2model.predict(x_train,verbose=1)\n",
    "m2_x_test = m2model.predict(x_test,verbose=1)"
   ]
  },
  {
   "cell_type": "code",
   "execution_count": 77,
   "metadata": {
    "colab": {
     "base_uri": "https://localhost:8080/",
     "height": 51
    },
    "colab_type": "code",
    "id": "rOWwASaINooU",
    "outputId": "09566efc-abdc-4e80-c21b-50bb8c0e3d1a"
   },
   "outputs": [
    {
     "name": "stdout",
     "output_type": "stream",
     "text": [
      "Shape of model1 Train and Test DF :  (1193, 128)  :  (512, 128)\n",
      "Shape of model2 Train and Test DF :  (1193, 128)  :  (512, 128)\n"
     ]
    }
   ],
   "source": [
    "print(\"Shape of model1 Train and Test DF : \",m1_x_train.shape,\" : \",m1_x_test.shape)\n",
    "print(\"Shape of model2 Train and Test DF : \",m2_x_train.shape,\" : \",m2_x_test.shape)"
   ]
  },
  {
   "cell_type": "code",
   "execution_count": 78,
   "metadata": {
    "colab": {},
    "colab_type": "code",
    "id": "-tc4PGZgOOnl"
   },
   "outputs": [],
   "source": [
    "def printMetrics(true,pred):\n",
    "    print(\"Accuracy : \",accuracy_score(true, pred))\n",
    "    print(\"Precision\",precision_score(true, pred , average=\"weighted\"))\n",
    "    print(\"Recall : \",recall_score(true, pred , average=\"weighted\"))\n",
    "    print(\"F1-score : \",f1_score(true, pred, average=\"weighted\"))\n",
    "    print(\"Confusion Matrix : \")\n",
    "    print(confusion_matrix(true, pred))\n",
    "    print(classification_report(true,pred))"
   ]
  },
  {
   "cell_type": "code",
   "execution_count": 79,
   "metadata": {
    "colab": {
     "base_uri": "https://localhost:8080/",
     "height": 683
    },
    "colab_type": "code",
    "id": "4alG-hj2N2Yf",
    "outputId": "fb901fc5-47d1-4ec4-a05a-59f901958693"
   },
   "outputs": [
    {
     "name": "stdout",
     "output_type": "stream",
     "text": [
      "cost-insensitive\n",
      "Accuracy :  0.978515625\n",
      "Precision 0.9785272137646807\n",
      "Recall :  0.978515625\n",
      "F1-score :  0.9785176788063199\n",
      "Confusion Matrix : \n",
      "[[238   5]\n",
      " [  6 263]]\n",
      "              precision    recall  f1-score   support\n",
      "\n",
      "           0       0.98      0.98      0.98       243\n",
      "           1       0.98      0.98      0.98       269\n",
      "\n",
      "    accuracy                           0.98       512\n",
      "   macro avg       0.98      0.98      0.98       512\n",
      "weighted avg       0.98      0.98      0.98       512\n",
      "\n",
      "cost-sensitive\n",
      "Accuracy :  0.982421875\n",
      "Precision 0.9824257609236303\n",
      "Recall :  0.982421875\n",
      "F1-score :  0.9824200594600538\n",
      "Confusion Matrix : \n",
      "[[238   5]\n",
      " [  4 265]]\n",
      "              precision    recall  f1-score   support\n",
      "\n",
      "           0       0.98      0.98      0.98       243\n",
      "           1       0.98      0.99      0.98       269\n",
      "\n",
      "    accuracy                           0.98       512\n",
      "   macro avg       0.98      0.98      0.98       512\n",
      "weighted avg       0.98      0.98      0.98       512\n",
      "\n"
     ]
    },
    {
     "name": "stderr",
     "output_type": "stream",
     "text": [
      "D:\\anaconda\\lib\\site-packages\\sklearn\\linear_model\\_logistic.py:814: ConvergenceWarning: lbfgs failed to converge (status=1):\n",
      "STOP: TOTAL NO. of ITERATIONS REACHED LIMIT.\n",
      "\n",
      "Increase the number of iterations (max_iter) or scale the data as shown in:\n",
      "    https://scikit-learn.org/stable/modules/preprocessing.html\n",
      "Please also refer to the documentation for alternative solver options:\n",
      "    https://scikit-learn.org/stable/modules/linear_model.html#logistic-regression\n",
      "  n_iter_i = _check_optimize_result(\n",
      "D:\\anaconda\\lib\\site-packages\\sklearn\\linear_model\\_logistic.py:814: ConvergenceWarning: lbfgs failed to converge (status=1):\n",
      "STOP: TOTAL NO. of ITERATIONS REACHED LIMIT.\n",
      "\n",
      "Increase the number of iterations (max_iter) or scale the data as shown in:\n",
      "    https://scikit-learn.org/stable/modules/preprocessing.html\n",
      "Please also refer to the documentation for alternative solver options:\n",
      "    https://scikit-learn.org/stable/modules/linear_model.html#logistic-regression\n",
      "  n_iter_i = _check_optimize_result(\n"
     ]
    }
   ],
   "source": [
    "LR = LogisticRegression()\n",
    "LR.fit(m1_x_train, y_train)\n",
    "LRprob = LR.predict_proba(m1_x_test)\n",
    "y_pred = LR.predict(m1_x_test)\n",
    "print(\"cost-insensitive\")\n",
    "printMetrics(y_test,y_pred)\n",
    "\n",
    "LR = LogisticRegression()\n",
    "LR.fit(m2_x_train, y_train)\n",
    "CS_LRprob = LR.predict_proba(m2_x_test)\n",
    "y_pred = LR.predict(m2_x_test)\n",
    "print(\"cost-sensitive\")\n",
    "printMetrics(y_test,y_pred)"
   ]
  },
  {
   "cell_type": "code",
   "execution_count": 80,
   "metadata": {
    "colab": {
     "base_uri": "https://localhost:8080/",
     "height": 683
    },
    "colab_type": "code",
    "id": "3N7zMQB9UoOb",
    "outputId": "1e488a3f-bc10-4fd5-9d90-d2514d666383"
   },
   "outputs": [
    {
     "name": "stdout",
     "output_type": "stream",
     "text": [
      "cost-insensitive\n",
      "Accuracy :  0.984375\n",
      "Precision 0.9845058150637843\n",
      "Recall :  0.984375\n",
      "F1-score :  0.9843802549109532\n",
      "Confusion Matrix : \n",
      "[[241   2]\n",
      " [  6 263]]\n",
      "              precision    recall  f1-score   support\n",
      "\n",
      "           0       0.98      0.99      0.98       243\n",
      "           1       0.99      0.98      0.99       269\n",
      "\n",
      "    accuracy                           0.98       512\n",
      "   macro avg       0.98      0.98      0.98       512\n",
      "weighted avg       0.98      0.98      0.98       512\n",
      "\n",
      "cost-sensitive\n",
      "Accuracy :  0.982421875\n",
      "Precision 0.9824257609236303\n",
      "Recall :  0.982421875\n",
      "F1-score :  0.9824200594600538\n",
      "Confusion Matrix : \n",
      "[[238   5]\n",
      " [  4 265]]\n",
      "              precision    recall  f1-score   support\n",
      "\n",
      "           0       0.98      0.98      0.98       243\n",
      "           1       0.98      0.99      0.98       269\n",
      "\n",
      "    accuracy                           0.98       512\n",
      "   macro avg       0.98      0.98      0.98       512\n",
      "weighted avg       0.98      0.98      0.98       512\n",
      "\n"
     ]
    }
   ],
   "source": [
    "RF = RandomForestClassifier()\n",
    "RF.fit(m1_x_train, y_train)\n",
    "RFprob = RF.predict_proba(m1_x_test)\n",
    "y_pred = RF.predict(m1_x_test)\n",
    "print(\"cost-insensitive\")\n",
    "printMetrics(y_test,y_pred)\n",
    "\n",
    "RF = RandomForestClassifier()\n",
    "RF.fit(m2_x_train, y_train)\n",
    "CS_RFprob = RF.predict_proba(m2_x_test)\n",
    "y_pred = RF.predict(m2_x_test)\n",
    "print(\"cost-sensitive\")\n",
    "printMetrics(y_test,y_pred)"
   ]
  },
  {
   "cell_type": "code",
   "execution_count": 81,
   "metadata": {
    "colab": {
     "base_uri": "https://localhost:8080/",
     "height": 595
    },
    "colab_type": "code",
    "id": "gYyDSr-KU75W",
    "outputId": "73b881a5-d2e5-488f-a034-9ff2cfb0032a"
   },
   "outputs": [
    {
     "name": "stdout",
     "output_type": "stream",
     "text": [
      "cost-insensitive\n",
      "Accuracy :  0.982421875\n",
      "Precision 0.9824327469338756\n",
      "Recall :  0.982421875\n",
      "F1-score :  0.9824235553869891\n",
      "Confusion Matrix : \n",
      "[[239   4]\n",
      " [  5 264]]\n",
      "              precision    recall  f1-score   support\n",
      "\n",
      "           0       0.98      0.98      0.98       243\n",
      "           1       0.99      0.98      0.98       269\n",
      "\n",
      "    accuracy                           0.98       512\n",
      "   macro avg       0.98      0.98      0.98       512\n",
      "weighted avg       0.98      0.98      0.98       512\n",
      "\n",
      "cost-sensitive\n",
      "Accuracy :  0.9765625\n",
      "Precision 0.9765625\n",
      "Recall :  0.9765625\n",
      "F1-score :  0.9765625\n",
      "Confusion Matrix : \n",
      "[[237   6]\n",
      " [  6 263]]\n",
      "              precision    recall  f1-score   support\n",
      "\n",
      "           0       0.98      0.98      0.98       243\n",
      "           1       0.98      0.98      0.98       269\n",
      "\n",
      "    accuracy                           0.98       512\n",
      "   macro avg       0.98      0.98      0.98       512\n",
      "weighted avg       0.98      0.98      0.98       512\n",
      "\n"
     ]
    }
   ],
   "source": [
    "DT = DecisionTreeClassifier()\n",
    "DT.fit(m1_x_train, y_train)\n",
    "DTprob = DT.predict_proba(m1_x_test)\n",
    "y_pred = DT.predict(m1_x_test)\n",
    "print(\"cost-insensitive\")\n",
    "printMetrics(y_test,y_pred)\n",
    "\n",
    "DT = DecisionTreeClassifier()\n",
    "DT.fit(m2_x_train, y_train)\n",
    "CS_DTprob = DT.predict_proba(m2_x_test)\n",
    "y_pred = DT.predict(m2_x_test)\n",
    "print(\"cost-sensitive\")\n",
    "printMetrics(y_test,y_pred)"
   ]
  },
  {
   "cell_type": "code",
   "execution_count": 82,
   "metadata": {
    "colab": {
     "base_uri": "https://localhost:8080/",
     "height": 595
    },
    "colab_type": "code",
    "id": "Vn0NQGd1VJuV",
    "outputId": "cdd80a30-0187-47a4-94a6-27a7bd7a7059"
   },
   "outputs": [
    {
     "name": "stdout",
     "output_type": "stream",
     "text": [
      "cost-insensitive\n",
      "Accuracy :  0.98046875\n",
      "Precision 0.9806017134863647\n",
      "Recall :  0.98046875\n",
      "F1-score :  0.9804753186386914\n",
      "Confusion Matrix : \n",
      "[[240   3]\n",
      " [  7 262]]\n",
      "              precision    recall  f1-score   support\n",
      "\n",
      "           0       0.97      0.99      0.98       243\n",
      "           1       0.99      0.97      0.98       269\n",
      "\n",
      "    accuracy                           0.98       512\n",
      "   macro avg       0.98      0.98      0.98       512\n",
      "weighted avg       0.98      0.98      0.98       512\n",
      "\n",
      "cost-sensitive\n",
      "Accuracy :  0.982421875\n",
      "Precision 0.9824778837316177\n",
      "Recall :  0.982421875\n",
      "F1-score :  0.9824160224193752\n",
      "Confusion Matrix : \n",
      "[[237   6]\n",
      " [  3 266]]\n",
      "              precision    recall  f1-score   support\n",
      "\n",
      "           0       0.99      0.98      0.98       243\n",
      "           1       0.98      0.99      0.98       269\n",
      "\n",
      "    accuracy                           0.98       512\n",
      "   macro avg       0.98      0.98      0.98       512\n",
      "weighted avg       0.98      0.98      0.98       512\n",
      "\n"
     ]
    }
   ],
   "source": [
    "\n",
    "KNN = KNeighborsClassifier()\n",
    "KNN.fit(m1_x_train, y_train)\n",
    "KNNprob = KNN.predict_proba(m1_x_test)\n",
    "y_pred = KNN.predict(m1_x_test)\n",
    "print(\"cost-insensitive\")\n",
    "printMetrics(y_test,y_pred)\n",
    "\n",
    "KNN = KNeighborsClassifier()\n",
    "KNN.fit(m2_x_train, y_train)\n",
    "CS_KNNprob = KNN.predict_proba(m2_x_test)\n",
    "y_pred = KNN.predict(m2_x_test)\n",
    "print(\"cost-sensitive\")\n",
    "printMetrics(y_test,y_pred)"
   ]
  },
  {
   "cell_type": "code",
   "execution_count": 83,
   "metadata": {
    "colab": {
     "base_uri": "https://localhost:8080/",
     "height": 595
    },
    "colab_type": "code",
    "id": "YI-AnbGXVLA8",
    "outputId": "17ab714f-4605-4546-e3db-b487daad1b59"
   },
   "outputs": [
    {
     "name": "stdout",
     "output_type": "stream",
     "text": [
      "cost-insensitive\n",
      "Accuracy :  0.982421875\n",
      "Precision 0.9824987034086741\n",
      "Recall :  0.982421875\n",
      "F1-score :  0.9824265111662176\n",
      "Confusion Matrix : \n",
      "[[240   3]\n",
      " [  6 263]]\n",
      "              precision    recall  f1-score   support\n",
      "\n",
      "           0       0.98      0.99      0.98       243\n",
      "           1       0.99      0.98      0.98       269\n",
      "\n",
      "    accuracy                           0.98       512\n",
      "   macro avg       0.98      0.98      0.98       512\n",
      "weighted avg       0.98      0.98      0.98       512\n",
      "\n",
      "cost-sensitive\n",
      "Accuracy :  0.978515625\n",
      "Precision 0.9786776566237809\n",
      "Recall :  0.978515625\n",
      "F1-score :  0.9785028750196223\n",
      "Confusion Matrix : \n",
      "[[235   8]\n",
      " [  3 266]]\n",
      "              precision    recall  f1-score   support\n",
      "\n",
      "           0       0.99      0.97      0.98       243\n",
      "           1       0.97      0.99      0.98       269\n",
      "\n",
      "    accuracy                           0.98       512\n",
      "   macro avg       0.98      0.98      0.98       512\n",
      "weighted avg       0.98      0.98      0.98       512\n",
      "\n"
     ]
    }
   ],
   "source": [
    "\n",
    "GNB = GaussianNB()\n",
    "GNB.fit(m1_x_train, y_train)\n",
    "GNBprob = GNB.predict_proba(m1_x_test)\n",
    "y_pred = GNB.predict(m1_x_test)\n",
    "print(\"cost-insensitive\")\n",
    "printMetrics(y_test,y_pred)\n",
    "\n",
    "GNB = GaussianNB()\n",
    "GNB.fit(m2_x_train, y_train)\n",
    "CS_GNBprob = GNB.predict_proba(m2_x_test)\n",
    "y_pred = GNB.predict(m2_x_test)\n",
    "print(\"cost-sensitive\")\n",
    "printMetrics(y_test,y_pred)"
   ]
  },
  {
   "cell_type": "code",
   "execution_count": 84,
   "metadata": {
    "colab": {
     "base_uri": "https://localhost:8080/",
     "height": 595
    },
    "colab_type": "code",
    "id": "RmPbNRrIVLDj",
    "outputId": "9a39e468-d571-489c-e480-9be2e62e402e"
   },
   "outputs": [
    {
     "name": "stdout",
     "output_type": "stream",
     "text": [
      "cost-insensitive\n",
      "Accuracy :  0.98046875\n",
      "Precision 0.9805058926660553\n",
      "Recall :  0.98046875\n",
      "F1-score :  0.9804723341540249\n",
      "Confusion Matrix : \n",
      "[[239   4]\n",
      " [  6 263]]\n",
      "              precision    recall  f1-score   support\n",
      "\n",
      "           0       0.98      0.98      0.98       243\n",
      "           1       0.99      0.98      0.98       269\n",
      "\n",
      "    accuracy                           0.98       512\n",
      "   macro avg       0.98      0.98      0.98       512\n",
      "weighted avg       0.98      0.98      0.98       512\n",
      "\n",
      "cost-sensitive\n",
      "Accuracy :  0.98828125\n",
      "Precision 0.98828125\n",
      "Recall :  0.98828125\n",
      "F1-score :  0.98828125\n",
      "Confusion Matrix : \n",
      "[[240   3]\n",
      " [  3 266]]\n",
      "              precision    recall  f1-score   support\n",
      "\n",
      "           0       0.99      0.99      0.99       243\n",
      "           1       0.99      0.99      0.99       269\n",
      "\n",
      "    accuracy                           0.99       512\n",
      "   macro avg       0.99      0.99      0.99       512\n",
      "weighted avg       0.99      0.99      0.99       512\n",
      "\n"
     ]
    }
   ],
   "source": [
    "AB = AdaBoostClassifier()\n",
    "AB.fit(m1_x_train, y_train)\n",
    "ABprob = AB.predict_proba(m1_x_test)\n",
    "y_pred = AB.predict(m1_x_test)\n",
    "print(\"cost-insensitive\")\n",
    "printMetrics(y_test,y_pred)\n",
    "\n",
    "AB = AdaBoostClassifier()\n",
    "AB.fit(m2_x_train, y_train)\n",
    "CS_ABprob = AB.predict_proba(m2_x_test)\n",
    "y_pred = AB.predict(m2_x_test)\n",
    "print(\"cost-sensitive\")\n",
    "printMetrics(y_test,y_pred)"
   ]
  },
  {
   "cell_type": "code",
   "execution_count": 85,
   "metadata": {
    "colab": {
     "base_uri": "https://localhost:8080/",
     "height": 595
    },
    "colab_type": "code",
    "id": "6v8X2z4fVLGG",
    "outputId": "e2a34aea-7a63-43b1-b7a2-1c9a6c6d913f"
   },
   "outputs": [
    {
     "name": "stdout",
     "output_type": "stream",
     "text": [
      "cost-insensitive\n",
      "Accuracy :  0.978515625\n",
      "Precision 0.9785272137646807\n",
      "Recall :  0.978515625\n",
      "F1-score :  0.9785176788063199\n",
      "Confusion Matrix : \n",
      "[[238   5]\n",
      " [  6 263]]\n",
      "              precision    recall  f1-score   support\n",
      "\n",
      "           0       0.98      0.98      0.98       243\n",
      "           1       0.98      0.98      0.98       269\n",
      "\n",
      "    accuracy                           0.98       512\n",
      "   macro avg       0.98      0.98      0.98       512\n",
      "weighted avg       0.98      0.98      0.98       512\n",
      "\n",
      "cost-sensitive\n",
      "Accuracy :  0.982421875\n",
      "Precision 0.9824257609236303\n",
      "Recall :  0.982421875\n",
      "F1-score :  0.9824200594600538\n",
      "Confusion Matrix : \n",
      "[[238   5]\n",
      " [  4 265]]\n",
      "              precision    recall  f1-score   support\n",
      "\n",
      "           0       0.98      0.98      0.98       243\n",
      "           1       0.98      0.99      0.98       269\n",
      "\n",
      "    accuracy                           0.98       512\n",
      "   macro avg       0.98      0.98      0.98       512\n",
      "weighted avg       0.98      0.98      0.98       512\n",
      "\n"
     ]
    }
   ],
   "source": [
    "LSVM = svm.SVC(kernel='linear',probability=True)\n",
    "LSVM.fit(m1_x_train, y_train)\n",
    "LSVMprob = LSVM.predict_proba(m1_x_test)\n",
    "y_pred = LSVM.predict(m1_x_test)\n",
    "print(\"cost-insensitive\")\n",
    "printMetrics(y_test,y_pred)\n",
    "\n",
    "LSVM = svm.SVC(kernel='linear',probability=True)\n",
    "LSVM.fit(m2_x_train, y_train)\n",
    "CS_LSVMprob = LSVM.predict_proba(m2_x_test)\n",
    "y_pred = LSVM.predict(m2_x_test)\n",
    "print(\"cost-sensitive\")\n",
    "printMetrics(y_test,y_pred)"
   ]
  },
  {
   "cell_type": "code",
   "execution_count": 86,
   "metadata": {
    "colab": {
     "base_uri": "https://localhost:8080/",
     "height": 649
    },
    "colab_type": "code",
    "id": "V-LawyEnVLIv",
    "outputId": "6e422d62-2340-482f-cda2-b3e4515468b4"
   },
   "outputs": [
    {
     "name": "stdout",
     "output_type": "stream",
     "text": [
      "cost-insensitive\n",
      "Accuracy :  0.982421875\n",
      "Precision 0.9824987034086741\n",
      "Recall :  0.982421875\n",
      "F1-score :  0.9824265111662176\n",
      "Confusion Matrix : \n",
      "[[240   3]\n",
      " [  6 263]]\n",
      "              precision    recall  f1-score   support\n",
      "\n",
      "           0       0.98      0.99      0.98       243\n",
      "           1       0.99      0.98      0.98       269\n",
      "\n",
      "    accuracy                           0.98       512\n",
      "   macro avg       0.98      0.98      0.98       512\n",
      "weighted avg       0.98      0.98      0.98       512\n",
      "\n",
      "cost-sensitive\n",
      "Accuracy :  0.982421875\n",
      "Precision 0.9824257609236303\n",
      "Recall :  0.982421875\n",
      "F1-score :  0.9824200594600538\n",
      "Confusion Matrix : \n",
      "[[238   5]\n",
      " [  4 265]]\n",
      "              precision    recall  f1-score   support\n",
      "\n",
      "           0       0.98      0.98      0.98       243\n",
      "           1       0.98      0.99      0.98       269\n",
      "\n",
      "    accuracy                           0.98       512\n",
      "   macro avg       0.98      0.98      0.98       512\n",
      "weighted avg       0.98      0.98      0.98       512\n",
      "\n"
     ]
    }
   ],
   "source": [
    "RSVM = svm.SVC(kernel='rbf',probability=True)\n",
    "RSVM.fit(m1_x_train, y_train)\n",
    "RSVMprob = RSVM.predict_proba(m1_x_test)\n",
    "y_pred = RSVM.predict(m1_x_test)\n",
    "print(\"cost-insensitive\")\n",
    "printMetrics(y_test,y_pred)\n",
    "\n",
    "RSVM = svm.SVC(kernel='linear',probability=True)\n",
    "RSVM.fit(m2_x_train, y_train)\n",
    "CS_RSVMprob = RSVM.predict_proba(m2_x_test)\n",
    "y_pred = RSVM.predict(m2_x_test)\n",
    "print(\"cost-sensitive\")\n",
    "printMetrics(y_test,y_pred)"
   ]
  },
  {
   "cell_type": "code",
   "execution_count": 87,
   "metadata": {
    "colab": {},
    "colab_type": "code",
    "id": "N7XLP5Nbetu9"
   },
   "outputs": [],
   "source": [
    "SMALL_SIZE = 12\n",
    "MEDIUM_SIZE = 10\n",
    "BIGGER_SIZE = 18\n",
    "\n",
    "pyplot.rc('font', size=SMALL_SIZE)          # controls default text sizes\n",
    "pyplot.rc('axes', titlesize=SMALL_SIZE)     # fontsize of the axes title\n",
    "pyplot.rc('axes', labelsize=SMALL_SIZE)    # fontsize of the x and y labels\n",
    "pyplot.rc('xtick', labelsize=SMALL_SIZE)    # fontsize of the tick labels\n",
    "pyplot.rc('ytick', labelsize=SMALL_SIZE)    # fontsize of the tick labels\n",
    "pyplot.rc('legend', fontsize=BIGGER_SIZE)    # legend fontsize\n",
    "pyplot.rc('figure', titlesize=SMALL_SIZE)  # fontsize of the figure title\n",
    "\n",
    "def rocinfo(pred):\n",
    "    fpr = dict()\n",
    "    tpr = dict()\n",
    "    roc_auc = dict()\n",
    "    for i in range(2):\n",
    "        fpr[i], tpr[i], _ = roc_curve(y_test, pred)\n",
    "        roc_auc[i] = auc(fpr[i], tpr[i])\n",
    "    return fpr,tpr,roc_auc"
   ]
  },
  {
   "cell_type": "code",
   "execution_count": 88,
   "metadata": {
    "colab": {
     "base_uri": "https://localhost:8080/",
     "height": 628
    },
    "colab_type": "code",
    "id": "xb32IwbJfALd",
    "outputId": "5edebaa1-d633-4d89-e2ff-26aa4b92b25a"
   },
   "outputs": [
    {
     "data": {
      "image/png": "[encoded data removed]",
      "text/plain": [
       "<Figure size 1080x720 with 1 Axes>"
      ]
     },
     "metadata": {
      "needs_background": "light"
     },
     "output_type": "display_data"
    }
   ],
   "source": [
    "pyplot.figure(figsize=(15,10))\n",
    "\n",
    "fpr,tpr,roc_auc = rocinfo(prediction_prob1) \n",
    "pyplot.plot(fpr[0], tpr[0],color='blue', lw=1, label='CNN - ROC curve (area = %0.2f)' % roc_auc[0])\n",
    "\n",
    "fpr,tpr,roc_auc = rocinfo(LRprob[:,1]) \n",
    "pyplot.plot(fpr[0], tpr[0],color='yellow', lw=1, label='CNN-LR - ROC curve (area = %0.2f)' % roc_auc[0])\n",
    "\n",
    "fpr,tpr,roc_auc = rocinfo(RFprob[:,1]) \n",
    "pyplot.plot(fpr[0], tpr[0],color='brown', lw=1, label='CNN-RF - ROC curve (area = %0.2f)' % roc_auc[0])\n",
    "\n",
    "fpr,tpr,roc_auc = rocinfo(DTprob[:,1]) \n",
    "pyplot.plot(fpr[0], tpr[0],color='darkorange', lw=1, label='CNN-DT - ROC curve (area = %0.2f)' % roc_auc[0])\n",
    "\n",
    "fpr,tpr,roc_auc = rocinfo(KNNprob[:,1]) \n",
    "pyplot.plot(fpr[0], tpr[0],color='green', lw=1, label='CNN-KNN - ROC curve (area = %0.2f)' % roc_auc[0])\n",
    "\n",
    "fpr,tpr,roc_auc = rocinfo(GNBprob[:,1]) \n",
    "pyplot.plot(fpr[0], tpr[0],color='cyan', lw=1, label='CNN-GNB - ROC curve (area = %0.2f)' % roc_auc[0])\n",
    "\n",
    "fpr,tpr,roc_auc = rocinfo(ABprob[:,1]) \n",
    "pyplot.plot(fpr[0], tpr[0],color='magenta', lw=1, label='CNN-AB - ROC curve (area = %0.2f)' % roc_auc[0])\n",
    "\n",
    "fpr,tpr,roc_auc = rocinfo(LSVMprob[:,1]) \n",
    "pyplot.plot(fpr[0], tpr[0],color='black', lw=1, label='CNN-LSVM - ROC curve (area = %0.2f)' % roc_auc[0])\n",
    "\n",
    "fpr,tpr,roc_auc = rocinfo(RSVMprob[:,1]) \n",
    "pyplot.plot(fpr[0], tpr[0],color='pink', lw=1, label='CNN-RSVM - ROC curve (area = %0.2f)' % roc_auc[0])\n",
    "\n",
    "pyplot.plot([0, 1], [0, 1], color='red', lw=1, linestyle='--')\n",
    "pyplot.xlim([0.0, 1.0])\n",
    "pyplot.ylim([0.0, 1.05])\n",
    "pyplot.xlabel('False Positive Rate')\n",
    "pyplot.ylabel('True Positive Rate')\n",
    "pyplot.title('CNN - Receiver operating characteristic')\n",
    "pyplot.legend(loc=\"lower right\")\n",
    "pyplot.show()"
   ]
  },
  {
   "cell_type": "code",
   "execution_count": 89,
   "metadata": {
    "colab": {
     "base_uri": "https://localhost:8080/",
     "height": 628
    },
    "colab_type": "code",
    "id": "EHKjpLYEc3u_",
    "outputId": "fad908f9-3a76-44c0-a19c-e4343ca1d654"
   },
   "outputs": [
    {
     "data": {
      "image/png": "[encoded data removed]",
      "text/plain": [
       "<Figure size 1080x720 with 1 Axes>"
      ]
     },
     "metadata": {
      "needs_background": "light"
     },
     "output_type": "display_data"
    }
   ],
   "source": [
    "pyplot.figure(figsize=(15,10))\n",
    "\n",
    "fpr,tpr,roc_auc = rocinfo(prediction_prob) \n",
    "pyplot.plot(fpr[0], tpr[0],color='blue', lw=1, label='CSCNN - ROC curve (area = %0.2f)' % roc_auc[0])\n",
    "\n",
    "fpr,tpr,roc_auc = rocinfo(CS_LRprob[:,1]) \n",
    "pyplot.plot(fpr[0], tpr[0],color='yellow', lw=1, label='CSCNN-LR - ROC curve (area = %0.2f)' % roc_auc[0])\n",
    "\n",
    "fpr,tpr,roc_auc = rocinfo(CS_RFprob[:,1]) \n",
    "pyplot.plot(fpr[0], tpr[0],color='brown', lw=1, label='CSCNN-RF - ROC curve (area = %0.2f)' % roc_auc[0])\n",
    "\n",
    "fpr,tpr,roc_auc = rocinfo(CS_DTprob[:,1]) \n",
    "pyplot.plot(fpr[0], tpr[0],color='darkorange', lw=1, label='CSCNN-DT - ROC curve (area = %0.2f)' % roc_auc[0])\n",
    "\n",
    "fpr,tpr,roc_auc = rocinfo(CS_KNNprob[:,1]) \n",
    "pyplot.plot(fpr[0], tpr[0],color='green', lw=1, label='CSCNN-KNN - ROC curve (area = %0.2f)' % roc_auc[0])\n",
    "\n",
    "fpr,tpr,roc_auc = rocinfo(CS_GNBprob[:,1]) \n",
    "pyplot.plot(fpr[0], tpr[0],color='cyan', lw=1, label='CSCNN-GNB - ROC curve (area = %0.2f)' % roc_auc[0])\n",
    "\n",
    "fpr,tpr,roc_auc = rocinfo(CS_ABprob[:,1]) \n",
    "pyplot.plot(fpr[0], tpr[0],color='magenta', lw=1, label='CSCNN-AB - ROC curve (area = %0.2f)' % roc_auc[0])\n",
    "\n",
    "fpr,tpr,roc_auc = rocinfo(CS_LSVMprob[:,1]) \n",
    "pyplot.plot(fpr[0], tpr[0],color='black', lw=1, label='CSCNN-LSVM - ROC curve (area = %0.2f)' % roc_auc[0])\n",
    "\n",
    "fpr,tpr,roc_auc = rocinfo(CS_RSVMprob[:,1]) \n",
    "pyplot.plot(fpr[0], tpr[0],color='pink', lw=1, label='CSCNN-RSVM - ROC curve (area = %0.2f)' % roc_auc[0])\n",
    "\n",
    "pyplot.plot([0, 1], [0, 1], color='red', lw=1, linestyle='--')\n",
    "pyplot.xlim([0.0, 1.0])\n",
    "pyplot.ylim([0.0, 1.05])\n",
    "pyplot.xlabel('False Positive Rate')\n",
    "pyplot.ylabel('True Positive Rate')\n",
    "pyplot.title('CNN - Receiver operating characteristic')\n",
    "pyplot.legend(loc=\"lower right\")\n",
    "pyplot.show()"
   ]
  },
  {
   "cell_type": "code",
   "execution_count": null,
   "metadata": {
    "colab": {},
    "colab_type": "code",
    "id": "OzWSRgxLQAgF"
   },
   "outputs": [],
   "source": []
  }
 ],
 "metadata": {
  "accelerator": "GPU",
  "colab": {
   "collapsed_sections": [],
   "name": "Image_spam_hunter",
   "provenance": []
  },
  "kernelspec": {
   "display_name": "Python 3 (ipykernel)",
   "language": "python",
   "name": "python3"
  },
  "language_info": {
   "codemirror_mode": {
    "name": "ipython",
    "version": 3
   },
   "file_extension": ".py",
   "mimetype": "text/x-python",
   "name": "python",
   "nbconvert_exporter": "python",
   "pygments_lexer": "ipython3",
   "version": "3.9.7"
  }
 },
 "nbformat": 4,
 "nbformat_minor": 1
}
